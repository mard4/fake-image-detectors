{
 "cells": [
  {
   "cell_type": "code",
   "execution_count": null,
   "metadata": {},
   "outputs": [],
   "source": [
    "from diffusers import StableDiffusionXLPipeline\n",
    "import torch\n",
    "from accelerate import infer_auto_device_map\n",
    "import random\n",
    "from PIL import Image\n",
    "\n",
    "# Carica il modello dalla piattaforma Hugging Face\n",
    "model_id = \"stabilityai/stable-diffusion-xl-base-1.0\"\n",
    "\n",
    "# Configura la pipeline\n",
    "pipeline = StableDiffusionXLPipeline.from_pretrained(\n",
    "    model_id, \n",
    "    torch_dtype=torch.float16, \n",
    "    use_safetensors=True  # Per performance migliori\n",
    ").to(\"cuda\")"
   ]
  },
  {
   "cell_type": "code",
   "execution_count": null,
   "metadata": {},
   "outputs": [],
   "source": [
    "# Prompt di esempio\n",
    "prompt = \"A futuristic cityscape illuminated by neon lights at sunset, with towering skyscrapers made of glass and steel, flying vehicles in the sky, a bustling street market with diverse people, vibrant colors, hyper-realistic details, cinematic lighting, intricate reflections on the buildings, soft pink and orange hues in the sky, ultra-high definition, photorealistic, realistic photo.\"\n",
    "negative = \"blurry, low quality, pixelated, out of focus, overexposed, underexposed, cartoonish, 2D art, poorly detailed, text artifacts, watermark, deformed buildings, unrealistic proportions, grainy textures, flat colors, monochrome, color bleeding, low resolution, bad composition.\"\n",
    "\n",
    "num_inference_steps=50\n",
    "guidance_scale=7.5\n",
    "\n",
    "height = 1024  # Altezza in pixel\n",
    "width = 1024  # Larghezza in pixel\n",
    "\n",
    "# random seed\n",
    "seed = random.randint(8, 2**32-1)\n",
    "print(\"Using Seed: \",seed)\n",
    "generator = torch.Generator(device=\"cpu\").manual_seed(seed)\n",
    "\n",
    "# Generazione dell'immagine\n",
    "image = pipeline(\n",
    "    prompt=prompt,\n",
    "    negative_prompt=negative,                   # Prompt negativo\n",
    "    height=height,\n",
    "    width=width,\n",
    "    num_inference_steps=num_inference_steps,    # Passi di inferenza (maggiore = più dettagli)\n",
    "    guidance_scale= guidance_scale,              # Peso per il prompt (maggiore = risultati più aderenti)\n",
    "    generator=generator\n",
    ").images[0]\n",
    "\n",
    "# Salva l'immagine generata\n",
    "image.save(\"output_image.png\")\n"
   ]
  },
  {
   "cell_type": "code",
   "execution_count": null,
   "metadata": {},
   "outputs": [
    {
     "name": "stderr",
     "output_type": "stream",
     "text": [
      "/home/thomasl/anaconda3/envs/launderingTest/lib/python3.11/site-packages/tqdm/auto.py:21: TqdmWarning: IProgress not found. Please update jupyter and ipywidgets. See https://ipywidgets.readthedocs.io/en/stable/user_install.html\n",
      "  from .autonotebook import tqdm as notebook_tqdm\n",
      "Loading pipeline components...: 100%|██████████| 5/5 [00:01<00:00,  3.65it/s]\n",
      "You have disabled the safety checker for <class 'diffusers.pipelines.stable_diffusion.pipeline_stable_diffusion_img2img.StableDiffusionImg2ImgPipeline'> by passing `safety_checker=None`. Ensure that you abide to the conditions of the Stable Diffusion license and do not expose unfiltered results in services or applications open to the public. Both the diffusers team and Hugging Face strongly recommend to keep the safety filter enabled in all public facing circumstances, disabling it only for use-cases that involve analyzing network behavior or auditing its results. For more information, please have a look at https://github.com/huggingface/diffusers/pull/254 .\n"
     ]
    }
   ],
   "source": [
    "from diffusers import StableDiffusionImg2ImgPipeline\n",
    "from PIL import Image\n",
    "import torch\n",
    "\n",
    "# Carica la pipeline\n",
    "model_id = \"stabilityai/stable-diffusion-xl-base-1.0\"\n",
    "pipeline = StableDiffusionImg2ImgPipeline.from_pretrained(\n",
    "    model_id, \n",
    "    torch_dtype=torch.float16\n",
    ")\n",
    "\n",
    "# Carica l'immagine di input\n",
    "input_image = Image.open(\"00045.png\").convert(\"RGB\")  # Assicurati che sia RGB\n",
    "\n",
    "# Prompt generico (può essere neutro)\n",
    "prompt = \"\"\n",
    "\n",
    "# Applica il processo img2img con strength=0\n",
    "output = pipeline(\n",
    "    prompt=prompt, \n",
    "    image=input_image, \n",
    "    strength=0.0,  # Non introduce noise aggiuntivo\n",
    "    use_safetensors=True  # Per performance migliori\n",
    ")\n",
    "\n",
    "# Salva l'immagine risultante\n",
    "output_image = output.images[0]\n",
    "output_image.save(\"laundered_image.png\")"
   ]
  }
 ],
 "metadata": {
  "kernelspec": {
   "display_name": "launderingTest",
   "language": "python",
   "name": "python3"
  },
  "language_info": {
   "codemirror_mode": {
    "name": "ipython",
    "version": 3
   },
   "file_extension": ".py",
   "mimetype": "text/x-python",
   "name": "python",
   "nbconvert_exporter": "python",
   "pygments_lexer": "ipython3",
   "version": "3.11.10"
  }
 },
 "nbformat": 4,
 "nbformat_minor": 2
}
