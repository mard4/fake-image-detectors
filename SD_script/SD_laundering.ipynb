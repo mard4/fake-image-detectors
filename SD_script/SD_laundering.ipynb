{
 "cells": [
  {
   "cell_type": "markdown",
   "metadata": {},
   "source": [
    "# Export by strenghts\n",
    "\n",
    "## Strenghts values to try out:\n",
    "0, 0.05, 0.1, 0.15 e 0.2 di strength\n",
    "\n",
    "## Output\n",
    "folder: dataset_str_00\n",
    "imgs: file name stays the same\n",
    "\n",
    "- Try also SD2\n",
    "\n"
   ]
  },
  {
   "cell_type": "code",
   "execution_count": null,
   "metadata": {},
   "outputs": [],
   "source": [
    "# unzip image folder\n",
    "zip_file_path = \"/media/SSD_mmlab/martina.dangelo/fake-image-detectors/SD_script/input_imgs/Dataset.zip\"\n",
    "import zipfile\n",
    "import os\n",
    "destination_dir = \"/media/SSD_mmlab/martina.dangelo/fake-image-detectors/SD_script/input_imgs/\"\n",
    "os.makedirs(destination_dir, exist_ok=True)\n",
    "with zipfile.ZipFile(zip_file_path, 'r') as zip_ref:\n",
    "    zip_ref.extractall(destination_dir)\n",
    "print(f\"Files extracted to {destination_dir}\")"
   ]
  },
  {
   "cell_type": "code",
   "execution_count": 7,
   "metadata": {},
   "outputs": [
    {
     "name": "stderr",
     "output_type": "stream",
     "text": [
      "Loading pipeline components...: 100%|██████████| 7/7 [00:02<00:00,  2.95it/s]\n"
     ]
    }
   ],
   "source": [
    "import torch\n",
    "from diffusers import StableDiffusionImg2ImgPipeline, StableDiffusionXLImg2ImgPipeline\n",
    "from PIL import Image\n",
    "import random\n",
    "import os\n",
    "\n",
    "model_id = \"stabilityai/stable-diffusion-xl-base-1.0\"\n",
    "# Load the img2img pipeline\n",
    "pipeline = StableDiffusionXLImg2ImgPipeline.from_pretrained(\n",
    "    model_id,\n",
    "    torch_dtype=torch.float16,\n",
    ").to(\"cuda\")\n"
   ]
  },
  {
   "cell_type": "markdown",
   "metadata": {},
   "source": [
    "# Guida ai Parametri di Stable Diffusion XL\n",
    "\n",
    "---\n",
    "\n",
    "## **`num_inference_steps`**\n",
    "**Descrizione**: Numero di iterazioni che il modello esegue per generare l'immagine.  \n",
    "**Intervallo di valori comuni**: 20–100.  \n",
    "\n",
    "### Effetti:\n",
    "- **Valori bassi** (es. 20–30): più veloci ma con meno dettagli e stabilità.\n",
    "- **Valori alti** (es. 50–100): immagini più dettagliate e stabili, ma più lente da calcolare.\n",
    "\n",
    "---\n",
    "\n",
    "## **`guidance_scale`**\n",
    "**Descrizione**: Quanto il modello aderisce al prompt rispetto alla sua creatività.  \n",
    "**Intervallo di valori comuni**: 5.0–15.0.  \n",
    "\n",
    "### Effetti:\n",
    "- **Valori bassi** (5.0–7.0): generazioni più creative e meno vincolate al prompt.\n",
    "- **Valori alti** (10.0–15.0): generazioni più aderenti al prompt, ma meno creative.\n",
    "\n",
    "### Suggerimenti:\n",
    "- Usa valori **alti** per risultati precisi (es. 12.0).\n",
    "- Usa valori **bassi** per esplorare variazioni creative.\n",
    "\n",
    "---\n",
    "\n",
    "## **`strength`**\n",
    "**Descrizione**: Controlla quanto l'immagine iniziale influenza il risultato finale.  \n",
    "**Intervallo di valori comuni**: 0.1–1.0.  \n",
    "\n",
    "### Effetti:\n",
    "- **Valori bassi** (0.1–0.4): preservano molti dettagli dell'immagine iniziale.\n",
    "- **Valori alti** (0.7–1.0): trasformano maggiormente l'immagine iniziale secondo il prompt.\n",
    "\n",
    "### Suggerimenti:\n",
    "- Usa valori **bassi** per modifiche leggere.\n",
    "- Usa valori **alti** per cambiamenti radicali.\n",
    "\n",
    "---"
   ]
  },
  {
   "cell_type": "code",
   "execution_count": 17,
   "metadata": {},
   "outputs": [
    {
     "name": "stderr",
     "output_type": "stream",
     "text": [
      "100%|██████████| 2/2 [00:00<00:00,  6.77it/s]:00<?, ?file/s]\n",
      "Processing Images:   0%|          | 1/500 [00:01<15:15,  1.83s/file]"
     ]
    },
    {
     "name": "stdout",
     "output_type": "stream",
     "text": [
      "Generated image saved at: dataset_str_0.05/05547-1.png\n"
     ]
    },
    {
     "name": "stderr",
     "output_type": "stream",
     "text": [
      "100%|██████████| 2/2 [00:00<00:00,  8.25it/s]\n",
      "Processing Images:   0%|          | 2/500 [00:03<13:56,  1.68s/file]"
     ]
    },
    {
     "name": "stdout",
     "output_type": "stream",
     "text": [
      "Generated image saved at: dataset_str_0.05/13765-1.png\n"
     ]
    },
    {
     "name": "stderr",
     "output_type": "stream",
     "text": [
      "100%|██████████| 2/2 [00:00<00:00,  8.23it/s]\n",
      "Processing Images:   1%|          | 3/500 [00:05<14:05,  1.70s/file]"
     ]
    },
    {
     "name": "stdout",
     "output_type": "stream",
     "text": [
      "Generated image saved at: dataset_str_0.05/18975-3.png\n"
     ]
    },
    {
     "name": "stderr",
     "output_type": "stream",
     "text": [
      "100%|██████████| 2/2 [00:00<00:00,  8.26it/s]\n",
      "Processing Images:   1%|          | 4/500 [00:06<13:41,  1.66s/file]"
     ]
    },
    {
     "name": "stdout",
     "output_type": "stream",
     "text": [
      "Generated image saved at: dataset_str_0.05/42947-1.png\n"
     ]
    },
    {
     "name": "stderr",
     "output_type": "stream",
     "text": [
      "100%|██████████| 2/2 [00:00<00:00,  8.21it/s]\n",
      "Processing Images:   1%|          | 5/500 [00:08<13:49,  1.68s/file]"
     ]
    },
    {
     "name": "stdout",
     "output_type": "stream",
     "text": [
      "Generated image saved at: dataset_str_0.05/29653-3.png\n"
     ]
    },
    {
     "name": "stderr",
     "output_type": "stream",
     "text": [
      "100%|██████████| 2/2 [00:00<00:00,  8.29it/s]\n",
      "Processing Images:   1%|          | 6/500 [00:10<13:50,  1.68s/file]"
     ]
    },
    {
     "name": "stdout",
     "output_type": "stream",
     "text": [
      "Generated image saved at: dataset_str_0.05/18442-5.png\n"
     ]
    },
    {
     "name": "stderr",
     "output_type": "stream",
     "text": [
      "100%|██████████| 2/2 [00:00<00:00,  8.28it/s]\n",
      "Processing Images:   1%|▏         | 7/500 [00:11<13:53,  1.69s/file]"
     ]
    },
    {
     "name": "stdout",
     "output_type": "stream",
     "text": [
      "Generated image saved at: dataset_str_0.05/35544-2.png\n"
     ]
    },
    {
     "name": "stderr",
     "output_type": "stream",
     "text": [
      "100%|██████████| 2/2 [00:00<00:00,  8.31it/s]\n",
      "Processing Images:   2%|▏         | 8/500 [00:13<13:50,  1.69s/file]"
     ]
    },
    {
     "name": "stdout",
     "output_type": "stream",
     "text": [
      "Generated image saved at: dataset_str_0.05/41952-5.png\n"
     ]
    },
    {
     "name": "stderr",
     "output_type": "stream",
     "text": [
      "100%|██████████| 2/2 [00:00<00:00,  8.30it/s]\n",
      "Processing Images:   2%|▏         | 9/500 [00:15<13:37,  1.67s/file]"
     ]
    },
    {
     "name": "stdout",
     "output_type": "stream",
     "text": [
      "Generated image saved at: dataset_str_0.05/13765-4.png\n"
     ]
    },
    {
     "name": "stderr",
     "output_type": "stream",
     "text": [
      "100%|██████████| 2/2 [00:00<00:00,  8.31it/s]\n",
      "Processing Images:   2%|▏         | 10/500 [00:16<13:50,  1.69s/file]"
     ]
    },
    {
     "name": "stdout",
     "output_type": "stream",
     "text": [
      "Generated image saved at: dataset_str_0.05/27381-4.png\n"
     ]
    },
    {
     "name": "stderr",
     "output_type": "stream",
     "text": [
      "100%|██████████| 2/2 [00:00<00:00,  8.28it/s]\n",
      "Processing Images:   2%|▏         | 11/500 [00:18<13:36,  1.67s/file]"
     ]
    },
    {
     "name": "stdout",
     "output_type": "stream",
     "text": [
      "Generated image saved at: dataset_str_0.05/05219-2.png\n"
     ]
    },
    {
     "name": "stderr",
     "output_type": "stream",
     "text": [
      "100%|██████████| 2/2 [00:00<00:00,  8.28it/s]\n",
      "Processing Images:   2%|▏         | 12/500 [00:20<13:40,  1.68s/file]"
     ]
    },
    {
     "name": "stdout",
     "output_type": "stream",
     "text": [
      "Generated image saved at: dataset_str_0.05/12339-1.png\n"
     ]
    },
    {
     "name": "stderr",
     "output_type": "stream",
     "text": [
      "100%|██████████| 2/2 [00:00<00:00,  8.30it/s]\n",
      "Processing Images:   3%|▎         | 13/500 [00:21<13:38,  1.68s/file]"
     ]
    },
    {
     "name": "stdout",
     "output_type": "stream",
     "text": [
      "Generated image saved at: dataset_str_0.05/48026-4.png\n"
     ]
    },
    {
     "name": "stderr",
     "output_type": "stream",
     "text": [
      "100%|██████████| 2/2 [00:00<00:00,  8.26it/s]\n",
      "Processing Images:   3%|▎         | 14/500 [00:23<13:35,  1.68s/file]"
     ]
    },
    {
     "name": "stdout",
     "output_type": "stream",
     "text": [
      "Generated image saved at: dataset_str_0.05/01757-1.png\n"
     ]
    },
    {
     "name": "stderr",
     "output_type": "stream",
     "text": [
      "100%|██████████| 2/2 [00:00<00:00,  8.28it/s]\n",
      "Processing Images:   3%|▎         | 15/500 [00:25<13:43,  1.70s/file]"
     ]
    },
    {
     "name": "stdout",
     "output_type": "stream",
     "text": [
      "Generated image saved at: dataset_str_0.05/14178-1.png\n"
     ]
    },
    {
     "name": "stderr",
     "output_type": "stream",
     "text": [
      "100%|██████████| 2/2 [00:00<00:00,  8.28it/s]\n",
      "Processing Images:   3%|▎         | 16/500 [00:27<13:48,  1.71s/file]"
     ]
    },
    {
     "name": "stdout",
     "output_type": "stream",
     "text": [
      "Generated image saved at: dataset_str_0.05/20543-1.png\n"
     ]
    },
    {
     "name": "stderr",
     "output_type": "stream",
     "text": [
      "100%|██████████| 2/2 [00:00<00:00,  8.31it/s]\n",
      "Processing Images:   3%|▎         | 17/500 [00:28<13:45,  1.71s/file]"
     ]
    },
    {
     "name": "stdout",
     "output_type": "stream",
     "text": [
      "Generated image saved at: dataset_str_0.05/19296-5.png\n"
     ]
    },
    {
     "name": "stderr",
     "output_type": "stream",
     "text": [
      "100%|██████████| 2/2 [00:00<00:00,  8.29it/s]\n",
      "Processing Images:   4%|▎         | 18/500 [00:30<13:33,  1.69s/file]"
     ]
    },
    {
     "name": "stdout",
     "output_type": "stream",
     "text": [
      "Generated image saved at: dataset_str_0.05/43551-1.png\n"
     ]
    },
    {
     "name": "stderr",
     "output_type": "stream",
     "text": [
      "100%|██████████| 2/2 [00:00<00:00,  8.18it/s]\n",
      "Processing Images:   4%|▍         | 19/500 [00:32<13:36,  1.70s/file]"
     ]
    },
    {
     "name": "stdout",
     "output_type": "stream",
     "text": [
      "Generated image saved at: dataset_str_0.05/47551-4.png\n"
     ]
    },
    {
     "name": "stderr",
     "output_type": "stream",
     "text": [
      "100%|██████████| 2/2 [00:00<00:00,  8.19it/s]\n",
      "Processing Images:   4%|▍         | 20/500 [00:33<13:33,  1.70s/file]"
     ]
    },
    {
     "name": "stdout",
     "output_type": "stream",
     "text": [
      "Generated image saved at: dataset_str_0.05/01556-5.png\n"
     ]
    },
    {
     "name": "stderr",
     "output_type": "stream",
     "text": [
      "100%|██████████| 2/2 [00:00<00:00,  8.23it/s]\n",
      "Processing Images:   4%|▍         | 21/500 [00:35<13:36,  1.71s/file]"
     ]
    },
    {
     "name": "stdout",
     "output_type": "stream",
     "text": [
      "Generated image saved at: dataset_str_0.05/19296-4.png\n"
     ]
    },
    {
     "name": "stderr",
     "output_type": "stream",
     "text": [
      "100%|██████████| 2/2 [00:00<00:00,  8.23it/s]\n",
      "Processing Images:   4%|▍         | 22/500 [00:37<13:41,  1.72s/file]"
     ]
    },
    {
     "name": "stdout",
     "output_type": "stream",
     "text": [
      "Generated image saved at: dataset_str_0.05/47768-1.png\n"
     ]
    },
    {
     "name": "stderr",
     "output_type": "stream",
     "text": [
      "100%|██████████| 2/2 [00:00<00:00,  8.18it/s]\n",
      "Processing Images:   5%|▍         | 23/500 [00:39<13:44,  1.73s/file]"
     ]
    },
    {
     "name": "stdout",
     "output_type": "stream",
     "text": [
      "Generated image saved at: dataset_str_0.05/48480-3.png\n"
     ]
    },
    {
     "name": "stderr",
     "output_type": "stream",
     "text": [
      "100%|██████████| 2/2 [00:00<00:00,  8.23it/s]\n",
      "Processing Images:   5%|▍         | 24/500 [00:40<13:38,  1.72s/file]"
     ]
    },
    {
     "name": "stdout",
     "output_type": "stream",
     "text": [
      "Generated image saved at: dataset_str_0.05/41952-2.png\n"
     ]
    },
    {
     "name": "stderr",
     "output_type": "stream",
     "text": [
      "100%|██████████| 2/2 [00:00<00:00,  8.18it/s]\n",
      "Processing Images:   5%|▌         | 25/500 [00:42<13:32,  1.71s/file]"
     ]
    },
    {
     "name": "stdout",
     "output_type": "stream",
     "text": [
      "Generated image saved at: dataset_str_0.05/34372-2.png\n"
     ]
    },
    {
     "name": "stderr",
     "output_type": "stream",
     "text": [
      "100%|██████████| 2/2 [00:00<00:00,  8.24it/s]\n",
      "Processing Images:   5%|▌         | 26/500 [00:44<13:33,  1.72s/file]"
     ]
    },
    {
     "name": "stdout",
     "output_type": "stream",
     "text": [
      "Generated image saved at: dataset_str_0.05/45030-1.png\n"
     ]
    },
    {
     "name": "stderr",
     "output_type": "stream",
     "text": [
      "100%|██████████| 2/2 [00:00<00:00,  8.19it/s]\n",
      "Processing Images:   5%|▌         | 27/500 [00:45<13:27,  1.71s/file]"
     ]
    },
    {
     "name": "stdout",
     "output_type": "stream",
     "text": [
      "Generated image saved at: dataset_str_0.05/41909-3.png\n"
     ]
    },
    {
     "name": "stderr",
     "output_type": "stream",
     "text": [
      "100%|██████████| 2/2 [00:00<00:00,  8.18it/s]\n",
      "Processing Images:   6%|▌         | 28/500 [00:47<13:09,  1.67s/file]"
     ]
    },
    {
     "name": "stdout",
     "output_type": "stream",
     "text": [
      "Generated image saved at: dataset_str_0.05/18975-2.png\n"
     ]
    },
    {
     "name": "stderr",
     "output_type": "stream",
     "text": [
      "100%|██████████| 2/2 [00:00<00:00,  8.18it/s]\n",
      "Processing Images:   6%|▌         | 29/500 [00:49<13:04,  1.67s/file]"
     ]
    },
    {
     "name": "stdout",
     "output_type": "stream",
     "text": [
      "Generated image saved at: dataset_str_0.05/24385-4.png\n"
     ]
    },
    {
     "name": "stderr",
     "output_type": "stream",
     "text": [
      "100%|██████████| 2/2 [00:00<00:00,  8.22it/s]\n",
      "Processing Images:   6%|▌         | 30/500 [00:50<13:16,  1.70s/file]"
     ]
    },
    {
     "name": "stdout",
     "output_type": "stream",
     "text": [
      "Generated image saved at: dataset_str_0.05/47768-3.png\n"
     ]
    },
    {
     "name": "stderr",
     "output_type": "stream",
     "text": [
      "100%|██████████| 2/2 [00:00<00:00,  8.29it/s]\n",
      "Processing Images:   6%|▌         | 31/500 [00:52<13:11,  1.69s/file]"
     ]
    },
    {
     "name": "stdout",
     "output_type": "stream",
     "text": [
      "Generated image saved at: dataset_str_0.05/38566-3.png\n"
     ]
    },
    {
     "name": "stderr",
     "output_type": "stream",
     "text": [
      "100%|██████████| 2/2 [00:00<00:00,  8.28it/s]\n",
      "Processing Images:   6%|▋         | 32/500 [00:54<13:02,  1.67s/file]"
     ]
    },
    {
     "name": "stdout",
     "output_type": "stream",
     "text": [
      "Generated image saved at: dataset_str_0.05/36063-4.png\n"
     ]
    },
    {
     "name": "stderr",
     "output_type": "stream",
     "text": [
      "100%|██████████| 2/2 [00:00<00:00,  8.29it/s]\n",
      "Processing Images:   7%|▋         | 33/500 [00:55<13:06,  1.68s/file]"
     ]
    },
    {
     "name": "stdout",
     "output_type": "stream",
     "text": [
      "Generated image saved at: dataset_str_0.05/45693-3.png\n"
     ]
    },
    {
     "name": "stderr",
     "output_type": "stream",
     "text": [
      "100%|██████████| 2/2 [00:00<00:00,  8.30it/s]\n",
      "Processing Images:   7%|▋         | 34/500 [00:57<13:12,  1.70s/file]"
     ]
    },
    {
     "name": "stdout",
     "output_type": "stream",
     "text": [
      "Generated image saved at: dataset_str_0.05/19296-2.png\n"
     ]
    },
    {
     "name": "stderr",
     "output_type": "stream",
     "text": [
      "100%|██████████| 2/2 [00:00<00:00,  8.29it/s]\n",
      "Processing Images:   7%|▋         | 35/500 [00:59<12:51,  1.66s/file]"
     ]
    },
    {
     "name": "stdout",
     "output_type": "stream",
     "text": [
      "Generated image saved at: dataset_str_0.05/36472-3.png\n"
     ]
    },
    {
     "name": "stderr",
     "output_type": "stream",
     "text": [
      "100%|██████████| 2/2 [00:00<00:00,  8.22it/s]\n",
      "Processing Images:   7%|▋         | 36/500 [01:00<12:46,  1.65s/file]"
     ]
    },
    {
     "name": "stdout",
     "output_type": "stream",
     "text": [
      "Generated image saved at: dataset_str_0.05/36063-2.png\n"
     ]
    },
    {
     "name": "stderr",
     "output_type": "stream",
     "text": [
      "100%|██████████| 2/2 [00:00<00:00,  8.16it/s]\n",
      "Processing Images:   7%|▋         | 37/500 [01:02<12:53,  1.67s/file]"
     ]
    },
    {
     "name": "stdout",
     "output_type": "stream",
     "text": [
      "Generated image saved at: dataset_str_0.05/12339-3.png\n"
     ]
    },
    {
     "name": "stderr",
     "output_type": "stream",
     "text": [
      "100%|██████████| 2/2 [00:00<00:00,  8.20it/s]\n",
      "Processing Images:   8%|▊         | 38/500 [01:04<12:45,  1.66s/file]"
     ]
    },
    {
     "name": "stdout",
     "output_type": "stream",
     "text": [
      "Generated image saved at: dataset_str_0.05/36529-1.png\n"
     ]
    },
    {
     "name": "stderr",
     "output_type": "stream",
     "text": [
      "100%|██████████| 2/2 [00:00<00:00,  8.19it/s]\n",
      "Processing Images:   8%|▊         | 39/500 [01:05<12:53,  1.68s/file]"
     ]
    },
    {
     "name": "stdout",
     "output_type": "stream",
     "text": [
      "Generated image saved at: dataset_str_0.05/04931-1.png\n"
     ]
    },
    {
     "name": "stderr",
     "output_type": "stream",
     "text": [
      "100%|██████████| 2/2 [00:00<00:00,  8.22it/s]\n",
      "Processing Images:   8%|▊         | 40/500 [01:07<12:57,  1.69s/file]"
     ]
    },
    {
     "name": "stdout",
     "output_type": "stream",
     "text": [
      "Generated image saved at: dataset_str_0.05/15516-4.png\n"
     ]
    },
    {
     "name": "stderr",
     "output_type": "stream",
     "text": [
      "100%|██████████| 2/2 [00:00<00:00,  8.19it/s]\n",
      "Processing Images:   8%|▊         | 41/500 [01:09<12:48,  1.68s/file]"
     ]
    },
    {
     "name": "stdout",
     "output_type": "stream",
     "text": [
      "Generated image saved at: dataset_str_0.05/09618-1.png\n"
     ]
    },
    {
     "name": "stderr",
     "output_type": "stream",
     "text": [
      "100%|██████████| 2/2 [00:00<00:00,  8.22it/s]\n",
      "Processing Images:   8%|▊         | 42/500 [01:10<12:46,  1.67s/file]"
     ]
    },
    {
     "name": "stdout",
     "output_type": "stream",
     "text": [
      "Generated image saved at: dataset_str_0.05/48480-4.png\n"
     ]
    },
    {
     "name": "stderr",
     "output_type": "stream",
     "text": [
      "100%|██████████| 2/2 [00:00<00:00,  8.09it/s]\n",
      "Processing Images:   9%|▊         | 43/500 [01:12<12:54,  1.70s/file]"
     ]
    },
    {
     "name": "stdout",
     "output_type": "stream",
     "text": [
      "Generated image saved at: dataset_str_0.05/07984-3.png\n"
     ]
    },
    {
     "name": "stderr",
     "output_type": "stream",
     "text": [
      "100%|██████████| 2/2 [00:00<00:00,  8.19it/s]\n",
      "Processing Images:   9%|▉         | 44/500 [01:14<12:53,  1.70s/file]"
     ]
    },
    {
     "name": "stdout",
     "output_type": "stream",
     "text": [
      "Generated image saved at: dataset_str_0.05/05219-3.png\n"
     ]
    },
    {
     "name": "stderr",
     "output_type": "stream",
     "text": [
      "100%|██████████| 2/2 [00:00<00:00,  8.17it/s]\n",
      "Processing Images:   9%|▉         | 45/500 [01:16<12:50,  1.69s/file]"
     ]
    },
    {
     "name": "stdout",
     "output_type": "stream",
     "text": [
      "Generated image saved at: dataset_str_0.05/01757-5.png\n"
     ]
    },
    {
     "name": "stderr",
     "output_type": "stream",
     "text": [
      "100%|██████████| 2/2 [00:00<00:00,  8.18it/s]\n",
      "Processing Images:   9%|▉         | 46/500 [01:17<12:59,  1.72s/file]"
     ]
    },
    {
     "name": "stdout",
     "output_type": "stream",
     "text": [
      "Generated image saved at: dataset_str_0.05/32042-4.png\n"
     ]
    },
    {
     "name": "stderr",
     "output_type": "stream",
     "text": [
      "100%|██████████| 2/2 [00:00<00:00,  7.80it/s]\n",
      "Processing Images:   9%|▉         | 47/500 [01:19<13:02,  1.73s/file]"
     ]
    },
    {
     "name": "stdout",
     "output_type": "stream",
     "text": [
      "Generated image saved at: dataset_str_0.05/05547-3.png\n"
     ]
    },
    {
     "name": "stderr",
     "output_type": "stream",
     "text": [
      "100%|██████████| 2/2 [00:00<00:00,  8.23it/s]\n",
      "Processing Images:  10%|▉         | 48/500 [01:21<12:59,  1.72s/file]"
     ]
    },
    {
     "name": "stdout",
     "output_type": "stream",
     "text": [
      "Generated image saved at: dataset_str_0.05/04242-3.png\n"
     ]
    },
    {
     "name": "stderr",
     "output_type": "stream",
     "text": [
      "100%|██████████| 2/2 [00:00<00:00,  8.13it/s]\n",
      "Processing Images:  10%|▉         | 49/500 [01:23<13:02,  1.73s/file]"
     ]
    },
    {
     "name": "stdout",
     "output_type": "stream",
     "text": [
      "Generated image saved at: dataset_str_0.05/29457-2.png\n"
     ]
    },
    {
     "name": "stderr",
     "output_type": "stream",
     "text": [
      "100%|██████████| 2/2 [00:00<00:00,  8.21it/s]\n",
      "Processing Images:  10%|█         | 50/500 [01:24<12:52,  1.72s/file]"
     ]
    },
    {
     "name": "stdout",
     "output_type": "stream",
     "text": [
      "Generated image saved at: dataset_str_0.05/10455-2.png\n"
     ]
    },
    {
     "name": "stderr",
     "output_type": "stream",
     "text": [
      "100%|██████████| 2/2 [00:00<00:00,  8.22it/s]\n",
      "Processing Images:  10%|█         | 51/500 [01:26<12:47,  1.71s/file]"
     ]
    },
    {
     "name": "stdout",
     "output_type": "stream",
     "text": [
      "Generated image saved at: dataset_str_0.05/09236-5.png\n"
     ]
    },
    {
     "name": "stderr",
     "output_type": "stream",
     "text": [
      "100%|██████████| 2/2 [00:00<00:00,  8.18it/s]\n",
      "Processing Images:  10%|█         | 52/500 [01:28<12:39,  1.70s/file]"
     ]
    },
    {
     "name": "stdout",
     "output_type": "stream",
     "text": [
      "Generated image saved at: dataset_str_0.05/34372-5.png\n"
     ]
    },
    {
     "name": "stderr",
     "output_type": "stream",
     "text": [
      "100%|██████████| 2/2 [00:00<00:00,  8.17it/s]\n",
      "Processing Images:  11%|█         | 53/500 [01:29<12:26,  1.67s/file]"
     ]
    },
    {
     "name": "stdout",
     "output_type": "stream",
     "text": [
      "Generated image saved at: dataset_str_0.05/13341-4.png\n"
     ]
    },
    {
     "name": "stderr",
     "output_type": "stream",
     "text": [
      "100%|██████████| 2/2 [00:00<00:00,  8.20it/s]\n",
      "Processing Images:  11%|█         | 54/500 [01:31<12:42,  1.71s/file]"
     ]
    },
    {
     "name": "stdout",
     "output_type": "stream",
     "text": [
      "Generated image saved at: dataset_str_0.05/31127-5.png\n"
     ]
    },
    {
     "name": "stderr",
     "output_type": "stream",
     "text": [
      "100%|██████████| 2/2 [00:00<00:00,  8.23it/s]\n",
      "Processing Images:  11%|█         | 55/500 [01:33<12:32,  1.69s/file]"
     ]
    },
    {
     "name": "stdout",
     "output_type": "stream",
     "text": [
      "Generated image saved at: dataset_str_0.05/36645-1.png\n"
     ]
    },
    {
     "name": "stderr",
     "output_type": "stream",
     "text": [
      "100%|██████████| 2/2 [00:00<00:00,  8.16it/s]\n",
      "Processing Images:  11%|█         | 56/500 [01:34<12:38,  1.71s/file]"
     ]
    },
    {
     "name": "stdout",
     "output_type": "stream",
     "text": [
      "Generated image saved at: dataset_str_0.05/12823-5.png\n"
     ]
    },
    {
     "name": "stderr",
     "output_type": "stream",
     "text": [
      "100%|██████████| 2/2 [00:00<00:00,  8.16it/s]\n",
      "Processing Images:  11%|█▏        | 57/500 [01:36<12:25,  1.68s/file]"
     ]
    },
    {
     "name": "stdout",
     "output_type": "stream",
     "text": [
      "Generated image saved at: dataset_str_0.05/28008-4.png\n"
     ]
    },
    {
     "name": "stderr",
     "output_type": "stream",
     "text": [
      "100%|██████████| 2/2 [00:00<00:00,  8.21it/s]\n",
      "Processing Images:  12%|█▏        | 58/500 [01:38<12:34,  1.71s/file]"
     ]
    },
    {
     "name": "stdout",
     "output_type": "stream",
     "text": [
      "Generated image saved at: dataset_str_0.05/31577-2.png\n"
     ]
    },
    {
     "name": "stderr",
     "output_type": "stream",
     "text": [
      "100%|██████████| 2/2 [00:00<00:00,  8.18it/s]\n",
      "Processing Images:  12%|█▏        | 59/500 [01:39<12:35,  1.71s/file]"
     ]
    },
    {
     "name": "stdout",
     "output_type": "stream",
     "text": [
      "Generated image saved at: dataset_str_0.05/01159-5.png\n"
     ]
    },
    {
     "name": "stderr",
     "output_type": "stream",
     "text": [
      "100%|██████████| 2/2 [00:00<00:00,  8.21it/s]\n",
      "Processing Images:  12%|█▏        | 60/500 [01:41<12:29,  1.70s/file]"
     ]
    },
    {
     "name": "stdout",
     "output_type": "stream",
     "text": [
      "Generated image saved at: dataset_str_0.05/35544-1.png\n"
     ]
    },
    {
     "name": "stderr",
     "output_type": "stream",
     "text": [
      "100%|██████████| 2/2 [00:00<00:00,  8.18it/s]\n",
      "Processing Images:  12%|█▏        | 61/500 [01:43<12:30,  1.71s/file]"
     ]
    },
    {
     "name": "stdout",
     "output_type": "stream",
     "text": [
      "Generated image saved at: dataset_str_0.05/15164-4.png\n"
     ]
    },
    {
     "name": "stderr",
     "output_type": "stream",
     "text": [
      "100%|██████████| 2/2 [00:00<00:00,  8.15it/s]\n",
      "Processing Images:  12%|█▏        | 62/500 [01:45<12:32,  1.72s/file]"
     ]
    },
    {
     "name": "stdout",
     "output_type": "stream",
     "text": [
      "Generated image saved at: dataset_str_0.05/26127-4.png\n"
     ]
    },
    {
     "name": "stderr",
     "output_type": "stream",
     "text": [
      "100%|██████████| 2/2 [00:00<00:00,  8.24it/s]\n",
      "Processing Images:  13%|█▎        | 63/500 [01:46<12:19,  1.69s/file]"
     ]
    },
    {
     "name": "stdout",
     "output_type": "stream",
     "text": [
      "Generated image saved at: dataset_str_0.05/36585-1.png\n"
     ]
    },
    {
     "name": "stderr",
     "output_type": "stream",
     "text": [
      "100%|██████████| 2/2 [00:00<00:00,  8.20it/s]\n",
      "Processing Images:  13%|█▎        | 64/500 [01:48<12:15,  1.69s/file]"
     ]
    },
    {
     "name": "stdout",
     "output_type": "stream",
     "text": [
      "Generated image saved at: dataset_str_0.05/05547-5.png\n"
     ]
    },
    {
     "name": "stderr",
     "output_type": "stream",
     "text": [
      "100%|██████████| 2/2 [00:00<00:00,  8.14it/s]\n",
      "Processing Images:  13%|█▎        | 65/500 [01:50<12:02,  1.66s/file]"
     ]
    },
    {
     "name": "stdout",
     "output_type": "stream",
     "text": [
      "Generated image saved at: dataset_str_0.05/09795-3.png\n"
     ]
    },
    {
     "name": "stderr",
     "output_type": "stream",
     "text": [
      "100%|██████████| 2/2 [00:00<00:00,  8.16it/s]\n",
      "Processing Images:  13%|█▎        | 66/500 [01:51<12:07,  1.68s/file]"
     ]
    },
    {
     "name": "stdout",
     "output_type": "stream",
     "text": [
      "Generated image saved at: dataset_str_0.05/13246-3.png\n"
     ]
    },
    {
     "name": "stderr",
     "output_type": "stream",
     "text": [
      "100%|██████████| 2/2 [00:00<00:00,  8.21it/s]\n",
      "Processing Images:  13%|█▎        | 67/500 [01:53<12:07,  1.68s/file]"
     ]
    },
    {
     "name": "stdout",
     "output_type": "stream",
     "text": [
      "Generated image saved at: dataset_str_0.05/26762-2.png\n"
     ]
    },
    {
     "name": "stderr",
     "output_type": "stream",
     "text": [
      "100%|██████████| 2/2 [00:00<00:00,  8.19it/s]\n",
      "Processing Images:  14%|█▎        | 68/500 [01:55<12:20,  1.71s/file]"
     ]
    },
    {
     "name": "stdout",
     "output_type": "stream",
     "text": [
      "Generated image saved at: dataset_str_0.05/31127-4.png\n"
     ]
    },
    {
     "name": "stderr",
     "output_type": "stream",
     "text": [
      "100%|██████████| 2/2 [00:00<00:00,  8.17it/s]\n",
      "Processing Images:  14%|█▍        | 69/500 [01:56<12:08,  1.69s/file]"
     ]
    },
    {
     "name": "stdout",
     "output_type": "stream",
     "text": [
      "Generated image saved at: dataset_str_0.05/27317-5.png\n"
     ]
    },
    {
     "name": "stderr",
     "output_type": "stream",
     "text": [
      "100%|██████████| 2/2 [00:00<00:00,  8.20it/s]\n",
      "Processing Images:  14%|█▍        | 70/500 [01:58<12:06,  1.69s/file]"
     ]
    },
    {
     "name": "stdout",
     "output_type": "stream",
     "text": [
      "Generated image saved at: dataset_str_0.05/43551-3.png\n"
     ]
    },
    {
     "name": "stderr",
     "output_type": "stream",
     "text": [
      "100%|██████████| 2/2 [00:00<00:00,  8.18it/s]\n",
      "Processing Images:  14%|█▍        | 71/500 [02:00<12:15,  1.71s/file]"
     ]
    },
    {
     "name": "stdout",
     "output_type": "stream",
     "text": [
      "Generated image saved at: dataset_str_0.05/32042-5.png\n"
     ]
    },
    {
     "name": "stderr",
     "output_type": "stream",
     "text": [
      "100%|██████████| 2/2 [00:00<00:00,  8.22it/s]\n",
      "Processing Images:  14%|█▍        | 72/500 [02:02<12:16,  1.72s/file]"
     ]
    },
    {
     "name": "stdout",
     "output_type": "stream",
     "text": [
      "Generated image saved at: dataset_str_0.05/47386-2.png\n"
     ]
    },
    {
     "name": "stderr",
     "output_type": "stream",
     "text": [
      "100%|██████████| 2/2 [00:00<00:00,  8.22it/s]\n",
      "Processing Images:  15%|█▍        | 73/500 [02:03<11:56,  1.68s/file]"
     ]
    },
    {
     "name": "stdout",
     "output_type": "stream",
     "text": [
      "Generated image saved at: dataset_str_0.05/01126-5.png\n"
     ]
    },
    {
     "name": "stderr",
     "output_type": "stream",
     "text": [
      "100%|██████████| 2/2 [00:00<00:00,  8.19it/s]\n",
      "Processing Images:  15%|█▍        | 74/500 [02:05<11:59,  1.69s/file]"
     ]
    },
    {
     "name": "stdout",
     "output_type": "stream",
     "text": [
      "Generated image saved at: dataset_str_0.05/09236-1.png\n"
     ]
    },
    {
     "name": "stderr",
     "output_type": "stream",
     "text": [
      "100%|██████████| 2/2 [00:00<00:00,  8.22it/s]\n",
      "Processing Images:  15%|█▌        | 75/500 [02:06<11:52,  1.68s/file]"
     ]
    },
    {
     "name": "stdout",
     "output_type": "stream",
     "text": [
      "Generated image saved at: dataset_str_0.05/04931-4.png\n"
     ]
    },
    {
     "name": "stderr",
     "output_type": "stream",
     "text": [
      "100%|██████████| 2/2 [00:00<00:00,  8.15it/s]\n",
      "Processing Images:  15%|█▌        | 76/500 [02:08<11:55,  1.69s/file]"
     ]
    },
    {
     "name": "stdout",
     "output_type": "stream",
     "text": [
      "Generated image saved at: dataset_str_0.05/15889-1.png\n"
     ]
    },
    {
     "name": "stderr",
     "output_type": "stream",
     "text": [
      "100%|██████████| 2/2 [00:00<00:00,  8.18it/s]\n",
      "Processing Images:  15%|█▌        | 77/500 [02:10<11:54,  1.69s/file]"
     ]
    },
    {
     "name": "stdout",
     "output_type": "stream",
     "text": [
      "Generated image saved at: dataset_str_0.05/38717-4.png\n"
     ]
    },
    {
     "name": "stderr",
     "output_type": "stream",
     "text": [
      "100%|██████████| 2/2 [00:00<00:00,  8.19it/s]\n",
      "Processing Images:  16%|█▌        | 78/500 [02:12<11:51,  1.69s/file]"
     ]
    },
    {
     "name": "stdout",
     "output_type": "stream",
     "text": [
      "Generated image saved at: dataset_str_0.05/39219-2.png\n"
     ]
    },
    {
     "name": "stderr",
     "output_type": "stream",
     "text": [
      "100%|██████████| 2/2 [00:00<00:00,  8.23it/s]\n",
      "Processing Images:  16%|█▌        | 79/500 [02:13<11:54,  1.70s/file]"
     ]
    },
    {
     "name": "stdout",
     "output_type": "stream",
     "text": [
      "Generated image saved at: dataset_str_0.05/08571-5.png\n"
     ]
    },
    {
     "name": "stderr",
     "output_type": "stream",
     "text": [
      "100%|██████████| 2/2 [00:00<00:00,  8.19it/s]\n",
      "Processing Images:  16%|█▌        | 80/500 [02:15<11:37,  1.66s/file]"
     ]
    },
    {
     "name": "stdout",
     "output_type": "stream",
     "text": [
      "Generated image saved at: dataset_str_0.05/27317-2.png\n"
     ]
    },
    {
     "name": "stderr",
     "output_type": "stream",
     "text": [
      "100%|██████████| 2/2 [00:00<00:00,  8.13it/s]\n",
      "Processing Images:  16%|█▌        | 81/500 [02:17<11:41,  1.68s/file]"
     ]
    },
    {
     "name": "stdout",
     "output_type": "stream",
     "text": [
      "Generated image saved at: dataset_str_0.05/35544-4.png\n"
     ]
    },
    {
     "name": "stderr",
     "output_type": "stream",
     "text": [
      "100%|██████████| 2/2 [00:00<00:00,  8.11it/s]\n",
      "Processing Images:  16%|█▋        | 82/500 [02:18<11:59,  1.72s/file]"
     ]
    },
    {
     "name": "stdout",
     "output_type": "stream",
     "text": [
      "Generated image saved at: dataset_str_0.05/22064-5.png\n"
     ]
    },
    {
     "name": "stderr",
     "output_type": "stream",
     "text": [
      "100%|██████████| 2/2 [00:00<00:00,  8.16it/s]\n",
      "Processing Images:  17%|█▋        | 83/500 [02:20<11:33,  1.66s/file]"
     ]
    },
    {
     "name": "stdout",
     "output_type": "stream",
     "text": [
      "Generated image saved at: dataset_str_0.05/35521-5.png\n"
     ]
    },
    {
     "name": "stderr",
     "output_type": "stream",
     "text": [
      "100%|██████████| 2/2 [00:00<00:00,  8.15it/s]\n",
      "Processing Images:  17%|█▋        | 84/500 [02:22<11:35,  1.67s/file]"
     ]
    },
    {
     "name": "stdout",
     "output_type": "stream",
     "text": [
      "Generated image saved at: dataset_str_0.05/29457-3.png\n"
     ]
    },
    {
     "name": "stderr",
     "output_type": "stream",
     "text": [
      "100%|██████████| 2/2 [00:00<00:00,  8.13it/s]\n",
      "Processing Images:  17%|█▋        | 85/500 [02:23<11:29,  1.66s/file]"
     ]
    },
    {
     "name": "stdout",
     "output_type": "stream",
     "text": [
      "Generated image saved at: dataset_str_0.05/09268-1.png\n"
     ]
    },
    {
     "name": "stderr",
     "output_type": "stream",
     "text": [
      "100%|██████████| 2/2 [00:00<00:00,  8.18it/s]\n",
      "Processing Images:  17%|█▋        | 86/500 [02:25<11:40,  1.69s/file]"
     ]
    },
    {
     "name": "stdout",
     "output_type": "stream",
     "text": [
      "Generated image saved at: dataset_str_0.05/40369-2.png\n"
     ]
    },
    {
     "name": "stderr",
     "output_type": "stream",
     "text": [
      "100%|██████████| 2/2 [00:00<00:00,  8.14it/s]\n",
      "Processing Images:  17%|█▋        | 87/500 [02:27<11:44,  1.71s/file]"
     ]
    },
    {
     "name": "stdout",
     "output_type": "stream",
     "text": [
      "Generated image saved at: dataset_str_0.05/02898-4.png\n"
     ]
    },
    {
     "name": "stderr",
     "output_type": "stream",
     "text": [
      "100%|██████████| 2/2 [00:00<00:00,  8.12it/s]\n",
      "Processing Images:  18%|█▊        | 88/500 [02:29<11:48,  1.72s/file]"
     ]
    },
    {
     "name": "stdout",
     "output_type": "stream",
     "text": [
      "Generated image saved at: dataset_str_0.05/41630-1.png\n"
     ]
    },
    {
     "name": "stderr",
     "output_type": "stream",
     "text": [
      "100%|██████████| 2/2 [00:00<00:00,  8.23it/s]\n",
      "Processing Images:  18%|█▊        | 89/500 [02:30<11:47,  1.72s/file]"
     ]
    },
    {
     "name": "stdout",
     "output_type": "stream",
     "text": [
      "Generated image saved at: dataset_str_0.05/02898-2.png\n"
     ]
    },
    {
     "name": "stderr",
     "output_type": "stream",
     "text": [
      "100%|██████████| 2/2 [00:00<00:00,  8.21it/s]\n",
      "Processing Images:  18%|█▊        | 90/500 [02:32<11:16,  1.65s/file]"
     ]
    },
    {
     "name": "stdout",
     "output_type": "stream",
     "text": [
      "Generated image saved at: dataset_str_0.05/36144-5.png\n"
     ]
    },
    {
     "name": "stderr",
     "output_type": "stream",
     "text": [
      "100%|██████████| 2/2 [00:00<00:00,  8.22it/s]\n",
      "Processing Images:  18%|█▊        | 91/500 [02:33<11:27,  1.68s/file]"
     ]
    },
    {
     "name": "stdout",
     "output_type": "stream",
     "text": [
      "Generated image saved at: dataset_str_0.05/12911-4.png\n"
     ]
    },
    {
     "name": "stderr",
     "output_type": "stream",
     "text": [
      "100%|██████████| 2/2 [00:00<00:00,  8.23it/s]\n",
      "Processing Images:  18%|█▊        | 92/500 [02:35<11:21,  1.67s/file]"
     ]
    },
    {
     "name": "stdout",
     "output_type": "stream",
     "text": [
      "Generated image saved at: dataset_str_0.05/35521-3.png\n"
     ]
    },
    {
     "name": "stderr",
     "output_type": "stream",
     "text": [
      "100%|██████████| 2/2 [00:00<00:00,  8.22it/s]\n",
      "Processing Images:  19%|█▊        | 93/500 [02:37<11:05,  1.63s/file]"
     ]
    },
    {
     "name": "stdout",
     "output_type": "stream",
     "text": [
      "Generated image saved at: dataset_str_0.05/27317-4.png\n"
     ]
    },
    {
     "name": "stderr",
     "output_type": "stream",
     "text": [
      "100%|██████████| 2/2 [00:00<00:00,  8.16it/s]\n",
      "Processing Images:  19%|█▉        | 94/500 [02:38<11:13,  1.66s/file]"
     ]
    },
    {
     "name": "stdout",
     "output_type": "stream",
     "text": [
      "Generated image saved at: dataset_str_0.05/48026-3.png\n"
     ]
    },
    {
     "name": "stderr",
     "output_type": "stream",
     "text": [
      "100%|██████████| 2/2 [00:00<00:00,  8.19it/s]\n",
      "Processing Images:  19%|█▉        | 95/500 [02:40<10:46,  1.60s/file]"
     ]
    },
    {
     "name": "stdout",
     "output_type": "stream",
     "text": [
      "Generated image saved at: dataset_str_0.05/47551-1.png\n"
     ]
    },
    {
     "name": "stderr",
     "output_type": "stream",
     "text": [
      "100%|██████████| 2/2 [00:00<00:00,  8.21it/s]\n",
      "Processing Images:  19%|█▉        | 96/500 [02:42<10:57,  1.63s/file]"
     ]
    },
    {
     "name": "stdout",
     "output_type": "stream",
     "text": [
      "Generated image saved at: dataset_str_0.05/34107-3.png\n"
     ]
    },
    {
     "name": "stderr",
     "output_type": "stream",
     "text": [
      "100%|██████████| 2/2 [00:00<00:00,  8.21it/s]\n",
      "Processing Images:  19%|█▉        | 97/500 [02:43<11:09,  1.66s/file]"
     ]
    },
    {
     "name": "stdout",
     "output_type": "stream",
     "text": [
      "Generated image saved at: dataset_str_0.05/22832-4.png\n"
     ]
    },
    {
     "name": "stderr",
     "output_type": "stream",
     "text": [
      "100%|██████████| 2/2 [00:00<00:00,  8.21it/s]\n",
      "Processing Images:  20%|█▉        | 98/500 [02:45<11:18,  1.69s/file]"
     ]
    },
    {
     "name": "stdout",
     "output_type": "stream",
     "text": [
      "Generated image saved at: dataset_str_0.05/48026-5.png\n"
     ]
    },
    {
     "name": "stderr",
     "output_type": "stream",
     "text": [
      "100%|██████████| 2/2 [00:00<00:00,  8.23it/s]\n",
      "Processing Images:  20%|█▉        | 99/500 [02:47<10:52,  1.63s/file]"
     ]
    },
    {
     "name": "stdout",
     "output_type": "stream",
     "text": [
      "Generated image saved at: dataset_str_0.05/14178-3.png\n"
     ]
    },
    {
     "name": "stderr",
     "output_type": "stream",
     "text": [
      "100%|██████████| 2/2 [00:00<00:00,  8.24it/s]\n",
      "Processing Images:  20%|██        | 100/500 [02:48<10:54,  1.64s/file]"
     ]
    },
    {
     "name": "stdout",
     "output_type": "stream",
     "text": [
      "Generated image saved at: dataset_str_0.05/42947-3.png\n"
     ]
    },
    {
     "name": "stderr",
     "output_type": "stream",
     "text": [
      "100%|██████████| 2/2 [00:00<00:00,  8.21it/s]\n",
      "Processing Images:  20%|██        | 101/500 [02:50<11:07,  1.67s/file]"
     ]
    },
    {
     "name": "stdout",
     "output_type": "stream",
     "text": [
      "Generated image saved at: dataset_str_0.05/07984-2.png\n"
     ]
    },
    {
     "name": "stderr",
     "output_type": "stream",
     "text": [
      "100%|██████████| 2/2 [00:00<00:00,  8.22it/s]\n",
      "Processing Images:  20%|██        | 102/500 [02:52<11:02,  1.66s/file]"
     ]
    },
    {
     "name": "stdout",
     "output_type": "stream",
     "text": [
      "Generated image saved at: dataset_str_0.05/09795-4.png\n"
     ]
    },
    {
     "name": "stderr",
     "output_type": "stream",
     "text": [
      "100%|██████████| 2/2 [00:00<00:00,  8.25it/s]\n",
      "Processing Images:  21%|██        | 103/500 [02:53<10:57,  1.66s/file]"
     ]
    },
    {
     "name": "stdout",
     "output_type": "stream",
     "text": [
      "Generated image saved at: dataset_str_0.05/09618-4.png\n"
     ]
    },
    {
     "name": "stderr",
     "output_type": "stream",
     "text": [
      "100%|██████████| 2/2 [00:00<00:00,  8.24it/s]\n",
      "Processing Images:  21%|██        | 104/500 [02:55<10:59,  1.67s/file]"
     ]
    },
    {
     "name": "stdout",
     "output_type": "stream",
     "text": [
      "Generated image saved at: dataset_str_0.05/04593-5.png\n"
     ]
    },
    {
     "name": "stderr",
     "output_type": "stream",
     "text": [
      "100%|██████████| 2/2 [00:00<00:00,  8.23it/s]\n",
      "Processing Images:  21%|██        | 105/500 [02:57<11:11,  1.70s/file]"
     ]
    },
    {
     "name": "stdout",
     "output_type": "stream",
     "text": [
      "Generated image saved at: dataset_str_0.05/10840-1.png\n"
     ]
    },
    {
     "name": "stderr",
     "output_type": "stream",
     "text": [
      "100%|██████████| 2/2 [00:00<00:00,  8.23it/s]\n",
      "Processing Images:  21%|██        | 106/500 [02:58<10:47,  1.64s/file]"
     ]
    },
    {
     "name": "stdout",
     "output_type": "stream",
     "text": [
      "Generated image saved at: dataset_str_0.05/36144-4.png\n"
     ]
    },
    {
     "name": "stderr",
     "output_type": "stream",
     "text": [
      "100%|██████████| 2/2 [00:00<00:00,  8.16it/s]\n",
      "Processing Images:  21%|██▏       | 107/500 [03:00<10:58,  1.68s/file]"
     ]
    },
    {
     "name": "stdout",
     "output_type": "stream",
     "text": [
      "Generated image saved at: dataset_str_0.05/03672-4.png\n"
     ]
    },
    {
     "name": "stderr",
     "output_type": "stream",
     "text": [
      "100%|██████████| 2/2 [00:00<00:00,  8.21it/s]\n",
      "Processing Images:  22%|██▏       | 108/500 [03:02<10:56,  1.68s/file]"
     ]
    },
    {
     "name": "stdout",
     "output_type": "stream",
     "text": [
      "Generated image saved at: dataset_str_0.05/01757-4.png\n"
     ]
    },
    {
     "name": "stderr",
     "output_type": "stream",
     "text": [
      "100%|██████████| 2/2 [00:00<00:00,  8.24it/s]\n",
      "Processing Images:  22%|██▏       | 109/500 [03:03<11:01,  1.69s/file]"
     ]
    },
    {
     "name": "stdout",
     "output_type": "stream",
     "text": [
      "Generated image saved at: dataset_str_0.05/15889-5.png\n"
     ]
    },
    {
     "name": "stderr",
     "output_type": "stream",
     "text": [
      "100%|██████████| 2/2 [00:00<00:00,  8.22it/s]\n",
      "Processing Images:  22%|██▏       | 110/500 [03:05<11:11,  1.72s/file]"
     ]
    },
    {
     "name": "stdout",
     "output_type": "stream",
     "text": [
      "Generated image saved at: dataset_str_0.05/10840-5.png\n"
     ]
    },
    {
     "name": "stderr",
     "output_type": "stream",
     "text": [
      "100%|██████████| 2/2 [00:00<00:00,  8.24it/s]\n",
      "Processing Images:  22%|██▏       | 111/500 [03:07<11:03,  1.71s/file]"
     ]
    },
    {
     "name": "stdout",
     "output_type": "stream",
     "text": [
      "Generated image saved at: dataset_str_0.05/41952-3.png\n"
     ]
    },
    {
     "name": "stderr",
     "output_type": "stream",
     "text": [
      "100%|██████████| 2/2 [00:00<00:00,  8.19it/s]\n",
      "Processing Images:  22%|██▏       | 112/500 [03:09<11:02,  1.71s/file]"
     ]
    },
    {
     "name": "stdout",
     "output_type": "stream",
     "text": [
      "Generated image saved at: dataset_str_0.05/47819-4.png\n"
     ]
    },
    {
     "name": "stderr",
     "output_type": "stream",
     "text": [
      "100%|██████████| 2/2 [00:00<00:00,  8.25it/s]\n",
      "Processing Images:  23%|██▎       | 113/500 [03:10<10:50,  1.68s/file]"
     ]
    },
    {
     "name": "stdout",
     "output_type": "stream",
     "text": [
      "Generated image saved at: dataset_str_0.05/13246-4.png\n"
     ]
    },
    {
     "name": "stderr",
     "output_type": "stream",
     "text": [
      "100%|██████████| 2/2 [00:00<00:00,  8.22it/s]\n",
      "Processing Images:  23%|██▎       | 114/500 [03:12<10:51,  1.69s/file]"
     ]
    },
    {
     "name": "stdout",
     "output_type": "stream",
     "text": [
      "Generated image saved at: dataset_str_0.05/40022-5.png\n"
     ]
    },
    {
     "name": "stderr",
     "output_type": "stream",
     "text": [
      "100%|██████████| 2/2 [00:00<00:00,  8.22it/s]\n",
      "Processing Images:  23%|██▎       | 115/500 [03:13<10:43,  1.67s/file]"
     ]
    },
    {
     "name": "stdout",
     "output_type": "stream",
     "text": [
      "Generated image saved at: dataset_str_0.05/09618-2.png\n"
     ]
    },
    {
     "name": "stderr",
     "output_type": "stream",
     "text": [
      "100%|██████████| 2/2 [00:00<00:00,  8.25it/s]\n",
      "Processing Images:  23%|██▎       | 116/500 [03:15<10:46,  1.68s/file]"
     ]
    },
    {
     "name": "stdout",
     "output_type": "stream",
     "text": [
      "Generated image saved at: dataset_str_0.05/40022-3.png\n"
     ]
    },
    {
     "name": "stderr",
     "output_type": "stream",
     "text": [
      "100%|██████████| 2/2 [00:00<00:00,  8.22it/s]\n",
      "Processing Images:  23%|██▎       | 117/500 [03:17<10:55,  1.71s/file]"
     ]
    },
    {
     "name": "stdout",
     "output_type": "stream",
     "text": [
      "Generated image saved at: dataset_str_0.05/10840-2.png\n"
     ]
    },
    {
     "name": "stderr",
     "output_type": "stream",
     "text": [
      "100%|██████████| 2/2 [00:00<00:00,  8.20it/s]\n",
      "Processing Images:  24%|██▎       | 118/500 [03:19<10:52,  1.71s/file]"
     ]
    },
    {
     "name": "stdout",
     "output_type": "stream",
     "text": [
      "Generated image saved at: dataset_str_0.05/20480-3.png\n"
     ]
    },
    {
     "name": "stderr",
     "output_type": "stream",
     "text": [
      "100%|██████████| 2/2 [00:00<00:00,  8.22it/s]\n",
      "Processing Images:  24%|██▍       | 119/500 [03:20<10:42,  1.69s/file]"
     ]
    },
    {
     "name": "stdout",
     "output_type": "stream",
     "text": [
      "Generated image saved at: dataset_str_0.05/01556-1.png\n"
     ]
    },
    {
     "name": "stderr",
     "output_type": "stream",
     "text": [
      "100%|██████████| 2/2 [00:00<00:00,  8.21it/s]\n",
      "Processing Images:  24%|██▍       | 120/500 [03:22<10:49,  1.71s/file]"
     ]
    },
    {
     "name": "stdout",
     "output_type": "stream",
     "text": [
      "Generated image saved at: dataset_str_0.05/03672-3.png\n"
     ]
    },
    {
     "name": "stderr",
     "output_type": "stream",
     "text": [
      "100%|██████████| 2/2 [00:00<00:00,  8.21it/s]\n",
      "Processing Images:  24%|██▍       | 121/500 [03:24<10:50,  1.72s/file]"
     ]
    },
    {
     "name": "stdout",
     "output_type": "stream",
     "text": [
      "Generated image saved at: dataset_str_0.05/11465-3.png\n"
     ]
    },
    {
     "name": "stderr",
     "output_type": "stream",
     "text": [
      "100%|██████████| 2/2 [00:00<00:00,  8.21it/s]\n",
      "Processing Images:  24%|██▍       | 122/500 [03:26<10:49,  1.72s/file]"
     ]
    },
    {
     "name": "stdout",
     "output_type": "stream",
     "text": [
      "Generated image saved at: dataset_str_0.05/37237-4.png\n"
     ]
    },
    {
     "name": "stderr",
     "output_type": "stream",
     "text": [
      "100%|██████████| 2/2 [00:00<00:00,  8.22it/s]\n",
      "Processing Images:  25%|██▍       | 123/500 [03:27<10:43,  1.71s/file]"
     ]
    },
    {
     "name": "stdout",
     "output_type": "stream",
     "text": [
      "Generated image saved at: dataset_str_0.05/01757-3.png\n"
     ]
    },
    {
     "name": "stderr",
     "output_type": "stream",
     "text": [
      "100%|██████████| 2/2 [00:00<00:00,  8.22it/s]\n",
      "Processing Images:  25%|██▍       | 124/500 [03:29<10:12,  1.63s/file]"
     ]
    },
    {
     "name": "stdout",
     "output_type": "stream",
     "text": [
      "Generated image saved at: dataset_str_0.05/39219-4.png\n"
     ]
    },
    {
     "name": "stderr",
     "output_type": "stream",
     "text": [
      "100%|██████████| 2/2 [00:00<00:00,  8.14it/s]\n",
      "Processing Images:  25%|██▌       | 125/500 [03:30<09:53,  1.58s/file]"
     ]
    },
    {
     "name": "stdout",
     "output_type": "stream",
     "text": [
      "Generated image saved at: dataset_str_0.05/06684-3.png\n"
     ]
    },
    {
     "name": "stderr",
     "output_type": "stream",
     "text": [
      "100%|██████████| 2/2 [00:00<00:00,  8.18it/s]\n",
      "Processing Images:  25%|██▌       | 126/500 [03:32<09:57,  1.60s/file]"
     ]
    },
    {
     "name": "stdout",
     "output_type": "stream",
     "text": [
      "Generated image saved at: dataset_str_0.05/32042-2.png\n"
     ]
    },
    {
     "name": "stderr",
     "output_type": "stream",
     "text": [
      "100%|██████████| 2/2 [00:00<00:00,  8.18it/s]\n",
      "Processing Images:  25%|██▌       | 127/500 [03:33<10:05,  1.62s/file]"
     ]
    },
    {
     "name": "stdout",
     "output_type": "stream",
     "text": [
      "Generated image saved at: dataset_str_0.05/18454-3.png\n"
     ]
    },
    {
     "name": "stderr",
     "output_type": "stream",
     "text": [
      "100%|██████████| 2/2 [00:00<00:00,  8.03it/s]\n",
      "Processing Images:  26%|██▌       | 128/500 [03:35<10:04,  1.63s/file]"
     ]
    },
    {
     "name": "stdout",
     "output_type": "stream",
     "text": [
      "Generated image saved at: dataset_str_0.05/45693-5.png\n"
     ]
    },
    {
     "name": "stderr",
     "output_type": "stream",
     "text": [
      "100%|██████████| 2/2 [00:00<00:00,  8.20it/s]\n",
      "Processing Images:  26%|██▌       | 129/500 [03:37<10:14,  1.66s/file]"
     ]
    },
    {
     "name": "stdout",
     "output_type": "stream",
     "text": [
      "Generated image saved at: dataset_str_0.05/29685-1.png\n"
     ]
    },
    {
     "name": "stderr",
     "output_type": "stream",
     "text": [
      "100%|██████████| 2/2 [00:00<00:00,  8.23it/s]\n",
      "Processing Images:  26%|██▌       | 130/500 [03:38<10:17,  1.67s/file]"
     ]
    },
    {
     "name": "stdout",
     "output_type": "stream",
     "text": [
      "Generated image saved at: dataset_str_0.05/35544-5.png\n"
     ]
    },
    {
     "name": "stderr",
     "output_type": "stream",
     "text": [
      "100%|██████████| 2/2 [00:00<00:00,  8.24it/s]\n",
      "Processing Images:  26%|██▌       | 131/500 [03:40<10:03,  1.63s/file]"
     ]
    },
    {
     "name": "stdout",
     "output_type": "stream",
     "text": [
      "Generated image saved at: dataset_str_0.05/20169-5.png\n"
     ]
    },
    {
     "name": "stderr",
     "output_type": "stream",
     "text": [
      "100%|██████████| 2/2 [00:00<00:00,  8.19it/s]\n",
      "Processing Images:  26%|██▋       | 132/500 [03:42<10:10,  1.66s/file]"
     ]
    },
    {
     "name": "stdout",
     "output_type": "stream",
     "text": [
      "Generated image saved at: dataset_str_0.05/08571-1.png\n"
     ]
    },
    {
     "name": "stderr",
     "output_type": "stream",
     "text": [
      "100%|██████████| 2/2 [00:00<00:00,  8.23it/s]\n",
      "Processing Images:  27%|██▋       | 133/500 [03:43<10:16,  1.68s/file]"
     ]
    },
    {
     "name": "stdout",
     "output_type": "stream",
     "text": [
      "Generated image saved at: dataset_str_0.05/47386-1.png\n"
     ]
    },
    {
     "name": "stderr",
     "output_type": "stream",
     "text": [
      "100%|██████████| 2/2 [00:00<00:00,  7.85it/s]\n",
      "Processing Images:  27%|██▋       | 134/500 [03:45<10:14,  1.68s/file]"
     ]
    },
    {
     "name": "stdout",
     "output_type": "stream",
     "text": [
      "Generated image saved at: dataset_str_0.05/37925-4.png\n"
     ]
    },
    {
     "name": "stderr",
     "output_type": "stream",
     "text": [
      "100%|██████████| 2/2 [00:00<00:00,  8.18it/s]\n",
      "Processing Images:  27%|██▋       | 135/500 [03:47<10:13,  1.68s/file]"
     ]
    },
    {
     "name": "stdout",
     "output_type": "stream",
     "text": [
      "Generated image saved at: dataset_str_0.05/21275-3.png\n"
     ]
    },
    {
     "name": "stderr",
     "output_type": "stream",
     "text": [
      "100%|██████████| 2/2 [00:00<00:00,  8.18it/s]\n",
      "Processing Images:  27%|██▋       | 136/500 [03:48<10:07,  1.67s/file]"
     ]
    },
    {
     "name": "stdout",
     "output_type": "stream",
     "text": [
      "Generated image saved at: dataset_str_0.05/20735-3.png\n"
     ]
    },
    {
     "name": "stderr",
     "output_type": "stream",
     "text": [
      "100%|██████████| 2/2 [00:00<00:00,  8.24it/s]\n",
      "Processing Images:  27%|██▋       | 137/500 [03:50<10:10,  1.68s/file]"
     ]
    },
    {
     "name": "stdout",
     "output_type": "stream",
     "text": [
      "Generated image saved at: dataset_str_0.05/37237-1.png\n"
     ]
    },
    {
     "name": "stderr",
     "output_type": "stream",
     "text": [
      "100%|██████████| 2/2 [00:00<00:00,  8.22it/s]\n",
      "Processing Images:  28%|██▊       | 138/500 [03:52<10:07,  1.68s/file]"
     ]
    },
    {
     "name": "stdout",
     "output_type": "stream",
     "text": [
      "Generated image saved at: dataset_str_0.05/18454-5.png\n"
     ]
    },
    {
     "name": "stderr",
     "output_type": "stream",
     "text": [
      "100%|██████████| 2/2 [00:00<00:00,  8.23it/s]\n",
      "Processing Images:  28%|██▊       | 139/500 [03:54<10:13,  1.70s/file]"
     ]
    },
    {
     "name": "stdout",
     "output_type": "stream",
     "text": [
      "Generated image saved at: dataset_str_0.05/27588-4.png\n"
     ]
    },
    {
     "name": "stderr",
     "output_type": "stream",
     "text": [
      "100%|██████████| 2/2 [00:00<00:00,  7.76it/s]\n",
      "Processing Images:  28%|██▊       | 140/500 [03:55<09:57,  1.66s/file]"
     ]
    },
    {
     "name": "stdout",
     "output_type": "stream",
     "text": [
      "Generated image saved at: dataset_str_0.05/18266-2.png\n"
     ]
    },
    {
     "name": "stderr",
     "output_type": "stream",
     "text": [
      "100%|██████████| 2/2 [00:00<00:00,  8.17it/s]\n",
      "Processing Images:  28%|██▊       | 141/500 [03:57<09:50,  1.64s/file]"
     ]
    },
    {
     "name": "stdout",
     "output_type": "stream",
     "text": [
      "Generated image saved at: dataset_str_0.05/37404-2.png\n"
     ]
    },
    {
     "name": "stderr",
     "output_type": "stream",
     "text": [
      "100%|██████████| 2/2 [00:00<00:00,  8.17it/s]\n",
      "Processing Images:  28%|██▊       | 142/500 [03:58<09:46,  1.64s/file]"
     ]
    },
    {
     "name": "stdout",
     "output_type": "stream",
     "text": [
      "Generated image saved at: dataset_str_0.05/47596-3.png\n"
     ]
    },
    {
     "name": "stderr",
     "output_type": "stream",
     "text": [
      "100%|██████████| 2/2 [00:00<00:00,  8.21it/s]\n",
      "Processing Images:  29%|██▊       | 143/500 [04:00<09:51,  1.66s/file]"
     ]
    },
    {
     "name": "stdout",
     "output_type": "stream",
     "text": [
      "Generated image saved at: dataset_str_0.05/22832-1.png\n"
     ]
    },
    {
     "name": "stderr",
     "output_type": "stream",
     "text": [
      "100%|██████████| 2/2 [00:00<00:00,  8.20it/s]\n",
      "Processing Images:  29%|██▉       | 144/500 [04:02<09:55,  1.67s/file]"
     ]
    },
    {
     "name": "stdout",
     "output_type": "stream",
     "text": [
      "Generated image saved at: dataset_str_0.05/37025-3.png\n"
     ]
    },
    {
     "name": "stderr",
     "output_type": "stream",
     "text": [
      "100%|██████████| 2/2 [00:00<00:00,  8.17it/s]\n",
      "Processing Images:  29%|██▉       | 145/500 [04:03<09:43,  1.64s/file]"
     ]
    },
    {
     "name": "stdout",
     "output_type": "stream",
     "text": [
      "Generated image saved at: dataset_str_0.05/20169-1.png\n"
     ]
    },
    {
     "name": "stderr",
     "output_type": "stream",
     "text": [
      "100%|██████████| 2/2 [00:00<00:00,  8.17it/s]\n",
      "Processing Images:  29%|██▉       | 146/500 [04:05<09:48,  1.66s/file]"
     ]
    },
    {
     "name": "stdout",
     "output_type": "stream",
     "text": [
      "Generated image saved at: dataset_str_0.05/02898-3.png\n"
     ]
    },
    {
     "name": "stderr",
     "output_type": "stream",
     "text": [
      "100%|██████████| 2/2 [00:00<00:00,  8.19it/s]\n",
      "Processing Images:  29%|██▉       | 147/500 [04:07<09:49,  1.67s/file]"
     ]
    },
    {
     "name": "stdout",
     "output_type": "stream",
     "text": [
      "Generated image saved at: dataset_str_0.05/20543-2.png\n"
     ]
    },
    {
     "name": "stderr",
     "output_type": "stream",
     "text": [
      "100%|██████████| 2/2 [00:00<00:00,  8.21it/s]\n",
      "Processing Images:  30%|██▉       | 148/500 [04:09<09:53,  1.69s/file]"
     ]
    },
    {
     "name": "stdout",
     "output_type": "stream",
     "text": [
      "Generated image saved at: dataset_str_0.05/08571-2.png\n"
     ]
    },
    {
     "name": "stderr",
     "output_type": "stream",
     "text": [
      "100%|██████████| 2/2 [00:00<00:00,  8.21it/s]\n",
      "Processing Images:  30%|██▉       | 149/500 [04:10<09:41,  1.66s/file]"
     ]
    },
    {
     "name": "stdout",
     "output_type": "stream",
     "text": [
      "Generated image saved at: dataset_str_0.05/42947-4.png\n"
     ]
    },
    {
     "name": "stderr",
     "output_type": "stream",
     "text": [
      "100%|██████████| 2/2 [00:00<00:00,  8.08it/s]\n",
      "Processing Images:  30%|███       | 150/500 [04:12<09:37,  1.65s/file]"
     ]
    },
    {
     "name": "stdout",
     "output_type": "stream",
     "text": [
      "Generated image saved at: dataset_str_0.05/09268-4.png\n"
     ]
    },
    {
     "name": "stderr",
     "output_type": "stream",
     "text": [
      "100%|██████████| 2/2 [00:00<00:00,  8.16it/s]\n",
      "Processing Images:  30%|███       | 151/500 [04:13<09:45,  1.68s/file]"
     ]
    },
    {
     "name": "stdout",
     "output_type": "stream",
     "text": [
      "Generated image saved at: dataset_str_0.05/31780-3.png\n"
     ]
    },
    {
     "name": "stderr",
     "output_type": "stream",
     "text": [
      "100%|██████████| 2/2 [00:00<00:00,  8.23it/s]\n",
      "Processing Images:  30%|███       | 152/500 [04:15<09:49,  1.69s/file]"
     ]
    },
    {
     "name": "stdout",
     "output_type": "stream",
     "text": [
      "Generated image saved at: dataset_str_0.05/26127-2.png\n"
     ]
    },
    {
     "name": "stderr",
     "output_type": "stream",
     "text": [
      "100%|██████████| 2/2 [00:00<00:00,  8.21it/s]\n",
      "Processing Images:  31%|███       | 153/500 [04:17<09:57,  1.72s/file]"
     ]
    },
    {
     "name": "stdout",
     "output_type": "stream",
     "text": [
      "Generated image saved at: dataset_str_0.05/01159-3.png\n"
     ]
    },
    {
     "name": "stderr",
     "output_type": "stream",
     "text": [
      "100%|██████████| 2/2 [00:00<00:00,  8.21it/s]\n",
      "Processing Images:  31%|███       | 154/500 [04:19<09:41,  1.68s/file]"
     ]
    },
    {
     "name": "stdout",
     "output_type": "stream",
     "text": [
      "Generated image saved at: dataset_str_0.05/36144-1.png\n"
     ]
    },
    {
     "name": "stderr",
     "output_type": "stream",
     "text": [
      "100%|██████████| 2/2 [00:00<00:00,  8.21it/s]\n",
      "Processing Images:  31%|███       | 155/500 [04:20<09:43,  1.69s/file]"
     ]
    },
    {
     "name": "stdout",
     "output_type": "stream",
     "text": [
      "Generated image saved at: dataset_str_0.05/15164-5.png\n"
     ]
    },
    {
     "name": "stderr",
     "output_type": "stream",
     "text": [
      "100%|██████████| 2/2 [00:00<00:00,  8.21it/s]\n",
      "Processing Images:  31%|███       | 156/500 [04:22<09:41,  1.69s/file]"
     ]
    },
    {
     "name": "stdout",
     "output_type": "stream",
     "text": [
      "Generated image saved at: dataset_str_0.05/35521-4.png\n"
     ]
    },
    {
     "name": "stderr",
     "output_type": "stream",
     "text": [
      "100%|██████████| 2/2 [00:00<00:00,  8.22it/s]\n",
      "Processing Images:  31%|███▏      | 157/500 [04:24<09:39,  1.69s/file]"
     ]
    },
    {
     "name": "stdout",
     "output_type": "stream",
     "text": [
      "Generated image saved at: dataset_str_0.05/38717-2.png\n"
     ]
    },
    {
     "name": "stderr",
     "output_type": "stream",
     "text": [
      "100%|██████████| 2/2 [00:00<00:00,  7.75it/s]\n",
      "Processing Images:  32%|███▏      | 158/500 [04:25<09:29,  1.67s/file]"
     ]
    },
    {
     "name": "stdout",
     "output_type": "stream",
     "text": [
      "Generated image saved at: dataset_str_0.05/13341-1.png\n"
     ]
    },
    {
     "name": "stderr",
     "output_type": "stream",
     "text": [
      "100%|██████████| 2/2 [00:00<00:00,  8.17it/s]\n",
      "Processing Images:  32%|███▏      | 159/500 [04:27<09:31,  1.68s/file]"
     ]
    },
    {
     "name": "stdout",
     "output_type": "stream",
     "text": [
      "Generated image saved at: dataset_str_0.05/14293-4.png\n"
     ]
    },
    {
     "name": "stderr",
     "output_type": "stream",
     "text": [
      "100%|██████████| 2/2 [00:00<00:00,  8.16it/s]\n",
      "Processing Images:  32%|███▏      | 160/500 [04:29<09:23,  1.66s/file]"
     ]
    },
    {
     "name": "stdout",
     "output_type": "stream",
     "text": [
      "Generated image saved at: dataset_str_0.05/03152-2.png\n"
     ]
    },
    {
     "name": "stderr",
     "output_type": "stream",
     "text": [
      "100%|██████████| 2/2 [00:00<00:00,  7.78it/s]\n",
      "Processing Images:  32%|███▏      | 161/500 [04:30<09:13,  1.63s/file]"
     ]
    },
    {
     "name": "stdout",
     "output_type": "stream",
     "text": [
      "Generated image saved at: dataset_str_0.05/06684-1.png\n"
     ]
    },
    {
     "name": "stderr",
     "output_type": "stream",
     "text": [
      "100%|██████████| 2/2 [00:00<00:00,  8.20it/s]\n",
      "Processing Images:  32%|███▏      | 162/500 [04:32<09:26,  1.68s/file]"
     ]
    },
    {
     "name": "stdout",
     "output_type": "stream",
     "text": [
      "Generated image saved at: dataset_str_0.05/33282-2.png\n"
     ]
    },
    {
     "name": "stderr",
     "output_type": "stream",
     "text": [
      "100%|██████████| 2/2 [00:00<00:00,  8.23it/s]\n",
      "Processing Images:  33%|███▎      | 163/500 [04:34<09:28,  1.69s/file]"
     ]
    },
    {
     "name": "stdout",
     "output_type": "stream",
     "text": [
      "Generated image saved at: dataset_str_0.05/21275-1.png\n"
     ]
    },
    {
     "name": "stderr",
     "output_type": "stream",
     "text": [
      "100%|██████████| 2/2 [00:00<00:00,  8.18it/s]\n",
      "Processing Images:  33%|███▎      | 164/500 [04:35<09:26,  1.69s/file]"
     ]
    },
    {
     "name": "stdout",
     "output_type": "stream",
     "text": [
      "Generated image saved at: dataset_str_0.05/14293-2.png\n"
     ]
    },
    {
     "name": "stderr",
     "output_type": "stream",
     "text": [
      "100%|██████████| 2/2 [00:00<00:00,  8.16it/s]\n",
      "Processing Images:  33%|███▎      | 165/500 [04:37<09:23,  1.68s/file]"
     ]
    },
    {
     "name": "stdout",
     "output_type": "stream",
     "text": [
      "Generated image saved at: dataset_str_0.05/38566-2.png\n"
     ]
    },
    {
     "name": "stderr",
     "output_type": "stream",
     "text": [
      "100%|██████████| 2/2 [00:00<00:00,  8.12it/s]\n",
      "Processing Images:  33%|███▎      | 166/500 [04:39<09:30,  1.71s/file]"
     ]
    },
    {
     "name": "stdout",
     "output_type": "stream",
     "text": [
      "Generated image saved at: dataset_str_0.05/27588-2.png\n"
     ]
    },
    {
     "name": "stderr",
     "output_type": "stream",
     "text": [
      "100%|██████████| 2/2 [00:00<00:00,  8.19it/s]\n",
      "Processing Images:  33%|███▎      | 167/500 [04:40<09:11,  1.66s/file]"
     ]
    },
    {
     "name": "stdout",
     "output_type": "stream",
     "text": [
      "Generated image saved at: dataset_str_0.05/36144-2.png\n"
     ]
    },
    {
     "name": "stderr",
     "output_type": "stream",
     "text": [
      "100%|██████████| 2/2 [00:00<00:00,  8.21it/s]\n",
      "Processing Images:  34%|███▎      | 168/500 [04:42<09:14,  1.67s/file]"
     ]
    },
    {
     "name": "stdout",
     "output_type": "stream",
     "text": [
      "Generated image saved at: dataset_str_0.05/38717-1.png\n"
     ]
    },
    {
     "name": "stderr",
     "output_type": "stream",
     "text": [
      "100%|██████████| 2/2 [00:00<00:00,  8.21it/s]\n",
      "Processing Images:  34%|███▍      | 169/500 [04:44<09:14,  1.67s/file]"
     ]
    },
    {
     "name": "stdout",
     "output_type": "stream",
     "text": [
      "Generated image saved at: dataset_str_0.05/04593-4.png\n"
     ]
    },
    {
     "name": "stderr",
     "output_type": "stream",
     "text": [
      "100%|██████████| 2/2 [00:00<00:00,  8.21it/s]\n",
      "Processing Images:  34%|███▍      | 170/500 [04:45<09:20,  1.70s/file]"
     ]
    },
    {
     "name": "stdout",
     "output_type": "stream",
     "text": [
      "Generated image saved at: dataset_str_0.05/05219-1.png\n"
     ]
    },
    {
     "name": "stderr",
     "output_type": "stream",
     "text": [
      "100%|██████████| 2/2 [00:00<00:00,  8.18it/s]\n",
      "Processing Images:  34%|███▍      | 171/500 [04:47<09:02,  1.65s/file]"
     ]
    },
    {
     "name": "stdout",
     "output_type": "stream",
     "text": [
      "Generated image saved at: dataset_str_0.05/36472-4.png\n"
     ]
    },
    {
     "name": "stderr",
     "output_type": "stream",
     "text": [
      "100%|██████████| 2/2 [00:00<00:00,  8.15it/s]\n",
      "Processing Images:  34%|███▍      | 172/500 [04:49<09:02,  1.65s/file]"
     ]
    },
    {
     "name": "stdout",
     "output_type": "stream",
     "text": [
      "Generated image saved at: dataset_str_0.05/41952-1.png\n"
     ]
    },
    {
     "name": "stderr",
     "output_type": "stream",
     "text": [
      "100%|██████████| 2/2 [00:00<00:00,  8.23it/s]\n",
      "Processing Images:  35%|███▍      | 173/500 [04:50<09:06,  1.67s/file]"
     ]
    },
    {
     "name": "stdout",
     "output_type": "stream",
     "text": [
      "Generated image saved at: dataset_str_0.05/22064-4.png\n"
     ]
    },
    {
     "name": "stderr",
     "output_type": "stream",
     "text": [
      "100%|██████████| 2/2 [00:00<00:00,  8.17it/s]\n",
      "Processing Images:  35%|███▍      | 174/500 [04:52<09:02,  1.66s/file]"
     ]
    },
    {
     "name": "stdout",
     "output_type": "stream",
     "text": [
      "Generated image saved at: dataset_str_0.05/18975-1.png\n"
     ]
    },
    {
     "name": "stderr",
     "output_type": "stream",
     "text": [
      "100%|██████████| 2/2 [00:00<00:00,  8.19it/s]\n",
      "Processing Images:  35%|███▌      | 175/500 [04:54<09:03,  1.67s/file]"
     ]
    },
    {
     "name": "stdout",
     "output_type": "stream",
     "text": [
      "Generated image saved at: dataset_str_0.05/40022-1.png\n"
     ]
    },
    {
     "name": "stderr",
     "output_type": "stream",
     "text": [
      "100%|██████████| 2/2 [00:00<00:00,  8.12it/s]\n",
      "Processing Images:  35%|███▌      | 176/500 [04:56<09:13,  1.71s/file]"
     ]
    },
    {
     "name": "stdout",
     "output_type": "stream",
     "text": [
      "Generated image saved at: dataset_str_0.05/31577-4.png\n"
     ]
    },
    {
     "name": "stderr",
     "output_type": "stream",
     "text": [
      "100%|██████████| 2/2 [00:00<00:00,  8.20it/s]\n",
      "Processing Images:  35%|███▌      | 177/500 [04:57<09:13,  1.71s/file]"
     ]
    },
    {
     "name": "stdout",
     "output_type": "stream",
     "text": [
      "Generated image saved at: dataset_str_0.05/41909-5.png\n"
     ]
    },
    {
     "name": "stderr",
     "output_type": "stream",
     "text": [
      "100%|██████████| 2/2 [00:00<00:00,  8.17it/s]\n",
      "Processing Images:  36%|███▌      | 178/500 [04:59<08:57,  1.67s/file]"
     ]
    },
    {
     "name": "stdout",
     "output_type": "stream",
     "text": [
      "Generated image saved at: dataset_str_0.05/18266-4.png\n"
     ]
    },
    {
     "name": "stderr",
     "output_type": "stream",
     "text": [
      "100%|██████████| 2/2 [00:00<00:00,  8.13it/s]\n",
      "Processing Images:  36%|███▌      | 179/500 [05:00<08:55,  1.67s/file]"
     ]
    },
    {
     "name": "stdout",
     "output_type": "stream",
     "text": [
      "Generated image saved at: dataset_str_0.05/09618-5.png\n"
     ]
    },
    {
     "name": "stderr",
     "output_type": "stream",
     "text": [
      "100%|██████████| 2/2 [00:00<00:00,  8.20it/s]\n",
      "Processing Images:  36%|███▌      | 180/500 [05:02<09:01,  1.69s/file]"
     ]
    },
    {
     "name": "stdout",
     "output_type": "stream",
     "text": [
      "Generated image saved at: dataset_str_0.05/12339-2.png\n"
     ]
    },
    {
     "name": "stderr",
     "output_type": "stream",
     "text": [
      "100%|██████████| 2/2 [00:00<00:00,  8.22it/s]\n",
      "Processing Images:  36%|███▌      | 181/500 [05:04<08:54,  1.68s/file]"
     ]
    },
    {
     "name": "stdout",
     "output_type": "stream",
     "text": [
      "Generated image saved at: dataset_str_0.05/01126-2.png\n"
     ]
    },
    {
     "name": "stderr",
     "output_type": "stream",
     "text": [
      "100%|██████████| 2/2 [00:00<00:00,  8.21it/s]\n",
      "Processing Images:  36%|███▋      | 182/500 [05:06<08:53,  1.68s/file]"
     ]
    },
    {
     "name": "stdout",
     "output_type": "stream",
     "text": [
      "Generated image saved at: dataset_str_0.05/47596-2.png\n"
     ]
    },
    {
     "name": "stderr",
     "output_type": "stream",
     "text": [
      "100%|██████████| 2/2 [00:00<00:00,  8.16it/s]\n",
      "Processing Images:  37%|███▋      | 183/500 [05:07<08:53,  1.68s/file]"
     ]
    },
    {
     "name": "stdout",
     "output_type": "stream",
     "text": [
      "Generated image saved at: dataset_str_0.05/13246-1.png\n"
     ]
    },
    {
     "name": "stderr",
     "output_type": "stream",
     "text": [
      "100%|██████████| 2/2 [00:00<00:00,  8.21it/s]\n",
      "Processing Images:  37%|███▋      | 184/500 [05:09<08:55,  1.70s/file]"
     ]
    },
    {
     "name": "stdout",
     "output_type": "stream",
     "text": [
      "Generated image saved at: dataset_str_0.05/18760-5.png\n"
     ]
    },
    {
     "name": "stderr",
     "output_type": "stream",
     "text": [
      "100%|██████████| 2/2 [00:00<00:00,  8.21it/s]\n",
      "Processing Images:  37%|███▋      | 185/500 [05:11<08:50,  1.68s/file]"
     ]
    },
    {
     "name": "stdout",
     "output_type": "stream",
     "text": [
      "Generated image saved at: dataset_str_0.05/36645-2.png\n"
     ]
    },
    {
     "name": "stderr",
     "output_type": "stream",
     "text": [
      "100%|██████████| 2/2 [00:00<00:00,  8.20it/s]\n",
      "Processing Images:  37%|███▋      | 186/500 [05:12<08:53,  1.70s/file]"
     ]
    },
    {
     "name": "stdout",
     "output_type": "stream",
     "text": [
      "Generated image saved at: dataset_str_0.05/18442-2.png\n"
     ]
    },
    {
     "name": "stderr",
     "output_type": "stream",
     "text": [
      "100%|██████████| 2/2 [00:00<00:00,  8.21it/s]\n",
      "Processing Images:  37%|███▋      | 187/500 [05:14<08:49,  1.69s/file]"
     ]
    },
    {
     "name": "stdout",
     "output_type": "stream",
     "text": [
      "Generated image saved at: dataset_str_0.05/29685-5.png\n"
     ]
    },
    {
     "name": "stderr",
     "output_type": "stream",
     "text": [
      "100%|██████████| 2/2 [00:00<00:00,  8.22it/s]\n",
      "Processing Images:  38%|███▊      | 188/500 [05:16<08:49,  1.70s/file]"
     ]
    },
    {
     "name": "stdout",
     "output_type": "stream",
     "text": [
      "Generated image saved at: dataset_str_0.05/37925-5.png\n"
     ]
    },
    {
     "name": "stderr",
     "output_type": "stream",
     "text": [
      "100%|██████████| 2/2 [00:00<00:00,  8.14it/s]\n",
      "Processing Images:  38%|███▊      | 189/500 [05:17<08:37,  1.66s/file]"
     ]
    },
    {
     "name": "stdout",
     "output_type": "stream",
     "text": [
      "Generated image saved at: dataset_str_0.05/36144-3.png\n"
     ]
    },
    {
     "name": "stderr",
     "output_type": "stream",
     "text": [
      "100%|██████████| 2/2 [00:00<00:00,  8.17it/s]\n",
      "Processing Images:  38%|███▊      | 190/500 [05:19<08:36,  1.67s/file]"
     ]
    },
    {
     "name": "stdout",
     "output_type": "stream",
     "text": [
      "Generated image saved at: dataset_str_0.05/38717-5.png\n"
     ]
    },
    {
     "name": "stderr",
     "output_type": "stream",
     "text": [
      "100%|██████████| 2/2 [00:00<00:00,  8.09it/s]\n",
      "Processing Images:  38%|███▊      | 191/500 [05:21<08:43,  1.69s/file]"
     ]
    },
    {
     "name": "stdout",
     "output_type": "stream",
     "text": [
      "Generated image saved at: dataset_str_0.05/22064-3.png\n"
     ]
    },
    {
     "name": "stderr",
     "output_type": "stream",
     "text": [
      "100%|██████████| 2/2 [00:00<00:00,  8.17it/s]\n",
      "Processing Images:  38%|███▊      | 192/500 [05:22<08:43,  1.70s/file]"
     ]
    },
    {
     "name": "stdout",
     "output_type": "stream",
     "text": [
      "Generated image saved at: dataset_str_0.05/14293-5.png\n"
     ]
    },
    {
     "name": "stderr",
     "output_type": "stream",
     "text": [
      "100%|██████████| 2/2 [00:00<00:00,  8.23it/s]\n",
      "Processing Images:  39%|███▊      | 193/500 [05:24<08:45,  1.71s/file]"
     ]
    },
    {
     "name": "stdout",
     "output_type": "stream",
     "text": [
      "Generated image saved at: dataset_str_0.05/45030-5.png\n"
     ]
    },
    {
     "name": "stderr",
     "output_type": "stream",
     "text": [
      "100%|██████████| 2/2 [00:00<00:00,  8.23it/s]\n",
      "Processing Images:  39%|███▉      | 194/500 [05:26<08:42,  1.71s/file]"
     ]
    },
    {
     "name": "stdout",
     "output_type": "stream",
     "text": [
      "Generated image saved at: dataset_str_0.05/29653-4.png\n"
     ]
    },
    {
     "name": "stderr",
     "output_type": "stream",
     "text": [
      "100%|██████████| 2/2 [00:00<00:00,  8.15it/s]\n",
      "Processing Images:  39%|███▉      | 195/500 [05:28<08:43,  1.72s/file]"
     ]
    },
    {
     "name": "stdout",
     "output_type": "stream",
     "text": [
      "Generated image saved at: dataset_str_0.05/20735-4.png\n"
     ]
    },
    {
     "name": "stderr",
     "output_type": "stream",
     "text": [
      "100%|██████████| 2/2 [00:00<00:00,  8.23it/s]\n",
      "Processing Images:  39%|███▉      | 196/500 [05:29<08:41,  1.72s/file]"
     ]
    },
    {
     "name": "stdout",
     "output_type": "stream",
     "text": [
      "Generated image saved at: dataset_str_0.05/04242-1.png\n"
     ]
    },
    {
     "name": "stderr",
     "output_type": "stream",
     "text": [
      "100%|██████████| 2/2 [00:00<00:00,  8.21it/s]\n",
      "Processing Images:  39%|███▉      | 197/500 [05:31<08:40,  1.72s/file]"
     ]
    },
    {
     "name": "stdout",
     "output_type": "stream",
     "text": [
      "Generated image saved at: dataset_str_0.05/20735-1.png\n"
     ]
    },
    {
     "name": "stderr",
     "output_type": "stream",
     "text": [
      "100%|██████████| 2/2 [00:00<00:00,  8.21it/s]\n",
      "Processing Images:  40%|███▉      | 198/500 [05:33<08:34,  1.70s/file]"
     ]
    },
    {
     "name": "stdout",
     "output_type": "stream",
     "text": [
      "Generated image saved at: dataset_str_0.05/41909-2.png\n"
     ]
    },
    {
     "name": "stderr",
     "output_type": "stream",
     "text": [
      "100%|██████████| 2/2 [00:00<00:00,  8.18it/s]\n",
      "Processing Images:  40%|███▉      | 199/500 [05:35<08:38,  1.72s/file]"
     ]
    },
    {
     "name": "stdout",
     "output_type": "stream",
     "text": [
      "Generated image saved at: dataset_str_0.05/26762-1.png\n"
     ]
    },
    {
     "name": "stderr",
     "output_type": "stream",
     "text": [
      "100%|██████████| 2/2 [00:00<00:00,  8.22it/s]\n",
      "Processing Images:  40%|████      | 200/500 [05:36<08:41,  1.74s/file]"
     ]
    },
    {
     "name": "stdout",
     "output_type": "stream",
     "text": [
      "Generated image saved at: dataset_str_0.05/01159-2.png\n"
     ]
    },
    {
     "name": "stderr",
     "output_type": "stream",
     "text": [
      "100%|██████████| 2/2 [00:00<00:00,  8.22it/s]\n",
      "Processing Images:  40%|████      | 201/500 [05:38<08:21,  1.68s/file]"
     ]
    },
    {
     "name": "stdout",
     "output_type": "stream",
     "text": [
      "Generated image saved at: dataset_str_0.05/20169-2.png\n"
     ]
    },
    {
     "name": "stderr",
     "output_type": "stream",
     "text": [
      "100%|██████████| 2/2 [00:00<00:00,  8.16it/s]\n",
      "Processing Images:  40%|████      | 202/500 [05:40<08:21,  1.68s/file]"
     ]
    },
    {
     "name": "stdout",
     "output_type": "stream",
     "text": [
      "Generated image saved at: dataset_str_0.05/48026-2.png\n"
     ]
    },
    {
     "name": "stderr",
     "output_type": "stream",
     "text": [
      "100%|██████████| 2/2 [00:00<00:00,  8.17it/s]\n",
      "Processing Images:  41%|████      | 203/500 [05:41<08:23,  1.70s/file]"
     ]
    },
    {
     "name": "stdout",
     "output_type": "stream",
     "text": [
      "Generated image saved at: dataset_str_0.05/08571-3.png\n"
     ]
    },
    {
     "name": "stderr",
     "output_type": "stream",
     "text": [
      "100%|██████████| 2/2 [00:00<00:00,  8.21it/s]\n",
      "Processing Images:  41%|████      | 204/500 [05:43<08:25,  1.71s/file]"
     ]
    },
    {
     "name": "stdout",
     "output_type": "stream",
     "text": [
      "Generated image saved at: dataset_str_0.05/45030-2.png\n"
     ]
    },
    {
     "name": "stderr",
     "output_type": "stream",
     "text": [
      "100%|██████████| 2/2 [00:00<00:00,  8.21it/s]\n",
      "Processing Images:  41%|████      | 205/500 [05:45<08:24,  1.71s/file]"
     ]
    },
    {
     "name": "stdout",
     "output_type": "stream",
     "text": [
      "Generated image saved at: dataset_str_0.05/15889-2.png\n"
     ]
    },
    {
     "name": "stderr",
     "output_type": "stream",
     "text": [
      "100%|██████████| 2/2 [00:00<00:00,  8.23it/s]\n",
      "Processing Images:  41%|████      | 206/500 [05:46<08:06,  1.65s/file]"
     ]
    },
    {
     "name": "stdout",
     "output_type": "stream",
     "text": [
      "Generated image saved at: dataset_str_0.05/06684-2.png\n"
     ]
    },
    {
     "name": "stderr",
     "output_type": "stream",
     "text": [
      "100%|██████████| 2/2 [00:00<00:00,  8.10it/s]\n",
      "Processing Images:  41%|████▏     | 207/500 [05:48<08:13,  1.69s/file]"
     ]
    },
    {
     "name": "stdout",
     "output_type": "stream",
     "text": [
      "Generated image saved at: dataset_str_0.05/20735-2.png\n"
     ]
    },
    {
     "name": "stderr",
     "output_type": "stream",
     "text": [
      "100%|██████████| 2/2 [00:00<00:00,  8.22it/s]\n",
      "Processing Images:  42%|████▏     | 208/500 [05:50<08:13,  1.69s/file]"
     ]
    },
    {
     "name": "stdout",
     "output_type": "stream",
     "text": [
      "Generated image saved at: dataset_str_0.05/20480-4.png\n"
     ]
    },
    {
     "name": "stderr",
     "output_type": "stream",
     "text": [
      "100%|██████████| 2/2 [00:00<00:00,  8.16it/s]\n",
      "Processing Images:  42%|████▏     | 209/500 [05:51<08:19,  1.72s/file]"
     ]
    },
    {
     "name": "stdout",
     "output_type": "stream",
     "text": [
      "Generated image saved at: dataset_str_0.05/27381-1.png\n"
     ]
    },
    {
     "name": "stderr",
     "output_type": "stream",
     "text": [
      "100%|██████████| 2/2 [00:00<00:00,  8.12it/s]\n",
      "Processing Images:  42%|████▏     | 210/500 [05:53<08:06,  1.68s/file]"
     ]
    },
    {
     "name": "stdout",
     "output_type": "stream",
     "text": [
      "Generated image saved at: dataset_str_0.05/30162-5.png\n"
     ]
    },
    {
     "name": "stderr",
     "output_type": "stream",
     "text": [
      "100%|██████████| 2/2 [00:00<00:00,  8.14it/s]\n",
      "Processing Images:  42%|████▏     | 211/500 [05:55<08:09,  1.69s/file]"
     ]
    },
    {
     "name": "stdout",
     "output_type": "stream",
     "text": [
      "Generated image saved at: dataset_str_0.05/07984-1.png\n"
     ]
    },
    {
     "name": "stderr",
     "output_type": "stream",
     "text": [
      "100%|██████████| 2/2 [00:00<00:00,  8.20it/s]\n",
      "Processing Images:  42%|████▏     | 212/500 [05:57<08:15,  1.72s/file]"
     ]
    },
    {
     "name": "stdout",
     "output_type": "stream",
     "text": [
      "Generated image saved at: dataset_str_0.05/32042-3.png\n"
     ]
    },
    {
     "name": "stderr",
     "output_type": "stream",
     "text": [
      "100%|██████████| 2/2 [00:00<00:00,  8.22it/s]\n",
      "Processing Images:  43%|████▎     | 213/500 [05:58<08:03,  1.68s/file]"
     ]
    },
    {
     "name": "stdout",
     "output_type": "stream",
     "text": [
      "Generated image saved at: dataset_str_0.05/03152-5.png\n"
     ]
    },
    {
     "name": "stderr",
     "output_type": "stream",
     "text": [
      "100%|██████████| 2/2 [00:00<00:00,  8.19it/s]\n",
      "Processing Images:  43%|████▎     | 214/500 [06:00<08:01,  1.68s/file]"
     ]
    },
    {
     "name": "stdout",
     "output_type": "stream",
     "text": [
      "Generated image saved at: dataset_str_0.05/28008-2.png\n"
     ]
    },
    {
     "name": "stderr",
     "output_type": "stream",
     "text": [
      "100%|██████████| 2/2 [00:00<00:00,  8.19it/s]\n",
      "Processing Images:  43%|████▎     | 215/500 [06:02<08:03,  1.70s/file]"
     ]
    },
    {
     "name": "stdout",
     "output_type": "stream",
     "text": [
      "Generated image saved at: dataset_str_0.05/40153-5.png\n"
     ]
    },
    {
     "name": "stderr",
     "output_type": "stream",
     "text": [
      "100%|██████████| 2/2 [00:00<00:00,  8.18it/s]\n",
      "Processing Images:  43%|████▎     | 216/500 [06:03<07:59,  1.69s/file]"
     ]
    },
    {
     "name": "stdout",
     "output_type": "stream",
     "text": [
      "Generated image saved at: dataset_str_0.05/14292-3.png\n"
     ]
    },
    {
     "name": "stderr",
     "output_type": "stream",
     "text": [
      "100%|██████████| 2/2 [00:00<00:00,  8.22it/s]\n",
      "Processing Images:  43%|████▎     | 217/500 [06:05<07:58,  1.69s/file]"
     ]
    },
    {
     "name": "stdout",
     "output_type": "stream",
     "text": [
      "Generated image saved at: dataset_str_0.05/03757-5.png\n"
     ]
    },
    {
     "name": "stderr",
     "output_type": "stream",
     "text": [
      "100%|██████████| 2/2 [00:00<00:00,  8.17it/s]\n",
      "Processing Images:  44%|████▎     | 218/500 [06:07<08:05,  1.72s/file]"
     ]
    },
    {
     "name": "stdout",
     "output_type": "stream",
     "text": [
      "Generated image saved at: dataset_str_0.05/22832-2.png\n"
     ]
    },
    {
     "name": "stderr",
     "output_type": "stream",
     "text": [
      "100%|██████████| 2/2 [00:00<00:00,  8.18it/s]\n",
      "Processing Images:  44%|████▍     | 219/500 [06:08<08:01,  1.71s/file]"
     ]
    },
    {
     "name": "stdout",
     "output_type": "stream",
     "text": [
      "Generated image saved at: dataset_str_0.05/03757-2.png\n"
     ]
    },
    {
     "name": "stderr",
     "output_type": "stream",
     "text": [
      "100%|██████████| 2/2 [00:00<00:00,  8.21it/s]\n",
      "Processing Images:  44%|████▍     | 220/500 [06:10<07:54,  1.70s/file]"
     ]
    },
    {
     "name": "stdout",
     "output_type": "stream",
     "text": [
      "Generated image saved at: dataset_str_0.05/43551-2.png\n"
     ]
    },
    {
     "name": "stderr",
     "output_type": "stream",
     "text": [
      "100%|██████████| 2/2 [00:00<00:00,  8.14it/s]\n",
      "Processing Images:  44%|████▍     | 221/500 [06:12<07:52,  1.69s/file]"
     ]
    },
    {
     "name": "stdout",
     "output_type": "stream",
     "text": [
      "Generated image saved at: dataset_str_0.05/29685-2.png\n"
     ]
    },
    {
     "name": "stderr",
     "output_type": "stream",
     "text": [
      "100%|██████████| 2/2 [00:00<00:00,  8.11it/s]\n",
      "Processing Images:  44%|████▍     | 222/500 [06:13<07:52,  1.70s/file]"
     ]
    },
    {
     "name": "stdout",
     "output_type": "stream",
     "text": [
      "Generated image saved at: dataset_str_0.05/21275-4.png\n"
     ]
    },
    {
     "name": "stderr",
     "output_type": "stream",
     "text": [
      "100%|██████████| 2/2 [00:00<00:00,  8.14it/s]\n",
      "Processing Images:  45%|████▍     | 223/500 [06:15<07:50,  1.70s/file]"
     ]
    },
    {
     "name": "stdout",
     "output_type": "stream",
     "text": [
      "Generated image saved at: dataset_str_0.05/40022-2.png\n"
     ]
    },
    {
     "name": "stderr",
     "output_type": "stream",
     "text": [
      "100%|██████████| 2/2 [00:00<00:00,  8.19it/s]\n",
      "Processing Images:  45%|████▍     | 224/500 [06:17<07:46,  1.69s/file]"
     ]
    },
    {
     "name": "stdout",
     "output_type": "stream",
     "text": [
      "Generated image saved at: dataset_str_0.05/01757-2.png\n"
     ]
    },
    {
     "name": "stderr",
     "output_type": "stream",
     "text": [
      "100%|██████████| 2/2 [00:00<00:00,  8.07it/s]\n",
      "Processing Images:  45%|████▌     | 225/500 [06:19<07:51,  1.72s/file]"
     ]
    },
    {
     "name": "stdout",
     "output_type": "stream",
     "text": [
      "Generated image saved at: dataset_str_0.05/31127-2.png\n"
     ]
    },
    {
     "name": "stderr",
     "output_type": "stream",
     "text": [
      "100%|██████████| 2/2 [00:00<00:00,  8.20it/s]\n",
      "Processing Images:  45%|████▌     | 226/500 [06:20<07:49,  1.71s/file]"
     ]
    },
    {
     "name": "stdout",
     "output_type": "stream",
     "text": [
      "Generated image saved at: dataset_str_0.05/04593-3.png\n"
     ]
    },
    {
     "name": "stderr",
     "output_type": "stream",
     "text": [
      "100%|██████████| 2/2 [00:00<00:00,  8.20it/s]\n",
      "Processing Images:  45%|████▌     | 227/500 [06:22<07:47,  1.71s/file]"
     ]
    },
    {
     "name": "stdout",
     "output_type": "stream",
     "text": [
      "Generated image saved at: dataset_str_0.05/05219-5.png\n"
     ]
    },
    {
     "name": "stderr",
     "output_type": "stream",
     "text": [
      "100%|██████████| 2/2 [00:00<00:00,  8.20it/s]\n",
      "Processing Images:  46%|████▌     | 228/500 [06:24<07:49,  1.73s/file]"
     ]
    },
    {
     "name": "stdout",
     "output_type": "stream",
     "text": [
      "Generated image saved at: dataset_str_0.05/10840-3.png\n"
     ]
    },
    {
     "name": "stderr",
     "output_type": "stream",
     "text": [
      "100%|██████████| 2/2 [00:00<00:00,  8.17it/s]\n",
      "Processing Images:  46%|████▌     | 229/500 [06:25<07:42,  1.71s/file]"
     ]
    },
    {
     "name": "stdout",
     "output_type": "stream",
     "text": [
      "Generated image saved at: dataset_str_0.05/04931-2.png\n"
     ]
    },
    {
     "name": "stderr",
     "output_type": "stream",
     "text": [
      "100%|██████████| 2/2 [00:00<00:00,  8.12it/s]\n",
      "Processing Images:  46%|████▌     | 230/500 [06:27<07:43,  1.72s/file]"
     ]
    },
    {
     "name": "stdout",
     "output_type": "stream",
     "text": [
      "Generated image saved at: dataset_str_0.05/31780-4.png\n"
     ]
    },
    {
     "name": "stderr",
     "output_type": "stream",
     "text": [
      "100%|██████████| 2/2 [00:00<00:00,  8.20it/s]\n",
      "Processing Images:  46%|████▌     | 231/500 [06:29<07:41,  1.72s/file]"
     ]
    },
    {
     "name": "stdout",
     "output_type": "stream",
     "text": [
      "Generated image saved at: dataset_str_0.05/12339-5.png\n"
     ]
    },
    {
     "name": "stderr",
     "output_type": "stream",
     "text": [
      "100%|██████████| 2/2 [00:00<00:00,  8.12it/s]\n",
      "Processing Images:  46%|████▋     | 232/500 [06:31<07:41,  1.72s/file]"
     ]
    },
    {
     "name": "stdout",
     "output_type": "stream",
     "text": [
      "Generated image saved at: dataset_str_0.05/48026-1.png\n"
     ]
    },
    {
     "name": "stderr",
     "output_type": "stream",
     "text": [
      "100%|██████████| 2/2 [00:00<00:00,  8.13it/s]\n",
      "Processing Images:  47%|████▋     | 233/500 [06:32<07:45,  1.74s/file]"
     ]
    },
    {
     "name": "stdout",
     "output_type": "stream",
     "text": [
      "Generated image saved at: dataset_str_0.05/27381-5.png\n"
     ]
    },
    {
     "name": "stderr",
     "output_type": "stream",
     "text": [
      "100%|██████████| 2/2 [00:00<00:00,  8.14it/s]\n",
      "Processing Images:  47%|████▋     | 234/500 [06:34<07:38,  1.73s/file]"
     ]
    },
    {
     "name": "stdout",
     "output_type": "stream",
     "text": [
      "Generated image saved at: dataset_str_0.05/18454-2.png\n"
     ]
    },
    {
     "name": "stderr",
     "output_type": "stream",
     "text": [
      "100%|██████████| 2/2 [00:00<00:00,  8.13it/s]\n",
      "Processing Images:  47%|████▋     | 235/500 [06:36<07:36,  1.72s/file]"
     ]
    },
    {
     "name": "stdout",
     "output_type": "stream",
     "text": [
      "Generated image saved at: dataset_str_0.05/34107-4.png\n"
     ]
    },
    {
     "name": "stderr",
     "output_type": "stream",
     "text": [
      "100%|██████████| 2/2 [00:00<00:00,  7.21it/s]\n",
      "Processing Images:  47%|████▋     | 236/500 [06:38<07:32,  1.71s/file]"
     ]
    },
    {
     "name": "stdout",
     "output_type": "stream",
     "text": [
      "Generated image saved at: dataset_str_0.05/40153-2.png\n"
     ]
    },
    {
     "name": "stderr",
     "output_type": "stream",
     "text": [
      "100%|██████████| 2/2 [00:00<00:00,  8.18it/s]\n",
      "Processing Images:  47%|████▋     | 237/500 [06:39<07:29,  1.71s/file]"
     ]
    },
    {
     "name": "stdout",
     "output_type": "stream",
     "text": [
      "Generated image saved at: dataset_str_0.05/11465-5.png\n"
     ]
    },
    {
     "name": "stderr",
     "output_type": "stream",
     "text": [
      "100%|██████████| 2/2 [00:00<00:00,  8.19it/s]\n",
      "Processing Images:  48%|████▊     | 238/500 [06:41<07:24,  1.70s/file]"
     ]
    },
    {
     "name": "stdout",
     "output_type": "stream",
     "text": [
      "Generated image saved at: dataset_str_0.05/36585-5.png\n"
     ]
    },
    {
     "name": "stderr",
     "output_type": "stream",
     "text": [
      "100%|██████████| 2/2 [00:00<00:00,  8.20it/s]\n",
      "Processing Images:  48%|████▊     | 239/500 [06:43<07:17,  1.67s/file]"
     ]
    },
    {
     "name": "stdout",
     "output_type": "stream",
     "text": [
      "Generated image saved at: dataset_str_0.05/18975-4.png\n"
     ]
    },
    {
     "name": "stderr",
     "output_type": "stream",
     "text": [
      "100%|██████████| 2/2 [00:00<00:00,  8.24it/s]\n",
      "Processing Images:  48%|████▊     | 240/500 [06:44<07:18,  1.69s/file]"
     ]
    },
    {
     "name": "stdout",
     "output_type": "stream",
     "text": [
      "Generated image saved at: dataset_str_0.05/41952-4.png\n"
     ]
    },
    {
     "name": "stderr",
     "output_type": "stream",
     "text": [
      "100%|██████████| 2/2 [00:00<00:00,  8.23it/s]\n",
      "Processing Images:  48%|████▊     | 241/500 [06:46<07:18,  1.69s/file]"
     ]
    },
    {
     "name": "stdout",
     "output_type": "stream",
     "text": [
      "Generated image saved at: dataset_str_0.05/18442-4.png\n"
     ]
    },
    {
     "name": "stderr",
     "output_type": "stream",
     "text": [
      "100%|██████████| 2/2 [00:00<00:00,  7.83it/s]\n",
      "Processing Images:  48%|████▊     | 242/500 [06:48<07:19,  1.70s/file]"
     ]
    },
    {
     "name": "stdout",
     "output_type": "stream",
     "text": [
      "Generated image saved at: dataset_str_0.05/39103-4.png\n"
     ]
    },
    {
     "name": "stderr",
     "output_type": "stream",
     "text": [
      "100%|██████████| 2/2 [00:00<00:00,  8.21it/s]\n",
      "Processing Images:  49%|████▊     | 243/500 [06:49<07:16,  1.70s/file]"
     ]
    },
    {
     "name": "stdout",
     "output_type": "stream",
     "text": [
      "Generated image saved at: dataset_str_0.05/24385-2.png\n"
     ]
    },
    {
     "name": "stderr",
     "output_type": "stream",
     "text": [
      "100%|██████████| 2/2 [00:00<00:00,  8.23it/s]\n",
      "Processing Images:  49%|████▉     | 244/500 [06:51<07:16,  1.71s/file]"
     ]
    },
    {
     "name": "stdout",
     "output_type": "stream",
     "text": [
      "Generated image saved at: dataset_str_0.05/48480-2.png\n"
     ]
    },
    {
     "name": "stderr",
     "output_type": "stream",
     "text": [
      "100%|██████████| 2/2 [00:00<00:00,  8.22it/s]\n",
      "Processing Images:  49%|████▉     | 245/500 [06:53<07:16,  1.71s/file]"
     ]
    },
    {
     "name": "stdout",
     "output_type": "stream",
     "text": [
      "Generated image saved at: dataset_str_0.05/18760-2.png\n"
     ]
    },
    {
     "name": "stderr",
     "output_type": "stream",
     "text": [
      "100%|██████████| 2/2 [00:00<00:00,  8.22it/s]\n",
      "Processing Images:  49%|████▉     | 246/500 [06:55<07:14,  1.71s/file]"
     ]
    },
    {
     "name": "stdout",
     "output_type": "stream",
     "text": [
      "Generated image saved at: dataset_str_0.05/37025-2.png\n"
     ]
    },
    {
     "name": "stderr",
     "output_type": "stream",
     "text": [
      "100%|██████████| 2/2 [00:00<00:00,  8.21it/s]\n",
      "Processing Images:  49%|████▉     | 247/500 [06:56<07:10,  1.70s/file]"
     ]
    },
    {
     "name": "stdout",
     "output_type": "stream",
     "text": [
      "Generated image saved at: dataset_str_0.05/43551-4.png\n"
     ]
    },
    {
     "name": "stderr",
     "output_type": "stream",
     "text": [
      "100%|██████████| 2/2 [00:00<00:00,  7.77it/s]\n",
      "Processing Images:  50%|████▉     | 248/500 [06:58<07:09,  1.70s/file]"
     ]
    },
    {
     "name": "stdout",
     "output_type": "stream",
     "text": [
      "Generated image saved at: dataset_str_0.05/09795-2.png\n"
     ]
    },
    {
     "name": "stderr",
     "output_type": "stream",
     "text": [
      "100%|██████████| 2/2 [00:00<00:00,  8.22it/s]\n",
      "Processing Images:  50%|████▉     | 249/500 [07:00<07:12,  1.72s/file]"
     ]
    },
    {
     "name": "stdout",
     "output_type": "stream",
     "text": [
      "Generated image saved at: dataset_str_0.05/20958-4.png\n"
     ]
    },
    {
     "name": "stderr",
     "output_type": "stream",
     "text": [
      "100%|██████████| 2/2 [00:00<00:00,  8.21it/s]\n",
      "Processing Images:  50%|█████     | 250/500 [07:01<07:06,  1.71s/file]"
     ]
    },
    {
     "name": "stdout",
     "output_type": "stream",
     "text": [
      "Generated image saved at: dataset_str_0.05/29457-4.png\n"
     ]
    },
    {
     "name": "stderr",
     "output_type": "stream",
     "text": [
      "100%|██████████| 2/2 [00:00<00:00,  8.22it/s]\n",
      "Processing Images:  50%|█████     | 251/500 [07:03<06:49,  1.64s/file]"
     ]
    },
    {
     "name": "stdout",
     "output_type": "stream",
     "text": [
      "Generated image saved at: dataset_str_0.05/06684-5.png\n"
     ]
    },
    {
     "name": "stderr",
     "output_type": "stream",
     "text": [
      "100%|██████████| 2/2 [00:00<00:00,  8.18it/s]\n",
      "Processing Images:  50%|█████     | 252/500 [07:04<06:49,  1.65s/file]"
     ]
    },
    {
     "name": "stdout",
     "output_type": "stream",
     "text": [
      "Generated image saved at: dataset_str_0.05/38566-4.png\n"
     ]
    },
    {
     "name": "stderr",
     "output_type": "stream",
     "text": [
      "100%|██████████| 2/2 [00:00<00:00,  8.21it/s]\n",
      "Processing Images:  51%|█████     | 253/500 [07:06<06:51,  1.67s/file]"
     ]
    },
    {
     "name": "stdout",
     "output_type": "stream",
     "text": [
      "Generated image saved at: dataset_str_0.05/29457-5.png\n"
     ]
    },
    {
     "name": "stderr",
     "output_type": "stream",
     "text": [
      "100%|██████████| 2/2 [00:00<00:00,  7.81it/s]\n",
      "Processing Images:  51%|█████     | 254/500 [07:08<06:59,  1.70s/file]"
     ]
    },
    {
     "name": "stdout",
     "output_type": "stream",
     "text": [
      "Generated image saved at: dataset_str_0.05/20958-5.png\n"
     ]
    },
    {
     "name": "stderr",
     "output_type": "stream",
     "text": [
      "100%|██████████| 2/2 [00:00<00:00,  8.21it/s]\n",
      "Processing Images:  51%|█████     | 255/500 [07:10<07:00,  1.72s/file]"
     ]
    },
    {
     "name": "stdout",
     "output_type": "stream",
     "text": [
      "Generated image saved at: dataset_str_0.05/41630-3.png\n"
     ]
    },
    {
     "name": "stderr",
     "output_type": "stream",
     "text": [
      "100%|██████████| 2/2 [00:00<00:00,  8.17it/s]\n",
      "Processing Images:  51%|█████     | 256/500 [07:11<07:01,  1.73s/file]"
     ]
    },
    {
     "name": "stdout",
     "output_type": "stream",
     "text": [
      "Generated image saved at: dataset_str_0.05/47768-4.png\n"
     ]
    },
    {
     "name": "stderr",
     "output_type": "stream",
     "text": [
      "100%|██████████| 2/2 [00:00<00:00,  8.21it/s]\n",
      "Processing Images:  51%|█████▏    | 257/500 [07:13<06:59,  1.72s/file]"
     ]
    },
    {
     "name": "stdout",
     "output_type": "stream",
     "text": [
      "Generated image saved at: dataset_str_0.05/14293-3.png\n"
     ]
    },
    {
     "name": "stderr",
     "output_type": "stream",
     "text": [
      "100%|██████████| 2/2 [00:00<00:00,  8.20it/s]\n",
      "Processing Images:  52%|█████▏    | 258/500 [07:15<06:54,  1.71s/file]"
     ]
    },
    {
     "name": "stdout",
     "output_type": "stream",
     "text": [
      "Generated image saved at: dataset_str_0.05/36472-5.png\n"
     ]
    },
    {
     "name": "stderr",
     "output_type": "stream",
     "text": [
      "100%|██████████| 2/2 [00:00<00:00,  8.19it/s]\n",
      "Processing Images:  52%|█████▏    | 259/500 [07:16<06:43,  1.68s/file]"
     ]
    },
    {
     "name": "stdout",
     "output_type": "stream",
     "text": [
      "Generated image saved at: dataset_str_0.05/36645-5.png\n"
     ]
    },
    {
     "name": "stderr",
     "output_type": "stream",
     "text": [
      "100%|██████████| 2/2 [00:00<00:00,  7.71it/s]\n",
      "Processing Images:  52%|█████▏    | 260/500 [07:18<06:40,  1.67s/file]"
     ]
    },
    {
     "name": "stdout",
     "output_type": "stream",
     "text": [
      "Generated image saved at: dataset_str_0.05/37925-1.png\n"
     ]
    },
    {
     "name": "stderr",
     "output_type": "stream",
     "text": [
      "100%|██████████| 2/2 [00:00<00:00,  7.68it/s]\n",
      "Processing Images:  52%|█████▏    | 261/500 [07:20<06:23,  1.60s/file]"
     ]
    },
    {
     "name": "stdout",
     "output_type": "stream",
     "text": [
      "Generated image saved at: dataset_str_0.05/39219-5.png\n"
     ]
    },
    {
     "name": "stderr",
     "output_type": "stream",
     "text": [
      "100%|██████████| 2/2 [00:00<00:00,  8.21it/s]\n",
      "Processing Images:  52%|█████▏    | 262/500 [07:21<06:26,  1.62s/file]"
     ]
    },
    {
     "name": "stdout",
     "output_type": "stream",
     "text": [
      "Generated image saved at: dataset_str_0.05/13765-5.png\n"
     ]
    },
    {
     "name": "stderr",
     "output_type": "stream",
     "text": [
      "100%|██████████| 2/2 [00:00<00:00,  8.21it/s]\n",
      "Processing Images:  53%|█████▎    | 263/500 [07:23<06:27,  1.64s/file]"
     ]
    },
    {
     "name": "stdout",
     "output_type": "stream",
     "text": [
      "Generated image saved at: dataset_str_0.05/36063-1.png\n"
     ]
    },
    {
     "name": "stderr",
     "output_type": "stream",
     "text": [
      "100%|██████████| 2/2 [00:00<00:00,  8.25it/s]\n",
      "Processing Images:  53%|█████▎    | 264/500 [07:24<06:13,  1.58s/file]"
     ]
    },
    {
     "name": "stdout",
     "output_type": "stream",
     "text": [
      "Generated image saved at: dataset_str_0.05/47551-5.png\n"
     ]
    },
    {
     "name": "stderr",
     "output_type": "stream",
     "text": [
      "100%|██████████| 2/2 [00:00<00:00,  8.20it/s]\n",
      "Processing Images:  53%|█████▎    | 265/500 [07:26<06:05,  1.56s/file]"
     ]
    },
    {
     "name": "stdout",
     "output_type": "stream",
     "text": [
      "Generated image saved at: dataset_str_0.05/06684-4.png\n"
     ]
    },
    {
     "name": "stderr",
     "output_type": "stream",
     "text": [
      "100%|██████████| 2/2 [00:00<00:00,  8.23it/s]\n",
      "Processing Images:  53%|█████▎    | 266/500 [07:27<06:07,  1.57s/file]"
     ]
    },
    {
     "name": "stdout",
     "output_type": "stream",
     "text": [
      "Generated image saved at: dataset_str_0.05/47596-4.png\n"
     ]
    },
    {
     "name": "stderr",
     "output_type": "stream",
     "text": [
      "100%|██████████| 2/2 [00:00<00:00,  8.21it/s]\n",
      "Processing Images:  53%|█████▎    | 267/500 [07:29<06:22,  1.64s/file]"
     ]
    },
    {
     "name": "stdout",
     "output_type": "stream",
     "text": [
      "Generated image saved at: dataset_str_0.05/27381-2.png\n"
     ]
    },
    {
     "name": "stderr",
     "output_type": "stream",
     "text": [
      "100%|██████████| 2/2 [00:00<00:00,  8.21it/s]\n",
      "Processing Images:  54%|█████▎    | 268/500 [07:31<06:12,  1.61s/file]"
     ]
    },
    {
     "name": "stdout",
     "output_type": "stream",
     "text": [
      "Generated image saved at: dataset_str_0.05/30162-1.png\n"
     ]
    },
    {
     "name": "stderr",
     "output_type": "stream",
     "text": [
      "100%|██████████| 2/2 [00:00<00:00,  8.05it/s]\n",
      "Processing Images:  54%|█████▍    | 269/500 [07:32<06:12,  1.61s/file]"
     ]
    },
    {
     "name": "stdout",
     "output_type": "stream",
     "text": [
      "Generated image saved at: dataset_str_0.05/01126-3.png\n"
     ]
    },
    {
     "name": "stderr",
     "output_type": "stream",
     "text": [
      "100%|██████████| 2/2 [00:00<00:00,  8.22it/s]\n",
      "Processing Images:  54%|█████▍    | 270/500 [07:34<06:17,  1.64s/file]"
     ]
    },
    {
     "name": "stdout",
     "output_type": "stream",
     "text": [
      "Generated image saved at: dataset_str_0.05/37025-5.png\n"
     ]
    },
    {
     "name": "stderr",
     "output_type": "stream",
     "text": [
      "100%|██████████| 2/2 [00:00<00:00,  8.23it/s]\n",
      "Processing Images:  54%|█████▍    | 271/500 [07:36<06:18,  1.65s/file]"
     ]
    },
    {
     "name": "stdout",
     "output_type": "stream",
     "text": [
      "Generated image saved at: dataset_str_0.05/36585-3.png\n"
     ]
    },
    {
     "name": "stderr",
     "output_type": "stream",
     "text": [
      "100%|██████████| 2/2 [00:00<00:00,  8.21it/s]\n",
      "Processing Images:  54%|█████▍    | 272/500 [07:38<06:20,  1.67s/file]"
     ]
    },
    {
     "name": "stdout",
     "output_type": "stream",
     "text": [
      "Generated image saved at: dataset_str_0.05/03757-4.png\n"
     ]
    },
    {
     "name": "stderr",
     "output_type": "stream",
     "text": [
      "100%|██████████| 2/2 [00:00<00:00,  8.21it/s]\n",
      "Processing Images:  55%|█████▍    | 273/500 [07:39<06:21,  1.68s/file]"
     ]
    },
    {
     "name": "stdout",
     "output_type": "stream",
     "text": [
      "Generated image saved at: dataset_str_0.05/47386-3.png\n"
     ]
    },
    {
     "name": "stderr",
     "output_type": "stream",
     "text": [
      "100%|██████████| 2/2 [00:00<00:00,  8.21it/s]\n",
      "Processing Images:  55%|█████▍    | 274/500 [07:41<06:25,  1.71s/file]"
     ]
    },
    {
     "name": "stdout",
     "output_type": "stream",
     "text": [
      "Generated image saved at: dataset_str_0.05/20958-1.png\n"
     ]
    },
    {
     "name": "stderr",
     "output_type": "stream",
     "text": [
      "100%|██████████| 2/2 [00:00<00:00,  8.17it/s]\n",
      "Processing Images:  55%|█████▌    | 275/500 [07:43<06:22,  1.70s/file]"
     ]
    },
    {
     "name": "stdout",
     "output_type": "stream",
     "text": [
      "Generated image saved at: dataset_str_0.05/14292-4.png\n"
     ]
    },
    {
     "name": "stderr",
     "output_type": "stream",
     "text": [
      "100%|██████████| 2/2 [00:00<00:00,  8.23it/s]\n",
      "Processing Images:  55%|█████▌    | 276/500 [07:44<06:20,  1.70s/file]"
     ]
    },
    {
     "name": "stdout",
     "output_type": "stream",
     "text": [
      "Generated image saved at: dataset_str_0.05/47386-4.png\n"
     ]
    },
    {
     "name": "stderr",
     "output_type": "stream",
     "text": [
      "100%|██████████| 2/2 [00:00<00:00,  8.21it/s]\n",
      "Processing Images:  55%|█████▌    | 277/500 [07:46<06:19,  1.70s/file]"
     ]
    },
    {
     "name": "stdout",
     "output_type": "stream",
     "text": [
      "Generated image saved at: dataset_str_0.05/35544-3.png\n"
     ]
    },
    {
     "name": "stderr",
     "output_type": "stream",
     "text": [
      "100%|██████████| 2/2 [00:00<00:00,  8.20it/s]\n",
      "Processing Images:  56%|█████▌    | 278/500 [07:48<06:21,  1.72s/file]"
     ]
    },
    {
     "name": "stdout",
     "output_type": "stream",
     "text": [
      "Generated image saved at: dataset_str_0.05/12911-5.png\n"
     ]
    },
    {
     "name": "stderr",
     "output_type": "stream",
     "text": [
      "100%|██████████| 2/2 [00:00<00:00,  8.21it/s]\n",
      "Processing Images:  56%|█████▌    | 279/500 [07:50<06:22,  1.73s/file]"
     ]
    },
    {
     "name": "stdout",
     "output_type": "stream",
     "text": [
      "Generated image saved at: dataset_str_0.05/31577-3.png\n"
     ]
    },
    {
     "name": "stderr",
     "output_type": "stream",
     "text": [
      "100%|██████████| 2/2 [00:00<00:00,  8.21it/s]\n",
      "Processing Images:  56%|█████▌    | 280/500 [07:51<06:21,  1.73s/file]"
     ]
    },
    {
     "name": "stdout",
     "output_type": "stream",
     "text": [
      "Generated image saved at: dataset_str_0.05/15516-3.png\n"
     ]
    },
    {
     "name": "stderr",
     "output_type": "stream",
     "text": [
      "100%|██████████| 2/2 [00:00<00:00,  8.20it/s]\n",
      "Processing Images:  56%|█████▌    | 281/500 [07:53<06:16,  1.72s/file]"
     ]
    },
    {
     "name": "stdout",
     "output_type": "stream",
     "text": [
      "Generated image saved at: dataset_str_0.05/26762-5.png\n"
     ]
    },
    {
     "name": "stderr",
     "output_type": "stream",
     "text": [
      "100%|██████████| 2/2 [00:00<00:00,  8.22it/s]\n",
      "Processing Images:  56%|█████▋    | 282/500 [07:55<06:18,  1.74s/file]"
     ]
    },
    {
     "name": "stdout",
     "output_type": "stream",
     "text": [
      "Generated image saved at: dataset_str_0.05/47768-5.png\n"
     ]
    },
    {
     "name": "stderr",
     "output_type": "stream",
     "text": [
      "100%|██████████| 2/2 [00:00<00:00,  8.22it/s]\n",
      "Processing Images:  57%|█████▋    | 283/500 [07:57<06:16,  1.73s/file]"
     ]
    },
    {
     "name": "stdout",
     "output_type": "stream",
     "text": [
      "Generated image saved at: dataset_str_0.05/02898-5.png\n"
     ]
    },
    {
     "name": "stderr",
     "output_type": "stream",
     "text": [
      "100%|██████████| 2/2 [00:00<00:00,  8.22it/s]\n",
      "Processing Images:  57%|█████▋    | 284/500 [07:58<06:13,  1.73s/file]"
     ]
    },
    {
     "name": "stdout",
     "output_type": "stream",
     "text": [
      "Generated image saved at: dataset_str_0.05/39103-2.png\n"
     ]
    },
    {
     "name": "stderr",
     "output_type": "stream",
     "text": [
      "100%|██████████| 2/2 [00:00<00:00,  8.21it/s]\n",
      "Processing Images:  57%|█████▋    | 285/500 [08:00<06:04,  1.70s/file]"
     ]
    },
    {
     "name": "stdout",
     "output_type": "stream",
     "text": [
      "Generated image saved at: dataset_str_0.05/18454-1.png\n"
     ]
    },
    {
     "name": "stderr",
     "output_type": "stream",
     "text": [
      "100%|██████████| 2/2 [00:00<00:00,  8.18it/s]\n",
      "Processing Images:  57%|█████▋    | 286/500 [08:02<06:04,  1.70s/file]"
     ]
    },
    {
     "name": "stdout",
     "output_type": "stream",
     "text": [
      "Generated image saved at: dataset_str_0.05/15164-1.png\n"
     ]
    },
    {
     "name": "stderr",
     "output_type": "stream",
     "text": [
      "100%|██████████| 2/2 [00:00<00:00,  8.21it/s]\n",
      "Processing Images:  57%|█████▋    | 287/500 [08:03<06:03,  1.70s/file]"
     ]
    },
    {
     "name": "stdout",
     "output_type": "stream",
     "text": [
      "Generated image saved at: dataset_str_0.05/04242-2.png\n"
     ]
    },
    {
     "name": "stderr",
     "output_type": "stream",
     "text": [
      "100%|██████████| 2/2 [00:00<00:00,  8.23it/s]\n",
      "Processing Images:  58%|█████▊    | 288/500 [08:05<06:06,  1.73s/file]"
     ]
    },
    {
     "name": "stdout",
     "output_type": "stream",
     "text": [
      "Generated image saved at: dataset_str_0.05/20958-2.png\n"
     ]
    },
    {
     "name": "stderr",
     "output_type": "stream",
     "text": [
      "100%|██████████| 2/2 [00:00<00:00,  8.22it/s]\n",
      "Processing Images:  58%|█████▊    | 289/500 [08:07<06:06,  1.74s/file]"
     ]
    },
    {
     "name": "stdout",
     "output_type": "stream",
     "text": [
      "Generated image saved at: dataset_str_0.05/31780-1.png\n"
     ]
    },
    {
     "name": "stderr",
     "output_type": "stream",
     "text": [
      "100%|██████████| 2/2 [00:00<00:00,  8.23it/s]\n",
      "Processing Images:  58%|█████▊    | 290/500 [08:08<05:58,  1.71s/file]"
     ]
    },
    {
     "name": "stdout",
     "output_type": "stream",
     "text": [
      "Generated image saved at: dataset_str_0.05/37404-1.png\n"
     ]
    },
    {
     "name": "stderr",
     "output_type": "stream",
     "text": [
      "100%|██████████| 2/2 [00:00<00:00,  8.23it/s]\n",
      "Processing Images:  58%|█████▊    | 291/500 [08:10<05:54,  1.69s/file]"
     ]
    },
    {
     "name": "stdout",
     "output_type": "stream",
     "text": [
      "Generated image saved at: dataset_str_0.05/21275-5.png\n"
     ]
    },
    {
     "name": "stderr",
     "output_type": "stream",
     "text": [
      "100%|██████████| 2/2 [00:00<00:00,  8.22it/s]\n",
      "Processing Images:  58%|█████▊    | 292/500 [08:12<05:52,  1.69s/file]"
     ]
    },
    {
     "name": "stdout",
     "output_type": "stream",
     "text": [
      "Generated image saved at: dataset_str_0.05/04242-4.png\n"
     ]
    },
    {
     "name": "stderr",
     "output_type": "stream",
     "text": [
      "100%|██████████| 2/2 [00:00<00:00,  8.19it/s]\n",
      "Processing Images:  59%|█████▊    | 293/500 [08:14<05:53,  1.71s/file]"
     ]
    },
    {
     "name": "stdout",
     "output_type": "stream",
     "text": [
      "Generated image saved at: dataset_str_0.05/12823-4.png\n"
     ]
    },
    {
     "name": "stderr",
     "output_type": "stream",
     "text": [
      "100%|██████████| 2/2 [00:00<00:00,  8.17it/s]\n",
      "Processing Images:  59%|█████▉    | 294/500 [08:15<05:54,  1.72s/file]"
     ]
    },
    {
     "name": "stdout",
     "output_type": "stream",
     "text": [
      "Generated image saved at: dataset_str_0.05/15889-4.png\n"
     ]
    },
    {
     "name": "stderr",
     "output_type": "stream",
     "text": [
      "100%|██████████| 2/2 [00:00<00:00,  8.21it/s]\n",
      "Processing Images:  59%|█████▉    | 295/500 [08:17<05:45,  1.69s/file]"
     ]
    },
    {
     "name": "stdout",
     "output_type": "stream",
     "text": [
      "Generated image saved at: dataset_str_0.05/09618-3.png\n"
     ]
    },
    {
     "name": "stderr",
     "output_type": "stream",
     "text": [
      "100%|██████████| 2/2 [00:00<00:00,  8.12it/s]\n",
      "Processing Images:  59%|█████▉    | 296/500 [08:19<05:45,  1.69s/file]"
     ]
    },
    {
     "name": "stdout",
     "output_type": "stream",
     "text": [
      "Generated image saved at: dataset_str_0.05/11465-4.png\n"
     ]
    },
    {
     "name": "stderr",
     "output_type": "stream",
     "text": [
      "100%|██████████| 2/2 [00:00<00:00,  8.23it/s]\n",
      "Processing Images:  59%|█████▉    | 297/500 [08:20<05:35,  1.65s/file]"
     ]
    },
    {
     "name": "stdout",
     "output_type": "stream",
     "text": [
      "Generated image saved at: dataset_str_0.05/30162-2.png\n"
     ]
    },
    {
     "name": "stderr",
     "output_type": "stream",
     "text": [
      "100%|██████████| 2/2 [00:00<00:00,  8.21it/s]\n",
      "Processing Images:  60%|█████▉    | 298/500 [08:22<05:32,  1.65s/file]"
     ]
    },
    {
     "name": "stdout",
     "output_type": "stream",
     "text": [
      "Generated image saved at: dataset_str_0.05/43551-5.png\n"
     ]
    },
    {
     "name": "stderr",
     "output_type": "stream",
     "text": [
      "100%|██████████| 2/2 [00:00<00:00,  8.21it/s]\n",
      "Processing Images:  60%|█████▉    | 299/500 [08:24<05:35,  1.67s/file]"
     ]
    },
    {
     "name": "stdout",
     "output_type": "stream",
     "text": [
      "Generated image saved at: dataset_str_0.05/45030-3.png\n"
     ]
    },
    {
     "name": "stderr",
     "output_type": "stream",
     "text": [
      "100%|██████████| 2/2 [00:00<00:00,  8.21it/s]\n",
      "Processing Images:  60%|██████    | 300/500 [08:25<05:31,  1.66s/file]"
     ]
    },
    {
     "name": "stdout",
     "output_type": "stream",
     "text": [
      "Generated image saved at: dataset_str_0.05/37404-3.png\n"
     ]
    },
    {
     "name": "stderr",
     "output_type": "stream",
     "text": [
      "100%|██████████| 2/2 [00:00<00:00,  8.18it/s]\n",
      "Processing Images:  60%|██████    | 301/500 [08:27<05:32,  1.67s/file]"
     ]
    },
    {
     "name": "stdout",
     "output_type": "stream",
     "text": [
      "Generated image saved at: dataset_str_0.05/38717-3.png\n"
     ]
    },
    {
     "name": "stderr",
     "output_type": "stream",
     "text": [
      "100%|██████████| 2/2 [00:00<00:00,  8.14it/s]\n",
      "Processing Images:  60%|██████    | 302/500 [08:29<05:33,  1.68s/file]"
     ]
    },
    {
     "name": "stdout",
     "output_type": "stream",
     "text": [
      "Generated image saved at: dataset_str_0.05/11465-2.png\n"
     ]
    },
    {
     "name": "stderr",
     "output_type": "stream",
     "text": [
      "100%|██████████| 2/2 [00:00<00:00,  8.23it/s]\n",
      "Processing Images:  61%|██████    | 303/500 [08:30<05:31,  1.68s/file]"
     ]
    },
    {
     "name": "stdout",
     "output_type": "stream",
     "text": [
      "Generated image saved at: dataset_str_0.05/19296-3.png\n"
     ]
    },
    {
     "name": "stderr",
     "output_type": "stream",
     "text": [
      "100%|██████████| 2/2 [00:00<00:00,  8.24it/s]\n",
      "Processing Images:  61%|██████    | 304/500 [08:32<05:31,  1.69s/file]"
     ]
    },
    {
     "name": "stdout",
     "output_type": "stream",
     "text": [
      "Generated image saved at: dataset_str_0.05/04931-3.png\n"
     ]
    },
    {
     "name": "stderr",
     "output_type": "stream",
     "text": [
      "100%|██████████| 2/2 [00:00<00:00,  8.22it/s]\n",
      "Processing Images:  61%|██████    | 305/500 [08:34<05:29,  1.69s/file]"
     ]
    },
    {
     "name": "stdout",
     "output_type": "stream",
     "text": [
      "Generated image saved at: dataset_str_0.05/48480-5.png\n"
     ]
    },
    {
     "name": "stderr",
     "output_type": "stream",
     "text": [
      "100%|██████████| 2/2 [00:00<00:00,  8.20it/s]\n",
      "Processing Images:  61%|██████    | 306/500 [08:35<05:31,  1.71s/file]"
     ]
    },
    {
     "name": "stdout",
     "output_type": "stream",
     "text": [
      "Generated image saved at: dataset_str_0.05/12823-3.png\n"
     ]
    },
    {
     "name": "stderr",
     "output_type": "stream",
     "text": [
      "100%|██████████| 2/2 [00:00<00:00,  8.23it/s]\n",
      "Processing Images:  61%|██████▏   | 307/500 [08:37<05:27,  1.70s/file]"
     ]
    },
    {
     "name": "stdout",
     "output_type": "stream",
     "text": [
      "Generated image saved at: dataset_str_0.05/47596-1.png\n"
     ]
    },
    {
     "name": "stderr",
     "output_type": "stream",
     "text": [
      "100%|██████████| 2/2 [00:00<00:00,  8.14it/s]\n",
      "Processing Images:  62%|██████▏   | 308/500 [08:39<05:28,  1.71s/file]"
     ]
    },
    {
     "name": "stdout",
     "output_type": "stream",
     "text": [
      "Generated image saved at: dataset_str_0.05/41630-2.png\n"
     ]
    },
    {
     "name": "stderr",
     "output_type": "stream",
     "text": [
      "100%|██████████| 2/2 [00:00<00:00,  8.12it/s]\n",
      "Processing Images:  62%|██████▏   | 309/500 [08:41<05:25,  1.70s/file]"
     ]
    },
    {
     "name": "stdout",
     "output_type": "stream",
     "text": [
      "Generated image saved at: dataset_str_0.05/34107-5.png\n"
     ]
    },
    {
     "name": "stderr",
     "output_type": "stream",
     "text": [
      "100%|██████████| 2/2 [00:00<00:00,  8.19it/s]\n",
      "Processing Images:  62%|██████▏   | 310/500 [08:42<05:26,  1.72s/file]"
     ]
    },
    {
     "name": "stdout",
     "output_type": "stream",
     "text": [
      "Generated image saved at: dataset_str_0.05/27381-3.png\n"
     ]
    },
    {
     "name": "stderr",
     "output_type": "stream",
     "text": [
      "100%|██████████| 2/2 [00:00<00:00,  7.58it/s]\n",
      "Processing Images:  62%|██████▏   | 311/500 [08:44<05:26,  1.73s/file]"
     ]
    },
    {
     "name": "stdout",
     "output_type": "stream",
     "text": [
      "Generated image saved at: dataset_str_0.05/48480-1.png\n"
     ]
    },
    {
     "name": "stderr",
     "output_type": "stream",
     "text": [
      "100%|██████████| 2/2 [00:00<00:00,  8.21it/s]\n",
      "Processing Images:  62%|██████▏   | 312/500 [08:46<05:28,  1.75s/file]"
     ]
    },
    {
     "name": "stdout",
     "output_type": "stream",
     "text": [
      "Generated image saved at: dataset_str_0.05/31127-1.png\n"
     ]
    },
    {
     "name": "stderr",
     "output_type": "stream",
     "text": [
      "100%|██████████| 2/2 [00:00<00:00,  8.20it/s]\n",
      "Processing Images:  63%|██████▎   | 313/500 [08:47<05:20,  1.71s/file]"
     ]
    },
    {
     "name": "stdout",
     "output_type": "stream",
     "text": [
      "Generated image saved at: dataset_str_0.05/36529-2.png\n"
     ]
    },
    {
     "name": "stderr",
     "output_type": "stream",
     "text": [
      "100%|██████████| 2/2 [00:00<00:00,  8.22it/s]\n",
      "Processing Images:  63%|██████▎   | 314/500 [08:49<05:17,  1.71s/file]"
     ]
    },
    {
     "name": "stdout",
     "output_type": "stream",
     "text": [
      "Generated image saved at: dataset_str_0.05/03757-1.png\n"
     ]
    },
    {
     "name": "stderr",
     "output_type": "stream",
     "text": [
      "100%|██████████| 2/2 [00:00<00:00,  8.12it/s]\n",
      "Processing Images:  63%|██████▎   | 315/500 [08:51<05:17,  1.72s/file]"
     ]
    },
    {
     "name": "stdout",
     "output_type": "stream",
     "text": [
      "Generated image saved at: dataset_str_0.05/05547-2.png\n"
     ]
    },
    {
     "name": "stderr",
     "output_type": "stream",
     "text": [
      "100%|██████████| 2/2 [00:00<00:00,  8.22it/s]\n",
      "Processing Images:  63%|██████▎   | 316/500 [08:53<05:15,  1.71s/file]"
     ]
    },
    {
     "name": "stdout",
     "output_type": "stream",
     "text": [
      "Generated image saved at: dataset_str_0.05/45693-2.png\n"
     ]
    },
    {
     "name": "stderr",
     "output_type": "stream",
     "text": [
      "100%|██████████| 2/2 [00:00<00:00,  8.21it/s]\n",
      "Processing Images:  63%|██████▎   | 317/500 [08:54<05:10,  1.70s/file]"
     ]
    },
    {
     "name": "stdout",
     "output_type": "stream",
     "text": [
      "Generated image saved at: dataset_str_0.05/36472-1.png\n"
     ]
    },
    {
     "name": "stderr",
     "output_type": "stream",
     "text": [
      "100%|██████████| 2/2 [00:00<00:00,  8.20it/s]\n",
      "Processing Images:  64%|██████▎   | 318/500 [08:56<05:10,  1.71s/file]"
     ]
    },
    {
     "name": "stdout",
     "output_type": "stream",
     "text": [
      "Generated image saved at: dataset_str_0.05/12911-1.png\n"
     ]
    },
    {
     "name": "stderr",
     "output_type": "stream",
     "text": [
      "100%|██████████| 2/2 [00:00<00:00,  8.22it/s]\n",
      "Processing Images:  64%|██████▍   | 319/500 [08:58<05:06,  1.70s/file]"
     ]
    },
    {
     "name": "stdout",
     "output_type": "stream",
     "text": [
      "Generated image saved at: dataset_str_0.05/47819-2.png\n"
     ]
    },
    {
     "name": "stderr",
     "output_type": "stream",
     "text": [
      "100%|██████████| 2/2 [00:00<00:00,  8.19it/s]\n",
      "Processing Images:  64%|██████▍   | 320/500 [08:59<05:08,  1.72s/file]"
     ]
    },
    {
     "name": "stdout",
     "output_type": "stream",
     "text": [
      "Generated image saved at: dataset_str_0.05/03672-2.png\n"
     ]
    },
    {
     "name": "stderr",
     "output_type": "stream",
     "text": [
      "100%|██████████| 2/2 [00:00<00:00,  8.20it/s]\n",
      "Processing Images:  64%|██████▍   | 321/500 [09:01<05:06,  1.71s/file]"
     ]
    },
    {
     "name": "stdout",
     "output_type": "stream",
     "text": [
      "Generated image saved at: dataset_str_0.05/29685-3.png\n"
     ]
    },
    {
     "name": "stderr",
     "output_type": "stream",
     "text": [
      "100%|██████████| 2/2 [00:00<00:00,  8.21it/s]\n",
      "Processing Images:  64%|██████▍   | 322/500 [09:03<04:59,  1.68s/file]"
     ]
    },
    {
     "name": "stdout",
     "output_type": "stream",
     "text": [
      "Generated image saved at: dataset_str_0.05/36063-3.png\n"
     ]
    },
    {
     "name": "stderr",
     "output_type": "stream",
     "text": [
      "100%|██████████| 2/2 [00:00<00:00,  8.20it/s]\n",
      "Processing Images:  65%|██████▍   | 323/500 [09:04<04:56,  1.68s/file]"
     ]
    },
    {
     "name": "stdout",
     "output_type": "stream",
     "text": [
      "Generated image saved at: dataset_str_0.05/29653-5.png\n"
     ]
    },
    {
     "name": "stderr",
     "output_type": "stream",
     "text": [
      "100%|██████████| 2/2 [00:00<00:00,  8.21it/s]\n",
      "Processing Images:  65%|██████▍   | 324/500 [09:06<04:59,  1.70s/file]"
     ]
    },
    {
     "name": "stdout",
     "output_type": "stream",
     "text": [
      "Generated image saved at: dataset_str_0.05/27588-1.png\n"
     ]
    },
    {
     "name": "stderr",
     "output_type": "stream",
     "text": [
      "100%|██████████| 2/2 [00:00<00:00,  8.22it/s]\n",
      "Processing Images:  65%|██████▌   | 325/500 [09:08<04:56,  1.70s/file]"
     ]
    },
    {
     "name": "stdout",
     "output_type": "stream",
     "text": [
      "Generated image saved at: dataset_str_0.05/41909-1.png\n"
     ]
    },
    {
     "name": "stderr",
     "output_type": "stream",
     "text": [
      "100%|██████████| 2/2 [00:00<00:00,  8.13it/s]\n",
      "Processing Images:  65%|██████▌   | 326/500 [09:10<04:55,  1.70s/file]"
     ]
    },
    {
     "name": "stdout",
     "output_type": "stream",
     "text": [
      "Generated image saved at: dataset_str_0.05/45693-1.png\n"
     ]
    },
    {
     "name": "stderr",
     "output_type": "stream",
     "text": [
      "100%|██████████| 2/2 [00:00<00:00,  8.19it/s]\n",
      "Processing Images:  65%|██████▌   | 327/500 [09:11<04:57,  1.72s/file]"
     ]
    },
    {
     "name": "stdout",
     "output_type": "stream",
     "text": [
      "Generated image saved at: dataset_str_0.05/07984-4.png\n"
     ]
    },
    {
     "name": "stderr",
     "output_type": "stream",
     "text": [
      "100%|██████████| 2/2 [00:00<00:00,  8.21it/s]\n",
      "Processing Images:  66%|██████▌   | 328/500 [09:13<04:55,  1.72s/file]"
     ]
    },
    {
     "name": "stdout",
     "output_type": "stream",
     "text": [
      "Generated image saved at: dataset_str_0.05/14293-1.png\n"
     ]
    },
    {
     "name": "stderr",
     "output_type": "stream",
     "text": [
      "100%|██████████| 2/2 [00:00<00:00,  8.20it/s]\n",
      "Processing Images:  66%|██████▌   | 329/500 [09:15<04:53,  1.72s/file]"
     ]
    },
    {
     "name": "stdout",
     "output_type": "stream",
     "text": [
      "Generated image saved at: dataset_str_0.05/37237-5.png\n"
     ]
    },
    {
     "name": "stderr",
     "output_type": "stream",
     "text": [
      "100%|██████████| 2/2 [00:00<00:00,  8.20it/s]\n",
      "Processing Images:  66%|██████▌   | 330/500 [09:16<04:48,  1.70s/file]"
     ]
    },
    {
     "name": "stdout",
     "output_type": "stream",
     "text": [
      "Generated image saved at: dataset_str_0.05/36585-4.png\n"
     ]
    },
    {
     "name": "stderr",
     "output_type": "stream",
     "text": [
      "100%|██████████| 2/2 [00:00<00:00,  8.20it/s]\n",
      "Processing Images:  66%|██████▌   | 331/500 [09:18<04:42,  1.67s/file]"
     ]
    },
    {
     "name": "stdout",
     "output_type": "stream",
     "text": [
      "Generated image saved at: dataset_str_0.05/13341-2.png\n"
     ]
    },
    {
     "name": "stderr",
     "output_type": "stream",
     "text": [
      "100%|██████████| 2/2 [00:00<00:00,  8.08it/s]\n",
      "Processing Images:  66%|██████▋   | 332/500 [09:20<04:35,  1.64s/file]"
     ]
    },
    {
     "name": "stdout",
     "output_type": "stream",
     "text": [
      "Generated image saved at: dataset_str_0.05/13765-2.png\n"
     ]
    },
    {
     "name": "stderr",
     "output_type": "stream",
     "text": [
      "100%|██████████| 2/2 [00:00<00:00,  8.21it/s]\n",
      "Processing Images:  67%|██████▋   | 333/500 [09:21<04:36,  1.65s/file]"
     ]
    },
    {
     "name": "stdout",
     "output_type": "stream",
     "text": [
      "Generated image saved at: dataset_str_0.05/13246-5.png\n"
     ]
    },
    {
     "name": "stderr",
     "output_type": "stream",
     "text": [
      "100%|██████████| 2/2 [00:00<00:00,  8.21it/s]\n",
      "Processing Images:  67%|██████▋   | 334/500 [09:23<04:39,  1.69s/file]"
     ]
    },
    {
     "name": "stdout",
     "output_type": "stream",
     "text": [
      "Generated image saved at: dataset_str_0.05/12911-2.png\n"
     ]
    },
    {
     "name": "stderr",
     "output_type": "stream",
     "text": [
      "100%|██████████| 2/2 [00:00<00:00,  8.20it/s]\n",
      "Processing Images:  67%|██████▋   | 335/500 [09:25<04:38,  1.69s/file]"
     ]
    },
    {
     "name": "stdout",
     "output_type": "stream",
     "text": [
      "Generated image saved at: dataset_str_0.05/04593-1.png\n"
     ]
    },
    {
     "name": "stderr",
     "output_type": "stream",
     "text": [
      "100%|██████████| 2/2 [00:00<00:00,  8.19it/s]\n",
      "Processing Images:  67%|██████▋   | 336/500 [09:26<04:38,  1.70s/file]"
     ]
    },
    {
     "name": "stdout",
     "output_type": "stream",
     "text": [
      "Generated image saved at: dataset_str_0.05/45693-4.png\n"
     ]
    },
    {
     "name": "stderr",
     "output_type": "stream",
     "text": [
      "100%|██████████| 2/2 [00:00<00:00,  8.21it/s]\n",
      "Processing Images:  67%|██████▋   | 337/500 [09:28<04:36,  1.70s/file]"
     ]
    },
    {
     "name": "stdout",
     "output_type": "stream",
     "text": [
      "Generated image saved at: dataset_str_0.05/20543-5.png\n"
     ]
    },
    {
     "name": "stderr",
     "output_type": "stream",
     "text": [
      "100%|██████████| 2/2 [00:00<00:00,  8.11it/s]\n",
      "Processing Images:  68%|██████▊   | 338/500 [09:30<04:36,  1.70s/file]"
     ]
    },
    {
     "name": "stdout",
     "output_type": "stream",
     "text": [
      "Generated image saved at: dataset_str_0.05/34372-4.png\n"
     ]
    },
    {
     "name": "stderr",
     "output_type": "stream",
     "text": [
      "100%|██████████| 2/2 [00:00<00:00,  8.16it/s]\n",
      "Processing Images:  68%|██████▊   | 339/500 [09:31<04:26,  1.65s/file]"
     ]
    },
    {
     "name": "stdout",
     "output_type": "stream",
     "text": [
      "Generated image saved at: dataset_str_0.05/27317-1.png\n"
     ]
    },
    {
     "name": "stderr",
     "output_type": "stream",
     "text": [
      "100%|██████████| 2/2 [00:00<00:00,  8.20it/s]\n",
      "Processing Images:  68%|██████▊   | 340/500 [09:33<04:29,  1.69s/file]"
     ]
    },
    {
     "name": "stdout",
     "output_type": "stream",
     "text": [
      "Generated image saved at: dataset_str_0.05/03672-1.png\n"
     ]
    },
    {
     "name": "stderr",
     "output_type": "stream",
     "text": [
      "100%|██████████| 2/2 [00:00<00:00,  8.14it/s]\n",
      "Processing Images:  68%|██████▊   | 341/500 [09:35<04:31,  1.71s/file]"
     ]
    },
    {
     "name": "stdout",
     "output_type": "stream",
     "text": [
      "Generated image saved at: dataset_str_0.05/22064-2.png\n"
     ]
    },
    {
     "name": "stderr",
     "output_type": "stream",
     "text": [
      "100%|██████████| 2/2 [00:00<00:00,  8.22it/s]\n",
      "Processing Images:  68%|██████▊   | 342/500 [09:36<04:23,  1.67s/file]"
     ]
    },
    {
     "name": "stdout",
     "output_type": "stream",
     "text": [
      "Generated image saved at: dataset_str_0.05/20169-3.png\n"
     ]
    },
    {
     "name": "stderr",
     "output_type": "stream",
     "text": [
      "100%|██████████| 2/2 [00:00<00:00,  8.19it/s]\n",
      "Processing Images:  69%|██████▊   | 343/500 [09:38<04:22,  1.67s/file]"
     ]
    },
    {
     "name": "stdout",
     "output_type": "stream",
     "text": [
      "Generated image saved at: dataset_str_0.05/18454-4.png\n"
     ]
    },
    {
     "name": "stderr",
     "output_type": "stream",
     "text": [
      "100%|██████████| 2/2 [00:00<00:00,  8.22it/s]\n",
      "Processing Images:  69%|██████▉   | 344/500 [09:40<04:14,  1.63s/file]"
     ]
    },
    {
     "name": "stdout",
     "output_type": "stream",
     "text": [
      "Generated image saved at: dataset_str_0.05/09268-5.png\n"
     ]
    },
    {
     "name": "stderr",
     "output_type": "stream",
     "text": [
      "100%|██████████| 2/2 [00:00<00:00,  8.14it/s]\n",
      "Processing Images:  69%|██████▉   | 345/500 [09:41<04:10,  1.62s/file]"
     ]
    },
    {
     "name": "stdout",
     "output_type": "stream",
     "text": [
      "Generated image saved at: dataset_str_0.05/27317-3.png\n"
     ]
    },
    {
     "name": "stderr",
     "output_type": "stream",
     "text": [
      "100%|██████████| 2/2 [00:00<00:00,  8.15it/s]\n",
      "Processing Images:  69%|██████▉   | 346/500 [09:43<04:14,  1.65s/file]"
     ]
    },
    {
     "name": "stdout",
     "output_type": "stream",
     "text": [
      "Generated image saved at: dataset_str_0.05/09236-4.png\n"
     ]
    },
    {
     "name": "stderr",
     "output_type": "stream",
     "text": [
      "100%|██████████| 2/2 [00:00<00:00,  8.23it/s]\n",
      "Processing Images:  69%|██████▉   | 347/500 [09:45<04:15,  1.67s/file]"
     ]
    },
    {
     "name": "stdout",
     "output_type": "stream",
     "text": [
      "Generated image saved at: dataset_str_0.05/28008-5.png\n"
     ]
    },
    {
     "name": "stderr",
     "output_type": "stream",
     "text": [
      "100%|██████████| 2/2 [00:00<00:00,  8.18it/s]\n",
      "Processing Images:  70%|██████▉   | 348/500 [09:46<04:13,  1.67s/file]"
     ]
    },
    {
     "name": "stdout",
     "output_type": "stream",
     "text": [
      "Generated image saved at: dataset_str_0.05/38566-5.png\n"
     ]
    },
    {
     "name": "stderr",
     "output_type": "stream",
     "text": [
      "100%|██████████| 2/2 [00:00<00:00,  8.17it/s]\n",
      "Processing Images:  70%|██████▉   | 349/500 [09:48<04:15,  1.69s/file]"
     ]
    },
    {
     "name": "stdout",
     "output_type": "stream",
     "text": [
      "Generated image saved at: dataset_str_0.05/26762-3.png\n"
     ]
    },
    {
     "name": "stderr",
     "output_type": "stream",
     "text": [
      "100%|██████████| 2/2 [00:00<00:00,  8.21it/s]\n",
      "Processing Images:  70%|███████   | 350/500 [09:50<04:17,  1.72s/file]"
     ]
    },
    {
     "name": "stdout",
     "output_type": "stream",
     "text": [
      "Generated image saved at: dataset_str_0.05/33282-5.png\n"
     ]
    },
    {
     "name": "stderr",
     "output_type": "stream",
     "text": [
      "100%|██████████| 2/2 [00:00<00:00,  8.22it/s]\n",
      "Processing Images:  70%|███████   | 351/500 [09:52<04:15,  1.71s/file]"
     ]
    },
    {
     "name": "stdout",
     "output_type": "stream",
     "text": [
      "Generated image saved at: dataset_str_0.05/20480-5.png\n"
     ]
    },
    {
     "name": "stderr",
     "output_type": "stream",
     "text": [
      "100%|██████████| 2/2 [00:00<00:00,  8.19it/s]\n",
      "Processing Images:  70%|███████   | 352/500 [09:53<04:15,  1.72s/file]"
     ]
    },
    {
     "name": "stdout",
     "output_type": "stream",
     "text": [
      "Generated image saved at: dataset_str_0.05/20543-3.png\n"
     ]
    },
    {
     "name": "stderr",
     "output_type": "stream",
     "text": [
      "100%|██████████| 2/2 [00:00<00:00,  8.23it/s]\n",
      "Processing Images:  71%|███████   | 353/500 [09:55<04:14,  1.73s/file]"
     ]
    },
    {
     "name": "stdout",
     "output_type": "stream",
     "text": [
      "Generated image saved at: dataset_str_0.05/22832-3.png\n"
     ]
    },
    {
     "name": "stderr",
     "output_type": "stream",
     "text": [
      "100%|██████████| 2/2 [00:00<00:00,  8.18it/s]\n",
      "Processing Images:  71%|███████   | 354/500 [09:57<04:09,  1.71s/file]"
     ]
    },
    {
     "name": "stdout",
     "output_type": "stream",
     "text": [
      "Generated image saved at: dataset_str_0.05/14292-5.png\n"
     ]
    },
    {
     "name": "stderr",
     "output_type": "stream",
     "text": [
      "100%|██████████| 2/2 [00:00<00:00,  8.20it/s]\n",
      "Processing Images:  71%|███████   | 355/500 [09:58<03:59,  1.65s/file]"
     ]
    },
    {
     "name": "stdout",
     "output_type": "stream",
     "text": [
      "Generated image saved at: dataset_str_0.05/30162-3.png\n"
     ]
    },
    {
     "name": "stderr",
     "output_type": "stream",
     "text": [
      "100%|██████████| 2/2 [00:00<00:00,  8.16it/s]\n",
      "Processing Images:  71%|███████   | 356/500 [10:00<03:59,  1.67s/file]"
     ]
    },
    {
     "name": "stdout",
     "output_type": "stream",
     "text": [
      "Generated image saved at: dataset_str_0.05/01556-3.png\n"
     ]
    },
    {
     "name": "stderr",
     "output_type": "stream",
     "text": [
      "100%|██████████| 2/2 [00:00<00:00,  8.22it/s]\n",
      "Processing Images:  71%|███████▏  | 357/500 [10:02<03:59,  1.67s/file]"
     ]
    },
    {
     "name": "stdout",
     "output_type": "stream",
     "text": [
      "Generated image saved at: dataset_str_0.05/01126-4.png\n"
     ]
    },
    {
     "name": "stderr",
     "output_type": "stream",
     "text": [
      "100%|██████████| 2/2 [00:00<00:00,  8.22it/s]\n",
      "Processing Images:  72%|███████▏  | 358/500 [10:03<04:00,  1.70s/file]"
     ]
    },
    {
     "name": "stdout",
     "output_type": "stream",
     "text": [
      "Generated image saved at: dataset_str_0.05/15516-1.png\n"
     ]
    },
    {
     "name": "stderr",
     "output_type": "stream",
     "text": [
      "100%|██████████| 2/2 [00:00<00:00,  8.20it/s]\n",
      "Processing Images:  72%|███████▏  | 359/500 [10:05<04:00,  1.70s/file]"
     ]
    },
    {
     "name": "stdout",
     "output_type": "stream",
     "text": [
      "Generated image saved at: dataset_str_0.05/14292-1.png\n"
     ]
    },
    {
     "name": "stderr",
     "output_type": "stream",
     "text": [
      "100%|██████████| 2/2 [00:00<00:00,  8.21it/s]\n",
      "Processing Images:  72%|███████▏  | 360/500 [10:07<03:58,  1.70s/file]"
     ]
    },
    {
     "name": "stdout",
     "output_type": "stream",
     "text": [
      "Generated image saved at: dataset_str_0.05/41909-4.png\n"
     ]
    },
    {
     "name": "stderr",
     "output_type": "stream",
     "text": [
      "100%|██████████| 2/2 [00:00<00:00,  8.21it/s]\n",
      "Processing Images:  72%|███████▏  | 361/500 [10:09<03:56,  1.70s/file]"
     ]
    },
    {
     "name": "stdout",
     "output_type": "stream",
     "text": [
      "Generated image saved at: dataset_str_0.05/37925-3.png\n"
     ]
    },
    {
     "name": "stderr",
     "output_type": "stream",
     "text": [
      "100%|██████████| 2/2 [00:00<00:00,  8.22it/s]\n",
      "Processing Images:  72%|███████▏  | 362/500 [10:10<03:53,  1.69s/file]"
     ]
    },
    {
     "name": "stdout",
     "output_type": "stream",
     "text": [
      "Generated image saved at: dataset_str_0.05/42947-2.png\n"
     ]
    },
    {
     "name": "stderr",
     "output_type": "stream",
     "text": [
      "100%|██████████| 2/2 [00:00<00:00,  8.17it/s]\n",
      "Processing Images:  73%|███████▎  | 363/500 [10:12<03:50,  1.69s/file]"
     ]
    },
    {
     "name": "stdout",
     "output_type": "stream",
     "text": [
      "Generated image saved at: dataset_str_0.05/15164-3.png\n"
     ]
    },
    {
     "name": "stderr",
     "output_type": "stream",
     "text": [
      "100%|██████████| 2/2 [00:00<00:00,  8.21it/s]\n",
      "Processing Images:  73%|███████▎  | 364/500 [10:14<03:49,  1.69s/file]"
     ]
    },
    {
     "name": "stdout",
     "output_type": "stream",
     "text": [
      "Generated image saved at: dataset_str_0.05/29653-1.png\n"
     ]
    },
    {
     "name": "stderr",
     "output_type": "stream",
     "text": [
      "100%|██████████| 2/2 [00:00<00:00,  8.18it/s]\n",
      "Processing Images:  73%|███████▎  | 365/500 [10:15<03:50,  1.71s/file]"
     ]
    },
    {
     "name": "stdout",
     "output_type": "stream",
     "text": [
      "Generated image saved at: dataset_str_0.05/26127-1.png\n"
     ]
    },
    {
     "name": "stderr",
     "output_type": "stream",
     "text": [
      "100%|██████████| 2/2 [00:00<00:00,  8.22it/s]\n",
      "Processing Images:  73%|███████▎  | 366/500 [10:17<03:49,  1.71s/file]"
     ]
    },
    {
     "name": "stdout",
     "output_type": "stream",
     "text": [
      "Generated image saved at: dataset_str_0.05/26127-5.png\n"
     ]
    },
    {
     "name": "stderr",
     "output_type": "stream",
     "text": [
      "100%|██████████| 2/2 [00:00<00:00,  8.19it/s]\n",
      "Processing Images:  73%|███████▎  | 367/500 [10:19<03:45,  1.70s/file]"
     ]
    },
    {
     "name": "stdout",
     "output_type": "stream",
     "text": [
      "Generated image saved at: dataset_str_0.05/03152-1.png\n"
     ]
    },
    {
     "name": "stderr",
     "output_type": "stream",
     "text": [
      "100%|██████████| 2/2 [00:00<00:00,  8.20it/s]\n",
      "Processing Images:  74%|███████▎  | 368/500 [10:20<03:41,  1.68s/file]"
     ]
    },
    {
     "name": "stdout",
     "output_type": "stream",
     "text": [
      "Generated image saved at: dataset_str_0.05/05219-4.png\n"
     ]
    },
    {
     "name": "stderr",
     "output_type": "stream",
     "text": [
      "100%|██████████| 2/2 [00:00<00:00,  8.21it/s]\n",
      "Processing Images:  74%|███████▍  | 369/500 [10:22<03:38,  1.67s/file]"
     ]
    },
    {
     "name": "stdout",
     "output_type": "stream",
     "text": [
      "Generated image saved at: dataset_str_0.05/38566-1.png\n"
     ]
    },
    {
     "name": "stderr",
     "output_type": "stream",
     "text": [
      "100%|██████████| 2/2 [00:00<00:00,  8.20it/s]\n",
      "Processing Images:  74%|███████▍  | 370/500 [10:24<03:31,  1.63s/file]"
     ]
    },
    {
     "name": "stdout",
     "output_type": "stream",
     "text": [
      "Generated image saved at: dataset_str_0.05/30162-4.png\n"
     ]
    },
    {
     "name": "stderr",
     "output_type": "stream",
     "text": [
      "100%|██████████| 2/2 [00:00<00:00,  8.16it/s]\n",
      "Processing Images:  74%|███████▍  | 371/500 [10:25<03:31,  1.64s/file]"
     ]
    },
    {
     "name": "stdout",
     "output_type": "stream",
     "text": [
      "Generated image saved at: dataset_str_0.05/14292-2.png\n"
     ]
    },
    {
     "name": "stderr",
     "output_type": "stream",
     "text": [
      "100%|██████████| 2/2 [00:00<00:00,  8.22it/s]\n",
      "Processing Images:  74%|███████▍  | 372/500 [10:27<03:34,  1.68s/file]"
     ]
    },
    {
     "name": "stdout",
     "output_type": "stream",
     "text": [
      "Generated image saved at: dataset_str_0.05/31577-5.png\n"
     ]
    },
    {
     "name": "stderr",
     "output_type": "stream",
     "text": [
      "100%|██████████| 2/2 [00:00<00:00,  8.24it/s]\n",
      "Processing Images:  75%|███████▍  | 373/500 [10:29<03:35,  1.70s/file]"
     ]
    },
    {
     "name": "stdout",
     "output_type": "stream",
     "text": [
      "Generated image saved at: dataset_str_0.05/33282-3.png\n"
     ]
    },
    {
     "name": "stderr",
     "output_type": "stream",
     "text": [
      "100%|██████████| 2/2 [00:00<00:00,  8.19it/s]\n",
      "Processing Images:  75%|███████▍  | 374/500 [10:30<03:30,  1.67s/file]"
     ]
    },
    {
     "name": "stdout",
     "output_type": "stream",
     "text": [
      "Generated image saved at: dataset_str_0.05/36645-3.png\n"
     ]
    },
    {
     "name": "stderr",
     "output_type": "stream",
     "text": [
      "100%|██████████| 2/2 [00:00<00:00,  8.23it/s]\n",
      "Processing Images:  75%|███████▌  | 375/500 [10:32<03:27,  1.66s/file]"
     ]
    },
    {
     "name": "stdout",
     "output_type": "stream",
     "text": [
      "Generated image saved at: dataset_str_0.05/36529-4.png\n"
     ]
    },
    {
     "name": "stderr",
     "output_type": "stream",
     "text": [
      "100%|██████████| 2/2 [00:00<00:00,  8.23it/s]\n",
      "Processing Images:  75%|███████▌  | 376/500 [10:34<03:25,  1.65s/file]"
     ]
    },
    {
     "name": "stdout",
     "output_type": "stream",
     "text": [
      "Generated image saved at: dataset_str_0.05/40369-3.png\n"
     ]
    },
    {
     "name": "stderr",
     "output_type": "stream",
     "text": [
      "100%|██████████| 2/2 [00:00<00:00,  8.19it/s]\n",
      "Processing Images:  75%|███████▌  | 377/500 [10:35<03:24,  1.66s/file]"
     ]
    },
    {
     "name": "stdout",
     "output_type": "stream",
     "text": [
      "Generated image saved at: dataset_str_0.05/34107-2.png\n"
     ]
    },
    {
     "name": "stderr",
     "output_type": "stream",
     "text": [
      "100%|██████████| 2/2 [00:00<00:00,  8.20it/s]\n",
      "Processing Images:  76%|███████▌  | 378/500 [10:37<03:18,  1.62s/file]"
     ]
    },
    {
     "name": "stdout",
     "output_type": "stream",
     "text": [
      "Generated image saved at: dataset_str_0.05/39219-1.png\n"
     ]
    },
    {
     "name": "stderr",
     "output_type": "stream",
     "text": [
      "100%|██████████| 2/2 [00:00<00:00,  8.21it/s]\n",
      "Processing Images:  76%|███████▌  | 379/500 [10:38<03:16,  1.62s/file]"
     ]
    },
    {
     "name": "stdout",
     "output_type": "stream",
     "text": [
      "Generated image saved at: dataset_str_0.05/20480-2.png\n"
     ]
    },
    {
     "name": "stderr",
     "output_type": "stream",
     "text": [
      "100%|██████████| 2/2 [00:00<00:00,  8.21it/s]\n",
      "Processing Images:  76%|███████▌  | 380/500 [10:40<03:19,  1.66s/file]"
     ]
    },
    {
     "name": "stdout",
     "output_type": "stream",
     "text": [
      "Generated image saved at: dataset_str_0.05/09236-2.png\n"
     ]
    },
    {
     "name": "stderr",
     "output_type": "stream",
     "text": [
      "100%|██████████| 2/2 [00:00<00:00,  8.19it/s]\n",
      "Processing Images:  76%|███████▌  | 381/500 [10:42<03:11,  1.61s/file]"
     ]
    },
    {
     "name": "stdout",
     "output_type": "stream",
     "text": [
      "Generated image saved at: dataset_str_0.05/47551-2.png\n"
     ]
    },
    {
     "name": "stderr",
     "output_type": "stream",
     "text": [
      "100%|██████████| 2/2 [00:00<00:00,  8.08it/s]\n",
      "Processing Images:  76%|███████▋  | 382/500 [10:43<03:13,  1.64s/file]"
     ]
    },
    {
     "name": "stdout",
     "output_type": "stream",
     "text": [
      "Generated image saved at: dataset_str_0.05/29685-4.png\n"
     ]
    },
    {
     "name": "stderr",
     "output_type": "stream",
     "text": [
      "100%|██████████| 2/2 [00:00<00:00,  8.18it/s]\n",
      "Processing Images:  77%|███████▋  | 383/500 [10:45<03:13,  1.65s/file]"
     ]
    },
    {
     "name": "stdout",
     "output_type": "stream",
     "text": [
      "Generated image saved at: dataset_str_0.05/35521-1.png\n"
     ]
    },
    {
     "name": "stderr",
     "output_type": "stream",
     "text": [
      "100%|██████████| 2/2 [00:00<00:00,  7.94it/s]\n",
      "Processing Images:  77%|███████▋  | 384/500 [10:47<03:13,  1.66s/file]"
     ]
    },
    {
     "name": "stdout",
     "output_type": "stream",
     "text": [
      "Generated image saved at: dataset_str_0.05/40153-4.png\n"
     ]
    },
    {
     "name": "stderr",
     "output_type": "stream",
     "text": [
      "100%|██████████| 2/2 [00:00<00:00,  8.22it/s]\n",
      "Processing Images:  77%|███████▋  | 385/500 [10:48<03:09,  1.65s/file]"
     ]
    },
    {
     "name": "stdout",
     "output_type": "stream",
     "text": [
      "Generated image saved at: dataset_str_0.05/13341-5.png\n"
     ]
    },
    {
     "name": "stderr",
     "output_type": "stream",
     "text": [
      "100%|██████████| 2/2 [00:00<00:00,  8.19it/s]\n",
      "Processing Images:  77%|███████▋  | 386/500 [10:50<03:09,  1.66s/file]"
     ]
    },
    {
     "name": "stdout",
     "output_type": "stream",
     "text": [
      "Generated image saved at: dataset_str_0.05/20735-5.png\n"
     ]
    },
    {
     "name": "stderr",
     "output_type": "stream",
     "text": [
      "100%|██████████| 2/2 [00:00<00:00,  8.19it/s]\n",
      "Processing Images:  77%|███████▋  | 387/500 [10:52<03:10,  1.68s/file]"
     ]
    },
    {
     "name": "stdout",
     "output_type": "stream",
     "text": [
      "Generated image saved at: dataset_str_0.05/08571-4.png\n"
     ]
    },
    {
     "name": "stderr",
     "output_type": "stream",
     "text": [
      "100%|██████████| 2/2 [00:00<00:00,  8.16it/s]\n",
      "Processing Images:  78%|███████▊  | 388/500 [10:53<03:07,  1.68s/file]"
     ]
    },
    {
     "name": "stdout",
     "output_type": "stream",
     "text": [
      "Generated image saved at: dataset_str_0.05/40153-1.png\n"
     ]
    },
    {
     "name": "stderr",
     "output_type": "stream",
     "text": [
      "100%|██████████| 2/2 [00:00<00:00,  8.13it/s]\n",
      "Processing Images:  78%|███████▊  | 389/500 [10:55<03:07,  1.69s/file]"
     ]
    },
    {
     "name": "stdout",
     "output_type": "stream",
     "text": [
      "Generated image saved at: dataset_str_0.05/10455-5.png\n"
     ]
    },
    {
     "name": "stderr",
     "output_type": "stream",
     "text": [
      "100%|██████████| 2/2 [00:00<00:00,  8.19it/s]\n",
      "Processing Images:  78%|███████▊  | 390/500 [10:57<03:08,  1.71s/file]"
     ]
    },
    {
     "name": "stdout",
     "output_type": "stream",
     "text": [
      "Generated image saved at: dataset_str_0.05/40369-1.png\n"
     ]
    },
    {
     "name": "stderr",
     "output_type": "stream",
     "text": [
      "100%|██████████| 2/2 [00:00<00:00,  8.20it/s]\n",
      "Processing Images:  78%|███████▊  | 391/500 [10:59<03:08,  1.73s/file]"
     ]
    },
    {
     "name": "stdout",
     "output_type": "stream",
     "text": [
      "Generated image saved at: dataset_str_0.05/40369-5.png\n"
     ]
    },
    {
     "name": "stderr",
     "output_type": "stream",
     "text": [
      "100%|██████████| 2/2 [00:00<00:00,  8.22it/s]\n",
      "Processing Images:  78%|███████▊  | 392/500 [11:00<03:05,  1.72s/file]"
     ]
    },
    {
     "name": "stdout",
     "output_type": "stream",
     "text": [
      "Generated image saved at: dataset_str_0.05/13246-2.png\n"
     ]
    },
    {
     "name": "stderr",
     "output_type": "stream",
     "text": [
      "100%|██████████| 2/2 [00:00<00:00,  8.22it/s]\n",
      "Processing Images:  79%|███████▊  | 393/500 [11:02<03:03,  1.72s/file]"
     ]
    },
    {
     "name": "stdout",
     "output_type": "stream",
     "text": [
      "Generated image saved at: dataset_str_0.05/02898-1.png\n"
     ]
    },
    {
     "name": "stderr",
     "output_type": "stream",
     "text": [
      "100%|██████████| 2/2 [00:00<00:00,  8.13it/s]\n",
      "Processing Images:  79%|███████▉  | 394/500 [11:04<03:01,  1.71s/file]"
     ]
    },
    {
     "name": "stdout",
     "output_type": "stream",
     "text": [
      "Generated image saved at: dataset_str_0.05/29653-2.png\n"
     ]
    },
    {
     "name": "stderr",
     "output_type": "stream",
     "text": [
      "100%|██████████| 2/2 [00:00<00:00,  8.13it/s]\n",
      "Processing Images:  79%|███████▉  | 395/500 [11:05<02:56,  1.68s/file]"
     ]
    },
    {
     "name": "stdout",
     "output_type": "stream",
     "text": [
      "Generated image saved at: dataset_str_0.05/37404-4.png\n"
     ]
    },
    {
     "name": "stderr",
     "output_type": "stream",
     "text": [
      "100%|██████████| 2/2 [00:00<00:00,  8.16it/s]\n",
      "Processing Images:  79%|███████▉  | 396/500 [11:07<02:57,  1.70s/file]"
     ]
    },
    {
     "name": "stdout",
     "output_type": "stream",
     "text": [
      "Generated image saved at: dataset_str_0.05/27588-5.png\n"
     ]
    },
    {
     "name": "stderr",
     "output_type": "stream",
     "text": [
      "100%|██████████| 2/2 [00:00<00:00,  8.21it/s]\n",
      "Processing Images:  79%|███████▉  | 397/500 [11:09<02:55,  1.71s/file]"
     ]
    },
    {
     "name": "stdout",
     "output_type": "stream",
     "text": [
      "Generated image saved at: dataset_str_0.05/28008-3.png\n"
     ]
    },
    {
     "name": "stderr",
     "output_type": "stream",
     "text": [
      "100%|██████████| 2/2 [00:00<00:00,  8.13it/s]\n",
      "Processing Images:  80%|███████▉  | 398/500 [11:11<02:53,  1.70s/file]"
     ]
    },
    {
     "name": "stdout",
     "output_type": "stream",
     "text": [
      "Generated image saved at: dataset_str_0.05/03152-3.png\n"
     ]
    },
    {
     "name": "stderr",
     "output_type": "stream",
     "text": [
      "100%|██████████| 2/2 [00:00<00:00,  8.19it/s]\n",
      "Processing Images:  80%|███████▉  | 399/500 [11:12<02:48,  1.67s/file]"
     ]
    },
    {
     "name": "stdout",
     "output_type": "stream",
     "text": [
      "Generated image saved at: dataset_str_0.05/01126-1.png\n"
     ]
    },
    {
     "name": "stderr",
     "output_type": "stream",
     "text": [
      "100%|██████████| 2/2 [00:00<00:00,  8.19it/s]\n",
      "Processing Images:  80%|████████  | 400/500 [11:14<02:49,  1.70s/file]"
     ]
    },
    {
     "name": "stdout",
     "output_type": "stream",
     "text": [
      "Generated image saved at: dataset_str_0.05/31780-2.png\n"
     ]
    },
    {
     "name": "stderr",
     "output_type": "stream",
     "text": [
      "100%|██████████| 2/2 [00:00<00:00,  8.16it/s]\n",
      "Processing Images:  80%|████████  | 401/500 [11:16<02:49,  1.71s/file]"
     ]
    },
    {
     "name": "stdout",
     "output_type": "stream",
     "text": [
      "Generated image saved at: dataset_str_0.05/12911-3.png\n"
     ]
    },
    {
     "name": "stderr",
     "output_type": "stream",
     "text": [
      "100%|██████████| 2/2 [00:00<00:00,  8.21it/s]\n",
      "Processing Images:  80%|████████  | 402/500 [11:17<02:47,  1.71s/file]"
     ]
    },
    {
     "name": "stdout",
     "output_type": "stream",
     "text": [
      "Generated image saved at: dataset_str_0.05/24385-5.png\n"
     ]
    },
    {
     "name": "stderr",
     "output_type": "stream",
     "text": [
      "100%|██████████| 2/2 [00:00<00:00,  8.22it/s]\n",
      "Processing Images:  81%|████████  | 403/500 [11:19<02:46,  1.71s/file]"
     ]
    },
    {
     "name": "stdout",
     "output_type": "stream",
     "text": [
      "Generated image saved at: dataset_str_0.05/09236-3.png\n"
     ]
    },
    {
     "name": "stderr",
     "output_type": "stream",
     "text": [
      "100%|██████████| 2/2 [00:00<00:00,  8.21it/s]\n",
      "Processing Images:  81%|████████  | 404/500 [11:21<02:45,  1.73s/file]"
     ]
    },
    {
     "name": "stdout",
     "output_type": "stream",
     "text": [
      "Generated image saved at: dataset_str_0.05/14178-4.png\n"
     ]
    },
    {
     "name": "stderr",
     "output_type": "stream",
     "text": [
      "100%|██████████| 2/2 [00:00<00:00,  8.20it/s]\n",
      "Processing Images:  81%|████████  | 405/500 [11:23<02:43,  1.72s/file]"
     ]
    },
    {
     "name": "stdout",
     "output_type": "stream",
     "text": [
      "Generated image saved at: dataset_str_0.05/24385-3.png\n"
     ]
    },
    {
     "name": "stderr",
     "output_type": "stream",
     "text": [
      "100%|██████████| 2/2 [00:00<00:00,  8.17it/s]\n",
      "Processing Images:  81%|████████  | 406/500 [11:24<02:40,  1.71s/file]"
     ]
    },
    {
     "name": "stdout",
     "output_type": "stream",
     "text": [
      "Generated image saved at: dataset_str_0.05/42947-5.png\n"
     ]
    },
    {
     "name": "stderr",
     "output_type": "stream",
     "text": [
      "100%|██████████| 2/2 [00:00<00:00,  8.19it/s]\n",
      "Processing Images:  81%|████████▏ | 407/500 [11:26<02:37,  1.70s/file]"
     ]
    },
    {
     "name": "stdout",
     "output_type": "stream",
     "text": [
      "Generated image saved at: dataset_str_0.05/18760-3.png\n"
     ]
    },
    {
     "name": "stderr",
     "output_type": "stream",
     "text": [
      "100%|██████████| 2/2 [00:00<00:00,  8.12it/s]\n",
      "Processing Images:  82%|████████▏ | 408/500 [11:28<02:37,  1.71s/file]"
     ]
    },
    {
     "name": "stdout",
     "output_type": "stream",
     "text": [
      "Generated image saved at: dataset_str_0.05/40369-4.png\n"
     ]
    },
    {
     "name": "stderr",
     "output_type": "stream",
     "text": [
      "100%|██████████| 2/2 [00:00<00:00,  8.15it/s]\n",
      "Processing Images:  82%|████████▏ | 409/500 [11:29<02:35,  1.71s/file]"
     ]
    },
    {
     "name": "stdout",
     "output_type": "stream",
     "text": [
      "Generated image saved at: dataset_str_0.05/34372-1.png\n"
     ]
    },
    {
     "name": "stderr",
     "output_type": "stream",
     "text": [
      "100%|██████████| 2/2 [00:00<00:00,  8.20it/s]\n",
      "Processing Images:  82%|████████▏ | 410/500 [11:31<02:35,  1.72s/file]"
     ]
    },
    {
     "name": "stdout",
     "output_type": "stream",
     "text": [
      "Generated image saved at: dataset_str_0.05/12823-1.png\n"
     ]
    },
    {
     "name": "stderr",
     "output_type": "stream",
     "text": [
      "100%|██████████| 2/2 [00:00<00:00,  8.16it/s]\n",
      "Processing Images:  82%|████████▏ | 411/500 [11:33<02:33,  1.73s/file]"
     ]
    },
    {
     "name": "stdout",
     "output_type": "stream",
     "text": [
      "Generated image saved at: dataset_str_0.05/15889-3.png\n"
     ]
    },
    {
     "name": "stderr",
     "output_type": "stream",
     "text": [
      "100%|██████████| 2/2 [00:00<00:00,  8.21it/s]\n",
      "Processing Images:  82%|████████▏ | 412/500 [11:34<02:30,  1.71s/file]"
     ]
    },
    {
     "name": "stdout",
     "output_type": "stream",
     "text": [
      "Generated image saved at: dataset_str_0.05/10455-4.png\n"
     ]
    },
    {
     "name": "stderr",
     "output_type": "stream",
     "text": [
      "100%|██████████| 2/2 [00:00<00:00,  8.20it/s]\n",
      "Processing Images:  83%|████████▎ | 413/500 [11:36<02:23,  1.65s/file]"
     ]
    },
    {
     "name": "stdout",
     "output_type": "stream",
     "text": [
      "Generated image saved at: dataset_str_0.05/20169-4.png\n"
     ]
    },
    {
     "name": "stderr",
     "output_type": "stream",
     "text": [
      "100%|██████████| 2/2 [00:00<00:00,  8.21it/s]\n",
      "Processing Images:  83%|████████▎ | 414/500 [11:38<02:25,  1.69s/file]"
     ]
    },
    {
     "name": "stdout",
     "output_type": "stream",
     "text": [
      "Generated image saved at: dataset_str_0.05/01159-1.png\n"
     ]
    },
    {
     "name": "stderr",
     "output_type": "stream",
     "text": [
      "100%|██████████| 2/2 [00:00<00:00,  8.11it/s]\n",
      "Processing Images:  83%|████████▎ | 415/500 [11:39<02:22,  1.67s/file]"
     ]
    },
    {
     "name": "stdout",
     "output_type": "stream",
     "text": [
      "Generated image saved at: dataset_str_0.05/36529-3.png\n"
     ]
    },
    {
     "name": "stderr",
     "output_type": "stream",
     "text": [
      "100%|██████████| 2/2 [00:00<00:00,  8.15it/s]\n",
      "Processing Images:  83%|████████▎ | 416/500 [11:41<02:20,  1.67s/file]"
     ]
    },
    {
     "name": "stdout",
     "output_type": "stream",
     "text": [
      "Generated image saved at: dataset_str_0.05/24385-1.png\n"
     ]
    },
    {
     "name": "stderr",
     "output_type": "stream",
     "text": [
      "100%|██████████| 2/2 [00:00<00:00,  8.20it/s]\n",
      "Processing Images:  83%|████████▎ | 417/500 [11:43<02:17,  1.66s/file]"
     ]
    },
    {
     "name": "stdout",
     "output_type": "stream",
     "text": [
      "Generated image saved at: dataset_str_0.05/15164-2.png\n"
     ]
    },
    {
     "name": "stderr",
     "output_type": "stream",
     "text": [
      "100%|██████████| 2/2 [00:00<00:00,  8.16it/s]\n",
      "Processing Images:  84%|████████▎ | 418/500 [11:44<02:15,  1.65s/file]"
     ]
    },
    {
     "name": "stdout",
     "output_type": "stream",
     "text": [
      "Generated image saved at: dataset_str_0.05/36529-5.png\n"
     ]
    },
    {
     "name": "stderr",
     "output_type": "stream",
     "text": [
      "100%|██████████| 2/2 [00:00<00:00,  8.21it/s]\n",
      "Processing Images:  84%|████████▍ | 419/500 [11:46<02:15,  1.67s/file]"
     ]
    },
    {
     "name": "stdout",
     "output_type": "stream",
     "text": [
      "Generated image saved at: dataset_str_0.05/01159-4.png\n"
     ]
    },
    {
     "name": "stderr",
     "output_type": "stream",
     "text": [
      "100%|██████████| 2/2 [00:00<00:00,  8.23it/s]\n",
      "Processing Images:  84%|████████▍ | 420/500 [11:48<02:13,  1.66s/file]"
     ]
    },
    {
     "name": "stdout",
     "output_type": "stream",
     "text": [
      "Generated image saved at: dataset_str_0.05/09268-3.png\n"
     ]
    },
    {
     "name": "stderr",
     "output_type": "stream",
     "text": [
      "100%|██████████| 2/2 [00:00<00:00,  8.14it/s]\n",
      "Processing Images:  84%|████████▍ | 421/500 [11:49<02:10,  1.65s/file]"
     ]
    },
    {
     "name": "stdout",
     "output_type": "stream",
     "text": [
      "Generated image saved at: dataset_str_0.05/47819-5.png\n"
     ]
    },
    {
     "name": "stderr",
     "output_type": "stream",
     "text": [
      "100%|██████████| 2/2 [00:00<00:00,  8.16it/s]\n",
      "Processing Images:  84%|████████▍ | 422/500 [11:51<02:11,  1.68s/file]"
     ]
    },
    {
     "name": "stdout",
     "output_type": "stream",
     "text": [
      "Generated image saved at: dataset_str_0.05/18760-1.png\n"
     ]
    },
    {
     "name": "stderr",
     "output_type": "stream",
     "text": [
      "100%|██████████| 2/2 [00:00<00:00,  8.18it/s]\n",
      "Processing Images:  85%|████████▍ | 423/500 [11:53<02:10,  1.69s/file]"
     ]
    },
    {
     "name": "stdout",
     "output_type": "stream",
     "text": [
      "Generated image saved at: dataset_str_0.05/39103-1.png\n"
     ]
    },
    {
     "name": "stderr",
     "output_type": "stream",
     "text": [
      "100%|██████████| 2/2 [00:00<00:00,  8.16it/s]\n",
      "Processing Images:  85%|████████▍ | 424/500 [11:54<02:07,  1.68s/file]"
     ]
    },
    {
     "name": "stdout",
     "output_type": "stream",
     "text": [
      "Generated image saved at: dataset_str_0.05/36063-5.png\n"
     ]
    },
    {
     "name": "stderr",
     "output_type": "stream",
     "text": [
      "100%|██████████| 2/2 [00:00<00:00,  8.21it/s]\n",
      "Processing Images:  85%|████████▌ | 425/500 [11:56<02:04,  1.66s/file]"
     ]
    },
    {
     "name": "stdout",
     "output_type": "stream",
     "text": [
      "Generated image saved at: dataset_str_0.05/18975-5.png\n"
     ]
    },
    {
     "name": "stderr",
     "output_type": "stream",
     "text": [
      "100%|██████████| 2/2 [00:00<00:00,  8.12it/s]\n",
      "Processing Images:  85%|████████▌ | 426/500 [11:58<02:02,  1.66s/file]"
     ]
    },
    {
     "name": "stdout",
     "output_type": "stream",
     "text": [
      "Generated image saved at: dataset_str_0.05/19296-1.png\n"
     ]
    },
    {
     "name": "stderr",
     "output_type": "stream",
     "text": [
      "100%|██████████| 2/2 [00:00<00:00,  8.17it/s]\n",
      "Processing Images:  85%|████████▌ | 427/500 [11:59<02:02,  1.68s/file]"
     ]
    },
    {
     "name": "stdout",
     "output_type": "stream",
     "text": [
      "Generated image saved at: dataset_str_0.05/04593-2.png\n"
     ]
    },
    {
     "name": "stderr",
     "output_type": "stream",
     "text": [
      "100%|██████████| 2/2 [00:00<00:00,  8.21it/s]\n",
      "Processing Images:  86%|████████▌ | 428/500 [12:01<02:02,  1.69s/file]"
     ]
    },
    {
     "name": "stdout",
     "output_type": "stream",
     "text": [
      "Generated image saved at: dataset_str_0.05/04931-5.png\n"
     ]
    },
    {
     "name": "stderr",
     "output_type": "stream",
     "text": [
      "100%|██████████| 2/2 [00:00<00:00,  8.20it/s]\n",
      "Processing Images:  86%|████████▌ | 429/500 [12:03<02:01,  1.71s/file]"
     ]
    },
    {
     "name": "stdout",
     "output_type": "stream",
     "text": [
      "Generated image saved at: dataset_str_0.05/05547-4.png\n"
     ]
    },
    {
     "name": "stderr",
     "output_type": "stream",
     "text": [
      "100%|██████████| 2/2 [00:00<00:00,  8.08it/s]\n",
      "Processing Images:  86%|████████▌ | 430/500 [12:05<02:00,  1.72s/file]"
     ]
    },
    {
     "name": "stdout",
     "output_type": "stream",
     "text": [
      "Generated image saved at: dataset_str_0.05/47768-2.png\n"
     ]
    },
    {
     "name": "stderr",
     "output_type": "stream",
     "text": [
      "100%|██████████| 2/2 [00:00<00:00,  8.18it/s]\n",
      "Processing Images:  86%|████████▌ | 431/500 [12:06<01:58,  1.72s/file]"
     ]
    },
    {
     "name": "stdout",
     "output_type": "stream",
     "text": [
      "Generated image saved at: dataset_str_0.05/21275-2.png\n"
     ]
    },
    {
     "name": "stderr",
     "output_type": "stream",
     "text": [
      "100%|██████████| 2/2 [00:00<00:00,  8.20it/s]\n",
      "Processing Images:  86%|████████▋ | 432/500 [12:08<01:54,  1.69s/file]"
     ]
    },
    {
     "name": "stdout",
     "output_type": "stream",
     "text": [
      "Generated image saved at: dataset_str_0.05/35521-2.png\n"
     ]
    },
    {
     "name": "stderr",
     "output_type": "stream",
     "text": [
      "100%|██████████| 2/2 [00:00<00:00,  8.20it/s]\n",
      "Processing Images:  87%|████████▋ | 433/500 [12:10<01:53,  1.69s/file]"
     ]
    },
    {
     "name": "stdout",
     "output_type": "stream",
     "text": [
      "Generated image saved at: dataset_str_0.05/09268-2.png\n"
     ]
    },
    {
     "name": "stderr",
     "output_type": "stream",
     "text": [
      "100%|██████████| 2/2 [00:00<00:00,  8.18it/s]\n",
      "Processing Images:  87%|████████▋ | 434/500 [12:11<01:51,  1.69s/file]"
     ]
    },
    {
     "name": "stdout",
     "output_type": "stream",
     "text": [
      "Generated image saved at: dataset_str_0.05/47819-1.png\n"
     ]
    },
    {
     "name": "stderr",
     "output_type": "stream",
     "text": [
      "100%|██████████| 2/2 [00:00<00:00,  8.18it/s]\n",
      "Processing Images:  87%|████████▋ | 435/500 [12:13<01:50,  1.70s/file]"
     ]
    },
    {
     "name": "stdout",
     "output_type": "stream",
     "text": [
      "Generated image saved at: dataset_str_0.05/27588-3.png\n"
     ]
    },
    {
     "name": "stderr",
     "output_type": "stream",
     "text": [
      "100%|██████████| 2/2 [00:00<00:00,  8.22it/s]\n",
      "Processing Images:  87%|████████▋ | 436/500 [12:15<01:48,  1.69s/file]"
     ]
    },
    {
     "name": "stdout",
     "output_type": "stream",
     "text": [
      "Generated image saved at: dataset_str_0.05/20480-1.png\n"
     ]
    },
    {
     "name": "stderr",
     "output_type": "stream",
     "text": [
      "100%|██████████| 2/2 [00:00<00:00,  8.16it/s]\n",
      "Processing Images:  87%|████████▋ | 437/500 [12:17<01:47,  1.71s/file]"
     ]
    },
    {
     "name": "stdout",
     "output_type": "stream",
     "text": [
      "Generated image saved at: dataset_str_0.05/18442-1.png\n"
     ]
    },
    {
     "name": "stderr",
     "output_type": "stream",
     "text": [
      "100%|██████████| 2/2 [00:00<00:00,  8.21it/s]\n",
      "Processing Images:  88%|████████▊ | 438/500 [12:18<01:46,  1.71s/file]"
     ]
    },
    {
     "name": "stdout",
     "output_type": "stream",
     "text": [
      "Generated image saved at: dataset_str_0.05/47386-5.png\n"
     ]
    },
    {
     "name": "stderr",
     "output_type": "stream",
     "text": [
      "100%|██████████| 2/2 [00:00<00:00,  8.21it/s]\n",
      "Processing Images:  88%|████████▊ | 439/500 [12:20<01:42,  1.68s/file]"
     ]
    },
    {
     "name": "stdout",
     "output_type": "stream",
     "text": [
      "Generated image saved at: dataset_str_0.05/36472-2.png\n"
     ]
    },
    {
     "name": "stderr",
     "output_type": "stream",
     "text": [
      "100%|██████████| 2/2 [00:00<00:00,  8.21it/s]\n",
      "Processing Images:  88%|████████▊ | 440/500 [12:22<01:40,  1.67s/file]"
     ]
    },
    {
     "name": "stdout",
     "output_type": "stream",
     "text": [
      "Generated image saved at: dataset_str_0.05/28008-1.png\n"
     ]
    },
    {
     "name": "stderr",
     "output_type": "stream",
     "text": [
      "100%|██████████| 2/2 [00:00<00:00,  8.19it/s]\n",
      "Processing Images:  88%|████████▊ | 441/500 [12:23<01:39,  1.69s/file]"
     ]
    },
    {
     "name": "stdout",
     "output_type": "stream",
     "text": [
      "Generated image saved at: dataset_str_0.05/39103-3.png\n"
     ]
    },
    {
     "name": "stderr",
     "output_type": "stream",
     "text": [
      "100%|██████████| 2/2 [00:00<00:00,  8.09it/s]\n",
      "Processing Images:  88%|████████▊ | 442/500 [12:25<01:33,  1.62s/file]"
     ]
    },
    {
     "name": "stdout",
     "output_type": "stream",
     "text": [
      "Generated image saved at: dataset_str_0.05/47551-3.png\n"
     ]
    },
    {
     "name": "stderr",
     "output_type": "stream",
     "text": [
      "100%|██████████| 2/2 [00:00<00:00,  8.12it/s]\n",
      "Processing Images:  89%|████████▊ | 443/500 [12:26<01:34,  1.66s/file]"
     ]
    },
    {
     "name": "stdout",
     "output_type": "stream",
     "text": [
      "Generated image saved at: dataset_str_0.05/33282-1.png\n"
     ]
    },
    {
     "name": "stderr",
     "output_type": "stream",
     "text": [
      "100%|██████████| 2/2 [00:00<00:00,  8.09it/s]\n",
      "Processing Images:  89%|████████▉ | 444/500 [12:28<01:34,  1.69s/file]"
     ]
    },
    {
     "name": "stdout",
     "output_type": "stream",
     "text": [
      "Generated image saved at: dataset_str_0.05/33282-4.png\n"
     ]
    },
    {
     "name": "stderr",
     "output_type": "stream",
     "text": [
      "100%|██████████| 2/2 [00:00<00:00,  8.09it/s]\n",
      "Processing Images:  89%|████████▉ | 445/500 [12:30<01:32,  1.68s/file]"
     ]
    },
    {
     "name": "stdout",
     "output_type": "stream",
     "text": [
      "Generated image saved at: dataset_str_0.05/14178-5.png\n"
     ]
    },
    {
     "name": "stderr",
     "output_type": "stream",
     "text": [
      "100%|██████████| 2/2 [00:00<00:00,  8.06it/s]\n",
      "Processing Images:  89%|████████▉ | 446/500 [12:32<01:32,  1.71s/file]"
     ]
    },
    {
     "name": "stdout",
     "output_type": "stream",
     "text": [
      "Generated image saved at: dataset_str_0.05/10455-3.png\n"
     ]
    },
    {
     "name": "stderr",
     "output_type": "stream",
     "text": [
      "100%|██████████| 2/2 [00:00<00:00,  8.22it/s]\n",
      "Processing Images:  89%|████████▉ | 447/500 [12:33<01:30,  1.72s/file]"
     ]
    },
    {
     "name": "stdout",
     "output_type": "stream",
     "text": [
      "Generated image saved at: dataset_str_0.05/18442-3.png\n"
     ]
    },
    {
     "name": "stderr",
     "output_type": "stream",
     "text": [
      "100%|██████████| 2/2 [00:00<00:00,  8.20it/s]\n",
      "Processing Images:  90%|████████▉ | 448/500 [12:35<01:27,  1.68s/file]"
     ]
    },
    {
     "name": "stdout",
     "output_type": "stream",
     "text": [
      "Generated image saved at: dataset_str_0.05/13341-3.png\n"
     ]
    },
    {
     "name": "stderr",
     "output_type": "stream",
     "text": [
      "100%|██████████| 2/2 [00:00<00:00,  8.15it/s]\n",
      "Processing Images:  90%|████████▉ | 449/500 [12:37<01:26,  1.69s/file]"
     ]
    },
    {
     "name": "stdout",
     "output_type": "stream",
     "text": [
      "Generated image saved at: dataset_str_0.05/34107-1.png\n"
     ]
    },
    {
     "name": "stderr",
     "output_type": "stream",
     "text": [
      "100%|██████████| 2/2 [00:00<00:00,  8.21it/s]\n",
      "Processing Images:  90%|█████████ | 450/500 [12:38<01:23,  1.67s/file]"
     ]
    },
    {
     "name": "stdout",
     "output_type": "stream",
     "text": [
      "Generated image saved at: dataset_str_0.05/18266-3.png\n"
     ]
    },
    {
     "name": "stderr",
     "output_type": "stream",
     "text": [
      "100%|██████████| 2/2 [00:00<00:00,  8.19it/s]\n",
      "Processing Images:  90%|█████████ | 451/500 [12:40<01:21,  1.67s/file]"
     ]
    },
    {
     "name": "stdout",
     "output_type": "stream",
     "text": [
      "Generated image saved at: dataset_str_0.05/01556-2.png\n"
     ]
    },
    {
     "name": "stderr",
     "output_type": "stream",
     "text": [
      "100%|██████████| 2/2 [00:00<00:00,  8.20it/s]\n",
      "Processing Images:  90%|█████████ | 452/500 [12:42<01:21,  1.71s/file]"
     ]
    },
    {
     "name": "stdout",
     "output_type": "stream",
     "text": [
      "Generated image saved at: dataset_str_0.05/20958-3.png\n"
     ]
    },
    {
     "name": "stderr",
     "output_type": "stream",
     "text": [
      "100%|██████████| 2/2 [00:00<00:00,  8.22it/s]\n",
      "Processing Images:  91%|█████████ | 453/500 [12:43<01:20,  1.71s/file]"
     ]
    },
    {
     "name": "stdout",
     "output_type": "stream",
     "text": [
      "Generated image saved at: dataset_str_0.05/26762-4.png\n"
     ]
    },
    {
     "name": "stderr",
     "output_type": "stream",
     "text": [
      "100%|██████████| 2/2 [00:00<00:00,  8.22it/s]\n",
      "Processing Images:  91%|█████████ | 454/500 [12:45<01:17,  1.68s/file]"
     ]
    },
    {
     "name": "stdout",
     "output_type": "stream",
     "text": [
      "Generated image saved at: dataset_str_0.05/18266-1.png\n"
     ]
    },
    {
     "name": "stderr",
     "output_type": "stream",
     "text": [
      "100%|██████████| 2/2 [00:00<00:00,  8.16it/s]\n",
      "Processing Images:  91%|█████████ | 455/500 [12:47<01:15,  1.69s/file]"
     ]
    },
    {
     "name": "stdout",
     "output_type": "stream",
     "text": [
      "Generated image saved at: dataset_str_0.05/22832-5.png\n"
     ]
    },
    {
     "name": "stderr",
     "output_type": "stream",
     "text": [
      "100%|██████████| 2/2 [00:00<00:00,  8.17it/s]\n",
      "Processing Images:  91%|█████████ | 456/500 [12:48<01:13,  1.66s/file]"
     ]
    },
    {
     "name": "stdout",
     "output_type": "stream",
     "text": [
      "Generated image saved at: dataset_str_0.05/03152-4.png\n"
     ]
    },
    {
     "name": "stderr",
     "output_type": "stream",
     "text": [
      "100%|██████████| 2/2 [00:00<00:00,  8.18it/s]\n",
      "Processing Images:  91%|█████████▏| 457/500 [12:50<01:11,  1.67s/file]"
     ]
    },
    {
     "name": "stdout",
     "output_type": "stream",
     "text": [
      "Generated image saved at: dataset_str_0.05/37925-2.png\n"
     ]
    },
    {
     "name": "stderr",
     "output_type": "stream",
     "text": [
      "100%|██████████| 2/2 [00:00<00:00,  8.13it/s]\n",
      "Processing Images:  92%|█████████▏| 458/500 [12:52<01:11,  1.69s/file]"
     ]
    },
    {
     "name": "stdout",
     "output_type": "stream",
     "text": [
      "Generated image saved at: dataset_str_0.05/07984-5.png\n"
     ]
    },
    {
     "name": "stderr",
     "output_type": "stream",
     "text": [
      "100%|██████████| 2/2 [00:00<00:00,  8.18it/s]\n",
      "Processing Images:  92%|█████████▏| 459/500 [12:53<01:08,  1.67s/file]"
     ]
    },
    {
     "name": "stdout",
     "output_type": "stream",
     "text": [
      "Generated image saved at: dataset_str_0.05/40153-3.png\n"
     ]
    },
    {
     "name": "stderr",
     "output_type": "stream",
     "text": [
      "100%|██████████| 2/2 [00:00<00:00,  8.21it/s]\n",
      "Processing Images:  92%|█████████▏| 460/500 [12:55<01:07,  1.68s/file]"
     ]
    },
    {
     "name": "stdout",
     "output_type": "stream",
     "text": [
      "Generated image saved at: dataset_str_0.05/03757-3.png\n"
     ]
    },
    {
     "name": "stderr",
     "output_type": "stream",
     "text": [
      "100%|██████████| 2/2 [00:00<00:00,  8.13it/s]\n",
      "Processing Images:  92%|█████████▏| 461/500 [12:57<01:03,  1.63s/file]"
     ]
    },
    {
     "name": "stdout",
     "output_type": "stream",
     "text": [
      "Generated image saved at: dataset_str_0.05/39219-3.png\n"
     ]
    },
    {
     "name": "stderr",
     "output_type": "stream",
     "text": [
      "100%|██████████| 2/2 [00:00<00:00,  8.15it/s]\n",
      "Processing Images:  92%|█████████▏| 462/500 [12:58<01:01,  1.62s/file]"
     ]
    },
    {
     "name": "stdout",
     "output_type": "stream",
     "text": [
      "Generated image saved at: dataset_str_0.05/34372-3.png\n"
     ]
    },
    {
     "name": "stderr",
     "output_type": "stream",
     "text": [
      "100%|██████████| 2/2 [00:00<00:00,  8.14it/s]\n",
      "Processing Images:  93%|█████████▎| 463/500 [13:00<01:00,  1.64s/file]"
     ]
    },
    {
     "name": "stdout",
     "output_type": "stream",
     "text": [
      "Generated image saved at: dataset_str_0.05/11465-1.png\n"
     ]
    },
    {
     "name": "stderr",
     "output_type": "stream",
     "text": [
      "100%|██████████| 2/2 [00:00<00:00,  8.20it/s]\n",
      "Processing Images:  93%|█████████▎| 464/500 [13:02<01:00,  1.67s/file]"
     ]
    },
    {
     "name": "stdout",
     "output_type": "stream",
     "text": [
      "Generated image saved at: dataset_str_0.05/26127-3.png\n"
     ]
    },
    {
     "name": "stderr",
     "output_type": "stream",
     "text": [
      "100%|██████████| 2/2 [00:00<00:00,  8.11it/s]\n",
      "Processing Images:  93%|█████████▎| 465/500 [13:03<00:59,  1.71s/file]"
     ]
    },
    {
     "name": "stdout",
     "output_type": "stream",
     "text": [
      "Generated image saved at: dataset_str_0.05/22064-1.png\n"
     ]
    },
    {
     "name": "stderr",
     "output_type": "stream",
     "text": [
      "100%|██████████| 2/2 [00:00<00:00,  8.19it/s]\n",
      "Processing Images:  93%|█████████▎| 466/500 [13:05<00:58,  1.72s/file]"
     ]
    },
    {
     "name": "stdout",
     "output_type": "stream",
     "text": [
      "Generated image saved at: dataset_str_0.05/31780-5.png\n"
     ]
    },
    {
     "name": "stderr",
     "output_type": "stream",
     "text": [
      "100%|██████████| 2/2 [00:00<00:00,  8.20it/s]\n",
      "Processing Images:  93%|█████████▎| 467/500 [13:07<00:56,  1.71s/file]"
     ]
    },
    {
     "name": "stdout",
     "output_type": "stream",
     "text": [
      "Generated image saved at: dataset_str_0.05/10455-1.png\n"
     ]
    },
    {
     "name": "stderr",
     "output_type": "stream",
     "text": [
      "100%|██████████| 2/2 [00:00<00:00,  8.14it/s]\n",
      "Processing Images:  94%|█████████▎| 468/500 [13:09<00:54,  1.70s/file]"
     ]
    },
    {
     "name": "stdout",
     "output_type": "stream",
     "text": [
      "Generated image saved at: dataset_str_0.05/47819-3.png\n"
     ]
    },
    {
     "name": "stderr",
     "output_type": "stream",
     "text": [
      "100%|██████████| 2/2 [00:00<00:00,  8.22it/s]\n",
      "Processing Images:  94%|█████████▍| 469/500 [13:10<00:53,  1.73s/file]"
     ]
    },
    {
     "name": "stdout",
     "output_type": "stream",
     "text": [
      "Generated image saved at: dataset_str_0.05/31127-3.png\n"
     ]
    },
    {
     "name": "stderr",
     "output_type": "stream",
     "text": [
      "100%|██████████| 2/2 [00:00<00:00,  8.19it/s]\n",
      "Processing Images:  94%|█████████▍| 470/500 [13:12<00:51,  1.71s/file]"
     ]
    },
    {
     "name": "stdout",
     "output_type": "stream",
     "text": [
      "Generated image saved at: dataset_str_0.05/36645-4.png\n"
     ]
    },
    {
     "name": "stderr",
     "output_type": "stream",
     "text": [
      "100%|██████████| 2/2 [00:00<00:00,  8.19it/s]\n",
      "Processing Images:  94%|█████████▍| 471/500 [13:14<00:48,  1.68s/file]"
     ]
    },
    {
     "name": "stdout",
     "output_type": "stream",
     "text": [
      "Generated image saved at: dataset_str_0.05/09795-5.png\n"
     ]
    },
    {
     "name": "stderr",
     "output_type": "stream",
     "text": [
      "100%|██████████| 2/2 [00:00<00:00,  8.20it/s]\n",
      "Processing Images:  94%|█████████▍| 472/500 [13:15<00:47,  1.70s/file]"
     ]
    },
    {
     "name": "stdout",
     "output_type": "stream",
     "text": [
      "Generated image saved at: dataset_str_0.05/03672-5.png\n"
     ]
    },
    {
     "name": "stderr",
     "output_type": "stream",
     "text": [
      "100%|██████████| 2/2 [00:00<00:00,  8.19it/s]\n",
      "Processing Images:  95%|█████████▍| 473/500 [13:17<00:45,  1.69s/file]"
     ]
    },
    {
     "name": "stdout",
     "output_type": "stream",
     "text": [
      "Generated image saved at: dataset_str_0.05/20543-4.png\n"
     ]
    },
    {
     "name": "stderr",
     "output_type": "stream",
     "text": [
      "100%|██████████| 2/2 [00:00<00:00,  8.18it/s]\n",
      "Processing Images:  95%|█████████▍| 474/500 [13:19<00:44,  1.70s/file]"
     ]
    },
    {
     "name": "stdout",
     "output_type": "stream",
     "text": [
      "Generated image saved at: dataset_str_0.05/37237-2.png\n"
     ]
    },
    {
     "name": "stderr",
     "output_type": "stream",
     "text": [
      "100%|██████████| 2/2 [00:00<00:00,  8.22it/s]\n",
      "Processing Images:  95%|█████████▌| 475/500 [13:20<00:42,  1.69s/file]"
     ]
    },
    {
     "name": "stdout",
     "output_type": "stream",
     "text": [
      "Generated image saved at: dataset_str_0.05/01556-4.png\n"
     ]
    },
    {
     "name": "stderr",
     "output_type": "stream",
     "text": [
      "100%|██████████| 2/2 [00:00<00:00,  8.22it/s]\n",
      "Processing Images:  95%|█████████▌| 476/500 [13:22<00:40,  1.68s/file]"
     ]
    },
    {
     "name": "stdout",
     "output_type": "stream",
     "text": [
      "Generated image saved at: dataset_str_0.05/29457-1.png\n"
     ]
    },
    {
     "name": "stderr",
     "output_type": "stream",
     "text": [
      "100%|██████████| 2/2 [00:00<00:00,  8.19it/s]\n",
      "Processing Images:  95%|█████████▌| 477/500 [13:24<00:38,  1.69s/file]"
     ]
    },
    {
     "name": "stdout",
     "output_type": "stream",
     "text": [
      "Generated image saved at: dataset_str_0.05/37237-3.png\n"
     ]
    },
    {
     "name": "stderr",
     "output_type": "stream",
     "text": [
      "100%|██████████| 2/2 [00:00<00:00,  8.16it/s]\n",
      "Processing Images:  96%|█████████▌| 478/500 [13:26<00:37,  1.70s/file]"
     ]
    },
    {
     "name": "stdout",
     "output_type": "stream",
     "text": [
      "Generated image saved at: dataset_str_0.05/37025-1.png\n"
     ]
    },
    {
     "name": "stderr",
     "output_type": "stream",
     "text": [
      "100%|██████████| 2/2 [00:00<00:00,  8.19it/s]\n",
      "Processing Images:  96%|█████████▌| 479/500 [13:27<00:35,  1.71s/file]"
     ]
    },
    {
     "name": "stdout",
     "output_type": "stream",
     "text": [
      "Generated image saved at: dataset_str_0.05/12823-2.png\n"
     ]
    },
    {
     "name": "stderr",
     "output_type": "stream",
     "text": [
      "100%|██████████| 2/2 [00:00<00:00,  8.19it/s]\n",
      "Processing Images:  96%|█████████▌| 480/500 [13:29<00:34,  1.73s/file]"
     ]
    },
    {
     "name": "stdout",
     "output_type": "stream",
     "text": [
      "Generated image saved at: dataset_str_0.05/10840-4.png\n"
     ]
    },
    {
     "name": "stderr",
     "output_type": "stream",
     "text": [
      "100%|██████████| 2/2 [00:00<00:00,  8.23it/s]\n",
      "Processing Images:  96%|█████████▌| 481/500 [13:31<00:33,  1.74s/file]"
     ]
    },
    {
     "name": "stdout",
     "output_type": "stream",
     "text": [
      "Generated image saved at: dataset_str_0.05/32042-1.png\n"
     ]
    },
    {
     "name": "stderr",
     "output_type": "stream",
     "text": [
      "100%|██████████| 2/2 [00:00<00:00,  8.21it/s]\n",
      "Processing Images:  96%|█████████▋| 482/500 [13:33<00:31,  1.74s/file]"
     ]
    },
    {
     "name": "stdout",
     "output_type": "stream",
     "text": [
      "Generated image saved at: dataset_str_0.05/40022-4.png\n"
     ]
    },
    {
     "name": "stderr",
     "output_type": "stream",
     "text": [
      "100%|██████████| 2/2 [00:00<00:00,  8.17it/s]\n",
      "Processing Images:  97%|█████████▋| 483/500 [13:34<00:29,  1.72s/file]"
     ]
    },
    {
     "name": "stdout",
     "output_type": "stream",
     "text": [
      "Generated image saved at: dataset_str_0.05/12339-4.png\n"
     ]
    },
    {
     "name": "stderr",
     "output_type": "stream",
     "text": [
      "100%|██████████| 2/2 [00:00<00:00,  8.18it/s]\n",
      "Processing Images:  97%|█████████▋| 484/500 [13:36<00:27,  1.73s/file]"
     ]
    },
    {
     "name": "stdout",
     "output_type": "stream",
     "text": [
      "Generated image saved at: dataset_str_0.05/15516-5.png\n"
     ]
    },
    {
     "name": "stderr",
     "output_type": "stream",
     "text": [
      "100%|██████████| 2/2 [00:00<00:00,  8.17it/s]\n",
      "Processing Images:  97%|█████████▋| 485/500 [13:38<00:25,  1.71s/file]"
     ]
    },
    {
     "name": "stdout",
     "output_type": "stream",
     "text": [
      "Generated image saved at: dataset_str_0.05/13765-3.png\n"
     ]
    },
    {
     "name": "stderr",
     "output_type": "stream",
     "text": [
      "100%|██████████| 2/2 [00:00<00:00,  8.15it/s]\n",
      "Processing Images:  97%|█████████▋| 486/500 [13:39<00:24,  1.71s/file]"
     ]
    },
    {
     "name": "stdout",
     "output_type": "stream",
     "text": [
      "Generated image saved at: dataset_str_0.05/45030-4.png\n"
     ]
    },
    {
     "name": "stderr",
     "output_type": "stream",
     "text": [
      "100%|██████████| 2/2 [00:00<00:00,  8.20it/s]\n",
      "Processing Images:  97%|█████████▋| 487/500 [13:41<00:21,  1.69s/file]"
     ]
    },
    {
     "name": "stdout",
     "output_type": "stream",
     "text": [
      "Generated image saved at: dataset_str_0.05/18266-5.png\n"
     ]
    },
    {
     "name": "stderr",
     "output_type": "stream",
     "text": [
      "100%|██████████| 2/2 [00:00<00:00,  8.18it/s]\n",
      "Processing Images:  98%|█████████▊| 488/500 [13:43<00:20,  1.71s/file]"
     ]
    },
    {
     "name": "stdout",
     "output_type": "stream",
     "text": [
      "Generated image saved at: dataset_str_0.05/18760-4.png\n"
     ]
    },
    {
     "name": "stderr",
     "output_type": "stream",
     "text": [
      "100%|██████████| 2/2 [00:00<00:00,  8.03it/s]\n",
      "Processing Images:  98%|█████████▊| 489/500 [13:44<00:17,  1.58s/file]"
     ]
    },
    {
     "name": "stdout",
     "output_type": "stream",
     "text": [
      "Generated image saved at: dataset_str_0.05/14178-2.png\n"
     ]
    },
    {
     "name": "stderr",
     "output_type": "stream",
     "text": [
      "100%|██████████| 2/2 [00:00<00:00,  8.21it/s]\n",
      "Processing Images:  98%|█████████▊| 490/500 [13:46<00:16,  1.61s/file]"
     ]
    },
    {
     "name": "stdout",
     "output_type": "stream",
     "text": [
      "Generated image saved at: dataset_str_0.05/04242-5.png\n"
     ]
    },
    {
     "name": "stderr",
     "output_type": "stream",
     "text": [
      "100%|██████████| 2/2 [00:00<00:00,  8.20it/s]\n",
      "Processing Images:  98%|█████████▊| 491/500 [13:47<00:14,  1.65s/file]"
     ]
    },
    {
     "name": "stdout",
     "output_type": "stream",
     "text": [
      "Generated image saved at: dataset_str_0.05/15516-2.png\n"
     ]
    },
    {
     "name": "stderr",
     "output_type": "stream",
     "text": [
      "100%|██████████| 2/2 [00:00<00:00,  8.19it/s]\n",
      "Processing Images:  98%|█████████▊| 492/500 [13:49<00:13,  1.67s/file]"
     ]
    },
    {
     "name": "stdout",
     "output_type": "stream",
     "text": [
      "Generated image saved at: dataset_str_0.05/39103-5.png\n"
     ]
    },
    {
     "name": "stderr",
     "output_type": "stream",
     "text": [
      "100%|██████████| 2/2 [00:00<00:00,  8.13it/s]\n",
      "Processing Images:  99%|█████████▊| 493/500 [13:51<00:11,  1.70s/file]"
     ]
    },
    {
     "name": "stdout",
     "output_type": "stream",
     "text": [
      "Generated image saved at: dataset_str_0.05/31577-1.png\n"
     ]
    },
    {
     "name": "stderr",
     "output_type": "stream",
     "text": [
      "100%|██████████| 2/2 [00:00<00:00,  8.18it/s]\n",
      "Processing Images:  99%|█████████▉| 494/500 [13:53<00:10,  1.72s/file]"
     ]
    },
    {
     "name": "stdout",
     "output_type": "stream",
     "text": [
      "Generated image saved at: dataset_str_0.05/41630-5.png\n"
     ]
    },
    {
     "name": "stderr",
     "output_type": "stream",
     "text": [
      "100%|██████████| 2/2 [00:00<00:00,  8.15it/s]\n",
      "Processing Images:  99%|█████████▉| 495/500 [13:54<00:08,  1.70s/file]"
     ]
    },
    {
     "name": "stdout",
     "output_type": "stream",
     "text": [
      "Generated image saved at: dataset_str_0.05/37404-5.png\n"
     ]
    },
    {
     "name": "stderr",
     "output_type": "stream",
     "text": [
      "100%|██████████| 2/2 [00:00<00:00,  8.18it/s]\n",
      "Processing Images:  99%|█████████▉| 496/500 [13:56<00:06,  1.65s/file]"
     ]
    },
    {
     "name": "stdout",
     "output_type": "stream",
     "text": [
      "Generated image saved at: dataset_str_0.05/09795-1.png\n"
     ]
    },
    {
     "name": "stderr",
     "output_type": "stream",
     "text": [
      "100%|██████████| 2/2 [00:00<00:00,  8.16it/s]\n",
      "Processing Images:  99%|█████████▉| 497/500 [13:58<00:05,  1.67s/file]"
     ]
    },
    {
     "name": "stdout",
     "output_type": "stream",
     "text": [
      "Generated image saved at: dataset_str_0.05/37025-4.png\n"
     ]
    },
    {
     "name": "stderr",
     "output_type": "stream",
     "text": [
      "100%|██████████| 2/2 [00:00<00:00,  8.18it/s]\n",
      "Processing Images: 100%|█████████▉| 498/500 [13:59<00:03,  1.65s/file]"
     ]
    },
    {
     "name": "stdout",
     "output_type": "stream",
     "text": [
      "Generated image saved at: dataset_str_0.05/47596-5.png\n"
     ]
    },
    {
     "name": "stderr",
     "output_type": "stream",
     "text": [
      "100%|██████████| 2/2 [00:00<00:00,  8.18it/s]\n",
      "Processing Images: 100%|█████████▉| 499/500 [14:01<00:01,  1.66s/file]"
     ]
    },
    {
     "name": "stdout",
     "output_type": "stream",
     "text": [
      "Generated image saved at: dataset_str_0.05/36585-2.png\n"
     ]
    },
    {
     "name": "stderr",
     "output_type": "stream",
     "text": [
      "100%|██████████| 2/2 [00:00<00:00,  8.16it/s]\n",
      "Processing Images: 100%|██████████| 500/500 [14:03<00:00,  1.69s/file]"
     ]
    },
    {
     "name": "stdout",
     "output_type": "stream",
     "text": [
      "Generated image saved at: dataset_str_0.05/41630-4.png\n"
     ]
    },
    {
     "name": "stderr",
     "output_type": "stream",
     "text": [
      "\n"
     ]
    }
   ],
   "source": [
    "import os\n",
    "import random\n",
    "from PIL import Image\n",
    "import torch\n",
    "from tqdm import tqdm\n",
    "\n",
    "# Set a debug limit (change this value to None for no limit)\n",
    "DEBUG = None  # Limit for debugging; set to None to process all images\n",
    "\n",
    "# Input folder containing all images\n",
    "input_folder = \"/media/SSD_mmlab/martina.dangelo/fake-image-detectors/SD_script/input_imgs/Dataset/TrueFake/PreSocial/Real/FORLAB/\"\n",
    "\n",
    "# Prompt and negative prompt\n",
    "prompt = (\n",
    "    \"\"\n",
    ")\n",
    "negative = (\n",
    "    \"\"\n",
    ")\n",
    "\n",
    "# Parameters\n",
    "num_inference_steps = 50  # Passi di inferenza medi, bilanciando velocità e dettaglio.\n",
    "guidance_scale = 10  # Livello intermedio-alto per una buona creatività mantenendo una chiara aderenza al prompt.\n",
    "strength = 0.05  # Degree of transformation (0.0 = no change, 1.0 = full transformation)\n",
    "height = 1024  # Image height (adjust as needed)\n",
    "width = 1024   # Image width (adjust as needed)\n",
    "\n",
    "# Output folder\n",
    "output_folder = f\"dataset_str_{str(strength)}\"\n",
    "os.makedirs(output_folder, exist_ok=True)\n",
    "\n",
    "\n",
    "# Iterate through the input folder\n",
    "image_files = [f for f in os.listdir(input_folder) if f.lower().endswith(('.png', '.jpg', '.jpeg'))]\n",
    "if DEBUG:\n",
    "    image_files = image_files[:DEBUG]  # Apply debug limit here\n",
    "\n",
    "for idx, image_file in enumerate(tqdm(image_files, desc=\"Processing Images\", unit=\"file\", position=0)):\n",
    "    input_image_path = os.path.join(input_folder, image_file)\n",
    "\n",
    "    # Load and preprocess the input image\n",
    "    if not os.path.exists(input_image_path):\n",
    "        print(f\"Skipping missing file: {input_image_path}\")\n",
    "        continue\n",
    "\n",
    "    init_image = Image.open(input_image_path).convert(\"RGB\")\n",
    "    init_image = init_image.resize((width, height))  # Resize to model dimensions\n",
    "\n",
    "    # Set random seed for reproducibility\n",
    "    #seed = random.randint(1, 1000)\n",
    "    #print(f\"Processing '{image_file}' with Seed: {seed}\")\n",
    "    seed=42\n",
    "    generator = torch.Generator(device=\"cuda\").manual_seed(seed)\n",
    "\n",
    "    # Generate the image\n",
    "    image = pipeline(\n",
    "        prompt=prompt,\n",
    "        negative_prompt=negative,\n",
    "        image=init_image,                          # Input image\n",
    "        strength=strength,                         # Degree of transformation\n",
    "        num_inference_steps=num_inference_steps,\n",
    "        guidance_scale=guidance_scale,             # Creativity\n",
    "        generator=generator,\n",
    "    ).images[0]\n",
    "\n",
    "    # Save the generated image with the same name\n",
    "    output_path = os.path.join(output_folder, image_file)  # Modified: Preserve original name\n",
    "    image.save(output_path)\n",
    "\n",
    "    print(f\"Generated image saved at: {output_path}\")\n"
   ]
  },
  {
   "cell_type": "markdown",
   "metadata": {},
   "source": [
    "# zip the files"
   ]
  },
  {
   "cell_type": "code",
   "execution_count": 1,
   "metadata": {},
   "outputs": [
    {
     "name": "stdout",
     "output_type": "stream",
     "text": [
      "Folders zipped into /media/SSD_mmlab/martina.dangelo/fake-image-detectors/SD_script/imgs_SDXL_greater_than_0.05.zip\n"
     ]
    }
   ],
   "source": [
    "import zipfile\n",
    "import os\n",
    "\n",
    "# Define the folders to zip and the destination zip file\n",
    "folders_to_zip = (\n",
    "    \"/media/SSD_mmlab/martina.dangelo/fake-image-detectors/SD_script/dataset_str_0.1\",\n",
    "    \"/media/SSD_mmlab/martina.dangelo/fake-image-detectors/SD_script/dataset_str_0.2\",\n",
    "    \"/media/SSD_mmlab/martina.dangelo/fake-image-detectors/SD_script/dataset_str_0.05\",\n",
    "    \"/media/SSD_mmlab/martina.dangelo/fake-image-detectors/SD_script/dataset_str_0.15\"\n",
    ")\n",
    "destination_dir = \"/media/SSD_mmlab/martina.dangelo/fake-image-detectors/SD_script/\"\n",
    "zip_file_path = os.path.join(destination_dir, \"imgs_SDXL_greater_than_0.05.zip\")\n",
    "\n",
    "# Ensure the destination directory exists\n",
    "os.makedirs(destination_dir, exist_ok=True)\n",
    "\n",
    "# Create a zip file and add the folders\n",
    "with zipfile.ZipFile(zip_file_path, 'w', zipfile.ZIP_DEFLATED) as zipf:\n",
    "    for folder in folders_to_zip:\n",
    "        for root, dirs, files in os.walk(folder):\n",
    "            for file in files:\n",
    "                file_path = os.path.join(root, file)\n",
    "                # Add file to zip, keeping folder structure\n",
    "                arcname = os.path.relpath(file_path, os.path.dirname(folders_to_zip[0]))\n",
    "                zipf.write(file_path, arcname)\n",
    "\n",
    "print(f\"Folders zipped into {zip_file_path}\")"
   ]
  },
  {
   "cell_type": "code",
   "execution_count": null,
   "metadata": {},
   "outputs": [],
   "source": [
    "# launderare immagini nuove con stesse strength"
   ]
  }
 ],
 "metadata": {
  "kernelspec": {
   "display_name": "myvenv",
   "language": "python",
   "name": "python3"
  },
  "language_info": {
   "codemirror_mode": {
    "name": "ipython",
    "version": 3
   },
   "file_extension": ".py",
   "mimetype": "text/x-python",
   "name": "python",
   "nbconvert_exporter": "python",
   "pygments_lexer": "ipython3",
   "version": "3.10.12"
  }
 },
 "nbformat": 4,
 "nbformat_minor": 2
}
