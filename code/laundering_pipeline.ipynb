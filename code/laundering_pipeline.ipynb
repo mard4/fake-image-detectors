{
 "cells": [
  {
   "cell_type": "code",
   "execution_count": null,
   "metadata": {},
   "outputs": [],
   "source": [
    "from diffusers import StableDiffusionXLImg2ImgPipeline\n",
    "import torch\n",
    "from accelerate import infer_auto_device_map\n",
    "\n",
    "# Carica il modello dalla piattaforma Hugging Face\n",
    "model_id = \"stabilityai/stable-diffusion-xl-base-1.0\"\n",
    "\n",
    "# Configura la pipeline\n",
    "pipeline = StableDiffusionXLImg2ImgPipeline.from_pretrained(\n",
    "    model_id, \n",
    "    torch_dtype=torch.float32, \n",
    "    use_safetensors=True   # Per performance migliori\n",
    ").to(\"cuda\")"
   ]
  },
  {
   "cell_type": "code",
   "execution_count": null,
   "metadata": {},
   "outputs": [],
   "source": [
    "from PIL import Image\n",
    "import os\n",
    "import matplotlib.pyplot as plt\n",
    "\n",
    "FOLDER_PATH = \"/home/samuele.cappelletti/Dataset/TrueFake/PreSocial/Real/FORLAB\"\n",
    "OUTPUT_FOLDER_PATH = \"/home/samuele.cappelletti/Dataset_New/float32/TrueFake/PreSocial/Real/FORLAB_str_10\"\n",
    "FILE_FORMAT = \".png\"\n",
    "\n",
    "# Recupera lista img da FOLDER_PATH\n",
    "images = [os.path.join(FOLDER_PATH, file) for file in os.listdir(FOLDER_PATH) if file.lower().endswith(FILE_FORMAT)]\n",
    "\n",
    "os.makedirs(OUTPUT_FOLDER_PATH, exist_ok=True)  # Crea la directory se non esiste\n",
    "\n",
    "print(os.path.exists(FOLDER_PATH))\n",
    "print(os.path.exists(OUTPUT_FOLDER_PATH))\n",
    "    "
   ]
  },
  {
   "cell_type": "code",
   "execution_count": null,
   "metadata": {},
   "outputs": [],
   "source": [
    "# Prompt di esempio\n",
    "prompt = \" \"\n",
    "#negative = \"Blurry details, low-quality rendering, distorted proportions, overly dark colors, excessive noise, outdated architecture, dull lighting, cartoonish appearance\"\n",
    "negative = \" \"\n",
    "\n",
    "strength = 0.10\n",
    "num_inference_steps=50\n",
    "guidance_scale=10\n",
    "\n",
    "height = 1024  # Altezza in pixel\n",
    "width = 1024  # Larghezza in pixel\n",
    "        \n",
    "for image_path in images:\n",
    "    \n",
    "    input_image = Image.open(image_path)\n",
    "    file_name_no_ext, ext = os.path.splitext(os.path.basename(input_image.filename))\n",
    "    \n",
    "    input_image = input_image.convert(\"RGB\")\n",
    "    input_image = input_image.resize((1024, 1024))\n",
    "    \n",
    "    # Generazione dell'immagine\n",
    "    image = pipeline(\n",
    "        prompt=prompt,\n",
    "        image=input_image,\n",
    "        strength=strength,\n",
    "        num_inference_steps=num_inference_steps,    # Passi di inferenza (maggiore = più dettagli)\n",
    "        guidance_scale=guidance_scale              # Peso per il prompt (maggiore = risultati più aderenti)\n",
    "    ).images[0]\n",
    "    \n",
    "    # Salva l'immagine generata\n",
    "    image.save(OUTPUT_FOLDER_PATH + \"/\" + file_name_no_ext + FILE_FORMAT)"
   ]
  }
 ],
 "metadata": {
  "kernelspec": {
   "display_name": "trends",
   "language": "python",
   "name": "python3"
  },
  "language_info": {
   "codemirror_mode": {
    "name": "ipython",
    "version": 3
   },
   "file_extension": ".py",
   "mimetype": "text/x-python",
   "name": "python",
   "nbconvert_exporter": "python",
   "pygments_lexer": "ipython3",
   "version": "3.12.3"
  }
 },
 "nbformat": 4,
 "nbformat_minor": 2
}
